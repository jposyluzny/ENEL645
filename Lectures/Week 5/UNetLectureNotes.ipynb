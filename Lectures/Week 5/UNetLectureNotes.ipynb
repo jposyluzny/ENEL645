{
  "nbformat": 4,
  "nbformat_minor": 0,
  "metadata": {
    "colab": {
      "name": "UNetLectureNotes.ipynb",
      "provenance": [],
      "authorship_tag": "ABX9TyOs+6x7y8Nv1Q9x66CGezHB",
      "include_colab_link": true
    },
    "kernelspec": {
      "name": "python3",
      "display_name": "Python 3"
    }
  },
  "cells": [
    {
      "cell_type": "markdown",
      "metadata": {
        "id": "view-in-github",
        "colab_type": "text"
      },
      "source": [
        "<a href=\"https://colab.research.google.com/github/jposyluzny/ENEL645/blob/main/Lectures/Week%205/UNetLectureNotes.ipynb\" target=\"_parent\"><img src=\"https://colab.research.google.com/assets/colab-badge.svg\" alt=\"Open In Colab\"/></a>"
      ]
    },
    {
      "cell_type": "markdown",
      "metadata": {
        "id": "BU7wqVt3WJZN"
      },
      "source": [
        "# Learning Goals\r\n",
        "Understand the U-net architecture and its building blocks<br>\r\n",
        "Discuss potential applications of the U-net model"
      ]
    },
    {
      "cell_type": "markdown",
      "metadata": {
        "id": "dsCEbOaiWV6q"
      },
      "source": [
        "# The U-net Model\r\n",
        "The U-net is a fully convolutional neural network (ie, no fully connected layers)<br>\r\n",
        "Initially proposed for biomedical image segmentation problems<br>\r\n",
        "It maps an input of size N into an output also of size N (if the convolutions are padded)\r\n"
      ]
    },
    {
      "cell_type": "code",
      "metadata": {
        "id": "zrKcGLBDkbtY"
      },
      "source": [
        ""
      ],
      "execution_count": null,
      "outputs": []
    }
  ]
}