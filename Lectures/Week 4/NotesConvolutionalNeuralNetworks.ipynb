{
  "nbformat": 4,
  "nbformat_minor": 0,
  "metadata": {
    "colab": {
      "name": "NotesConvolutionalNeuralNetworks.ipynb",
      "provenance": [],
      "authorship_tag": "ABX9TyNx+Cfli2JymOFqbjM66qXE",
      "include_colab_link": true
    },
    "kernelspec": {
      "name": "python3",
      "display_name": "Python 3"
    }
  },
  "cells": [
    {
      "cell_type": "markdown",
      "metadata": {
        "id": "view-in-github",
        "colab_type": "text"
      },
      "source": [
        "<a href=\"https://colab.research.google.com/github/jposyluzny/ENEL645/blob/main/Lectures/Week%204/NotesConvolutionalNeuralNetworks.ipynb\" target=\"_parent\"><img src=\"https://colab.research.google.com/assets/colab-badge.svg\" alt=\"Open In Colab\"/></a>"
      ]
    },
    {
      "cell_type": "markdown",
      "metadata": {
        "id": "HEukqxZW9jYV"
      },
      "source": [
        "Convolutional neural networks share weights across inputs (i.e., connection sparsity)<br>\r\n",
        "Convolutions leverage local correlations (i.e., locality) <br>\r\n",
        "Imagine your input is a 256x256 image, your convolution size is 3 and your layer has 10 filters, how many parameters would the model have? 3x10+10 = 40 <br>\r\n",
        "CNNs depend on your data having local correlations. If the data does not have local correlations, then CNN is not an appropriate model for the problem. <br>\r\n",
        "A bias term is added after the convolution. <br>\r\n",
        "Although they are called Convoluted Neural Network, they are actually performing Cross Correlation Operations. Convolution happens when the kernel is reflected. <br>\r\n",
        "Image can be padded prior to convolution to preserve its dimensions <br>\r\n"
      ]
    },
    {
      "cell_type": "markdown",
      "metadata": {
        "id": "SVbqbHxoBOlZ"
      },
      "source": [
        "# N-Channel Images/Signals\r\n",
        "\r\n",
        "Results of convolutions are stacked resulting in n-channel images/signals. <br>\r\n",
        "Often, a convolutional layer has several filters so each filter results in a signal or image, and then the result of each filter gets concatenated. If we have 30 convolutions, then the output will be 30 signals/images that are concatenated, and the output is signal/image with a given number of channels."
      ]
    },
    {
      "cell_type": "markdown",
      "metadata": {
        "id": "O7dwyAbLEOse"
      },
      "source": [
        "# Convolution - multi channel input\r\n",
        "\r\n",
        "The convolutions encompass the channels of the input <br>\r\n",
        "A W1 x W2 convolution is actually a W1 x W2 x nchannels convolution. For example, if we had RGB channel, that would be 3 channels (Red, Blue Green). If we had a 3x3 convolution here, W1xW2 would be 3x3, but W1 x W2 x nchannels would be 3x3x3 <br>\r\n"
      ]
    },
    {
      "cell_type": "markdown",
      "metadata": {
        "id": "CsgBLp00Gt_6"
      },
      "source": [
        "# Max-Pooling\r\n",
        "\r\n",
        "Non-linear operation<br>\r\n",
        "Reduce dimensionality and computational cost<br>\r\n",
        "After a max-pooling, the number of filters in the subsequent layer is increased<br>\r\n",
        "If we're doing too many convolutions, computation cost can be expensive. Example, if we have a 4x4 grid, it can be broken down into 4 2x2 grids, and each maximum calculated in each 2x2 grid will be passed to the 2x2 max pool"
      ]
    },
    {
      "cell_type": "markdown",
      "metadata": {
        "id": "96STdB_AH8qL"
      },
      "source": [
        "# Flatten\r\n",
        "\r\n",
        "The flatten operation is applied before the fully connected layer."
      ]
    },
    {
      "cell_type": "markdown",
      "metadata": {
        "id": "Lxyis6EbJOjF"
      },
      "source": [
        "# Summary\r\n",
        "\r\n",
        "CNNs share weights and have sparse connections<br>\r\n",
        "They depend on local correlations to operate<br>\r\n",
        "The basic operations are convolutions and max-pooling layers<br>\r\n",
        "Implicit hierarchy of concepts"
      ]
    }
  ]
}