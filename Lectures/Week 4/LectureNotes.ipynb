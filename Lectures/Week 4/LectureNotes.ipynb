{
  "nbformat": 4,
  "nbformat_minor": 0,
  "metadata": {
    "colab": {
      "name": "LectureNotes.ipynb",
      "provenance": [],
      "authorship_tag": "ABX9TyPIRGnHzH4VeOl1YYVOBdCi",
      "include_colab_link": true
    },
    "kernelspec": {
      "name": "python3",
      "display_name": "Python 3"
    }
  },
  "cells": [
    {
      "cell_type": "markdown",
      "metadata": {
        "id": "view-in-github",
        "colab_type": "text"
      },
      "source": [
        "<a href=\"https://colab.research.google.com/github/jposyluzny/ENEL645/blob/main/Lectures/Week%204/LectureNotes.ipynb\" target=\"_parent\"><img src=\"https://colab.research.google.com/assets/colab-badge.svg\" alt=\"Open In Colab\"/></a>"
      ]
    },
    {
      "cell_type": "markdown",
      "metadata": {
        "id": "yL4oak3WSzqV"
      },
      "source": [
        "# Data Augmentation"
      ]
    },
    {
      "cell_type": "markdown",
      "metadata": {
        "id": "E-IVndFqTBbs"
      },
      "source": [
        "Data augmentation consists of synthesizing new data from the available data\r\n",
        "\r\n",
        "\r\n",
        "*   Mitigates overfitting\r\n",
        "*   Improves model performance\r\n",
        "*   Address potential class imbalance in your dataset\r\n",
        "\r\n",
        "\r\n",
        "\r\n"
      ]
    }
  ]
}