{
  "nbformat": 4,
  "nbformat_minor": 0,
  "metadata": {
    "colab": {
      "name": "DefiningFirstNeuralNet.ipynb",
      "provenance": [],
      "authorship_tag": "ABX9TyNjJqNZJTdoEDH72EDpxH8a",
      "include_colab_link": true
    },
    "kernelspec": {
      "name": "python3",
      "display_name": "Python 3"
    }
  },
  "cells": [
    {
      "cell_type": "markdown",
      "metadata": {
        "id": "view-in-github",
        "colab_type": "text"
      },
      "source": [
        "<a href=\"https://colab.research.google.com/github/jposyluzny/ENEL645/blob/main/Lectures/Week%202/DefiningFirstNeuralNet.ipynb\" target=\"_parent\"><img src=\"https://colab.research.google.com/assets/colab-badge.svg\" alt=\"Open In Colab\"/></a>"
      ]
    },
    {
      "cell_type": "markdown",
      "metadata": {
        "id": "XOvXqdVYqWHK"
      },
      "source": [
        "# Fully Connected Neural Networks\r\n",
        "\r\n",
        "This tutorial demonstrates the usage of fully connected nueral-networks to classify 2-dimensional synthetic data. We implement the network using Keras and TensorFlow. Keras and TensorFlow are powerful frameworks that allow you to build many deep-learning-based applications. <br>\r\n",
        "The goals of this tutorial are:\r\n",
        "\r\n",
        "\r\n",
        "*   Introduce Keras and TensorFlow to implement fully connected neural networks\r\n",
        "*   Illustrate the non-linear decision rules that multi-layer neural networks can achieve."
      ]
    },
    {
      "cell_type": "markdown",
      "metadata": {
        "id": "ssjGEczAq6FQ"
      },
      "source": [
        "# Importing Python Libraries"
      ]
    },
    {
      "cell_type": "code",
      "metadata": {
        "colab": {
          "base_uri": "https://localhost:8080/"
        },
        "id": "z0veMD_fsIjl",
        "outputId": "0612a13e-aeb7-4506-cb9f-e28739c946e5"
      },
      "source": [
        "from google.colab import drive\r\n",
        "drive.mount('/content/gdrive')"
      ],
      "execution_count": 34,
      "outputs": [
        {
          "output_type": "stream",
          "text": [
            "Drive already mounted at /content/gdrive; to attempt to forcibly remount, call drive.mount(\"/content/gdrive\", force_remount=True).\n"
          ],
          "name": "stdout"
        }
      ]
    },
    {
      "cell_type": "code",
      "metadata": {
        "colab": {
          "base_uri": "https://localhost:8080/"
        },
        "id": "NORjF1QnuvvK",
        "outputId": "35059e49-0599-4935-d32e-7377503b676e"
      },
      "source": [
        "! ls gdrive/MyDrive/ENEL645-tutorial/ENEL645-master/"
      ],
      "execution_count": 35,
      "outputs": [
        {
          "output_type": "stream",
          "text": [
            "Figures     LICENSE  OUTLINE.txt  README.md\n",
            "JNotebooks  Modules  PDFs\t  Short-tutorials\n"
          ],
          "name": "stdout"
        }
      ]
    },
    {
      "cell_type": "code",
      "metadata": {
        "id": "36irNlkQo_1s"
      },
      "source": [
        "%matplotlib inline\r\n",
        "import numpy as np\r\n",
        "import matplotlib.pyplot as plt\r\n",
        "\r\n",
        "import tensorflow as tf\r\n",
        "\r\n",
        "# physical_devices = tf.config.experimental.list_physical_devices('GPU')\r\n",
        "# tf.config.experimental.set_memory_growth(physical_devices[0], True)\r\n",
        "\r\n",
        "from tensorflow.keras.utils import to_categorical #Function to convert labels to onehot encoding\r\n",
        "from tensorflow.keras.models import Model\r\n",
        "from tensorflow.keras.layers import Dense, Activation, Input\r\n",
        "from tensorflow.keras.optimizers import SGD\r\n",
        "\r\n",
        "import sys\r\n",
        "\r\n",
        "# Adding dataset_utils to the system path so we can import it\r\n",
        "MY_UTILS_PATH = 'gdrive/MyDrive/ENEL645-tutorial/ENEL645-master/Modules/'\r\n",
        "\r\n",
        "if not MY_UTILS_PATH in sys.path:\r\n",
        "  sys.path.append(MY_UTILS_PATH)\r\n",
        "\r\n",
        "import dataset_utils"
      ],
      "execution_count": 36,
      "outputs": []
    },
    {
      "cell_type": "markdown",
      "metadata": {
        "id": "JO_ivTluvPCh"
      },
      "source": [
        "# Loading and Displaying a Synthetic 2D Dataset"
      ]
    },
    {
      "cell_type": "code",
      "metadata": {
        "colab": {
          "base_uri": "https://localhost:8080/",
          "height": 295
        },
        "id": "aYJLRDoltBNn",
        "outputId": "f72571e6-fd5d-4bd3-9d53-2d78487196e3"
      },
      "source": [
        "# Generating a synthetic dataset with four classes\r\n",
        "nsamples = 300\r\n",
        "\r\n",
        "# data = dataset_utils.corners(N = nsamples, scale=0.5, gapwidth = 3, cornerwidth=4) # linear dataset\r\n",
        "data = dataset_utils.crescent_full_moon(N = nsamples, r1 = 5, r2 = 10, r3 = 15) # non-linear dataset\r\n",
        "\r\n",
        "# Separating features (X) and labels (y)\r\n",
        "Y = data[:,-1].astype(int) # Labels\r\n",
        "X = data[:,:-1] # features\r\n",
        "\r\n",
        "# Number of classes\r\n",
        "k = np.unique(Y).size\r\n",
        "\r\n",
        "colors = np.array(['r', 'y', 'b', 'g'])\r\n",
        "\r\n",
        "# Displaying the dataset\r\n",
        "plt.scatter(X[:,0], X[:,1], c=Y)\r\n",
        "\r\n",
        "plt.xlabel(\"x1\")\r\n",
        "plt.ylabel(\"x2\")\r\n",
        "plt.grid()\r\n",
        "plt.title(\"Dataset\")\r\n",
        "plt.show()"
      ],
      "execution_count": 65,
      "outputs": [
        {
          "output_type": "display_data",
          "data": {
            "image/png": "[encoded data removed]",
            "text/plain": [
              "<Figure size 432x288 with 1 Axes>"
            ]
          },
          "metadata": {
            "tags": [],
            "needs_background": "light"
          }
        }
      ]
    },
    {
      "cell_type": "markdown",
      "metadata": {
        "id": "2W7My9e8wJzS"
      },
      "source": [
        "# Train, Validation, and Test Sets Split"
      ]
    },
    {
      "cell_type": "code",
      "metadata": {
        "id": "JCBWz6HTv0sw"
      },
      "source": [
        "# First we will shuffle the samples\r\n",
        "indexes = np.arange(X.shape[0])\r\n",
        "np.random.shuffle(indexes)\r\n",
        "X = X[indexes,:]\r\n",
        "Y = Y[indexes]\r\n",
        "\r\n",
        "# Then, we split our data into train/val/test sets\r\n",
        "train_split = np.int(0.5*Y.size)\r\n",
        "val_split = np.int(0.75*Y.size)\r\n",
        "\r\n",
        "X_train = X[:train_split,:]\r\n",
        "Y_train = Y[:train_split]\r\n",
        "\r\n",
        "X_val = X[train_split:val_split,:]\r\n",
        "Y_val = Y[train_split:val_split]\r\n",
        "\r\n",
        "X_test = X[val_split:,:]\r\n",
        "Y_test = Y[val_split:]"
      ],
      "execution_count": 66,
      "outputs": []
    },
    {
      "cell_type": "markdown",
      "metadata": {
        "id": "u7LGY7mzxS-J"
      },
      "source": [
        "## Data Normalization"
      ]
    },
    {
      "cell_type": "code",
      "metadata": {
        "colab": {
          "base_uri": "https://localhost:8080/",
          "height": 295
        },
        "id": "KEf4a2k_wWDp",
        "outputId": "7de5fef9-1d98-4ff3-fe04-c335e6beca5c"
      },
      "source": [
        "# min-max data normalization\r\n",
        "x_train_min = X_train.min(axis = 0, keepdims = True) # keepdims means keep dimensionality of original array\r\n",
        "x_train_max = X_train.max(axis = 0, keepdims = True)\r\n",
        "\r\n",
        "X_train = (X_train - x_train_min)/(x_train_max - x_train_min)\r\n",
        "X_val = (X_val - x_train_min)/(x_train_max - x_train_min)\r\n",
        "X_test = (X_test - x_train_min)/(x_train_max - x_train_min)\r\n",
        "\r\n",
        "\r\n",
        "#####################################################################################\r\n",
        "#Activity suggestion:\r\n",
        "# Change the min-max normalization above by standardization ((X - mean)/(std))\r\n",
        "####################################################################################\r\n",
        "\r\n",
        "\r\n",
        "#Displaying the normalized train set\r\n",
        "plt.scatter(X_train[:,0],X_train[:,1],c=Y_train)\r\n",
        "plt.xlabel(\"x1\")\r\n",
        "plt.ylabel(\"x2\")\r\n",
        "plt.grid()\r\n",
        "plt.title(\"Normalized Train Set\")\r\n",
        "plt.show()"
      ],
      "execution_count": 67,
      "outputs": [
        {
          "output_type": "display_data",
          "data": {
            "image/png": "[encoded data removed]",
            "text/plain": [
              "<Figure size 432x288 with 1 Axes>"
            ]
          },
          "metadata": {
            "tags": [],
            "needs_background": "light"
          }
        }
      ]
    },
    {
      "cell_type": "markdown",
      "metadata": {
        "id": "h2viS7lhxxw_"
      },
      "source": [
        "# Representing Labels using onehot encoding"
      ]
    },
    {
      "cell_type": "code",
      "metadata": {
        "colab": {
          "base_uri": "https://localhost:8080/"
        },
        "id": "H2IVp29rxVmc",
        "outputId": "1f860887-6940-49c5-f1a1-71ea8928d7fe"
      },
      "source": [
        "Y_oh_train = to_categorical(Y_train, k) \r\n",
        "Y_oh_val = to_categorical(Y_val, k) \r\n",
        "Y_oh_test = to_categorical(Y_test, k)\r\n",
        "# Displaying the 5 first elements\r\n",
        "print('Y_train[:5]:')\r\n",
        "print(Y_train[:5])\r\n",
        "print('\\nY_oh_train[:5]=')\r\n",
        "print(Y_oh_train[:5])"
      ],
      "execution_count": 68,
      "outputs": [
        {
          "output_type": "stream",
          "text": [
            "Y_train[:5]:\n",
            "[1 1 1 1 1]\n",
            "\n",
            "Y_oh_train[:5]=\n",
            "[[0. 1.]\n",
            " [0. 1.]\n",
            " [0. 1.]\n",
            " [0. 1.]\n",
            " [0. 1.]]\n"
          ],
          "name": "stdout"
        }
      ]
    },
    {
      "cell_type": "markdown",
      "metadata": {
        "id": "693__tovyqiY"
      },
      "source": [
        "# Define a Fully Connected Neural Network with Keras"
      ]
    },
    {
      "cell_type": "code",
      "metadata": {
        "id": "2vEnk37ex-S-"
      },
      "source": [
        "def my_model(k, learning_rate = 0.15):\r\n",
        "  inputs = Input(shape=(2,))\r\n",
        "  l1 = Dense(10, activation='relu')(inputs) # relu = rectified layer units\r\n",
        "  out1 = Dense(k, activation='softmax')(l1)\r\n",
        "  model = Model(inputs=inputs, outputs = out1)\r\n",
        "  sgd = SGD(lr=learning_rate)\r\n",
        "  model.compile(optimizer=sgd, loss=\"categorical_crossentropy\", metrics = [\"accuracy\"])\r\n",
        "  return model"
      ],
      "execution_count": 76,
      "outputs": []
    },
    {
      "cell_type": "code",
      "metadata": {
        "colab": {
          "base_uri": "https://localhost:8080/"
        },
        "id": "IXzT81LDzAIX",
        "outputId": "9cf7c538-1468-47d3-a553-1886c7c49ccb"
      },
      "source": [
        "model = my_model(k)\r\n",
        "print(model.summary())"
      ],
      "execution_count": 77,
      "outputs": [
        {
          "output_type": "stream",
          "text": [
            "Model: \"model_7\"\n",
            "_________________________________________________________________\n",
            "Layer (type)                 Output Shape              Param #   \n",
            "=================================================================\n",
            "input_8 (InputLayer)         [(None, 2)]               0         \n",
            "_________________________________________________________________\n",
            "dense_7 (Dense)              (None, 10)                30        \n",
            "_________________________________________________________________\n",
            "dense_8 (Dense)              (None, 2)                 22        \n",
            "=================================================================\n",
            "Total params: 52\n",
            "Trainable params: 52\n",
            "Non-trainable params: 0\n",
            "_________________________________________________________________\n",
            "None\n"
          ],
          "name": "stdout"
        }
      ]
    },
    {
      "cell_type": "markdown",
      "metadata": {
        "id": "7JezGiCKzteS"
      },
      "source": [
        "# Training the Model"
      ]
    },
    {
      "cell_type": "code",
      "metadata": {
        "colab": {
          "base_uri": "https://localhost:8080/"
        },
        "id": "0jSFkLk8zdyI",
        "outputId": "08b400bf-96e1-49af-91df-7989222a0502"
      },
      "source": [
        "batch_size = train_split\r\n",
        "nb_epoch = 300\r\n",
        "n = X_train.shape[0] # number of training examples\r\n",
        "history = model.fit(X_train, Y_oh_train, validation_data = (X_val, Y_oh_val),\r\n",
        "                    batch_size=batch_size, epochs=nb_epoch,verbose=1)"
      ],
      "execution_count": 91,
      "outputs": [
        {
          "output_type": "stream",
          "text": [
            "Epoch 1/300\n",
            "1/1 [==============================] - 0s 96ms/step - loss: 0.0270 - accuracy: 0.9933 - val_loss: 0.0243 - val_accuracy: 1.0000\n",
            "Epoch 2/300\n",
            "1/1 [==============================] - 0s 44ms/step - loss: 0.0269 - accuracy: 0.9933 - val_loss: 0.0243 - val_accuracy: 1.0000\n",
            "Epoch 3/300\n",
            "1/1 [==============================] - 0s 47ms/step - loss: 0.0269 - accuracy: 0.9933 - val_loss: 0.0243 - val_accuracy: 1.0000\n",
            "Epoch 4/300\n",
            "1/1 [==============================] - 0s 48ms/step - loss: 0.0269 - accuracy: 0.9933 - val_loss: 0.0242 - val_accuracy: 1.0000\n",
            "Epoch 5/300\n",
            "1/1 [==============================] - 0s 219ms/step - loss: 0.0268 - accuracy: 0.9933 - val_loss: 0.0242 - val_accuracy: 1.0000\n",
            "Epoch 6/300\n",
            "1/1 [==============================] - 0s 53ms/step - loss: 0.0268 - accuracy: 0.9933 - val_loss: 0.0242 - val_accuracy: 1.0000\n",
            "Epoch 7/300\n",
            "1/1 [==============================] - 0s 45ms/step - loss: 0.0268 - accuracy: 0.9933 - val_loss: 0.0241 - val_accuracy: 1.0000\n",
            "Epoch 8/300\n",
            "1/1 [==============================] - 0s 43ms/step - loss: 0.0267 - accuracy: 0.9933 - val_loss: 0.0241 - val_accuracy: 1.0000\n",
            "Epoch 9/300\n",
            "1/1 [==============================] - 0s 47ms/step - loss: 0.0267 - accuracy: 0.9933 - val_loss: 0.0241 - val_accuracy: 1.0000\n",
            "Epoch 10/300\n",
            "1/1 [==============================] - 0s 44ms/step - loss: 0.0266 - accuracy: 0.9933 - val_loss: 0.0241 - val_accuracy: 1.0000\n",
            "Epoch 11/300\n",
            "1/1 [==============================] - 0s 54ms/step - loss: 0.0266 - accuracy: 0.9933 - val_loss: 0.0240 - val_accuracy: 1.0000\n",
            "Epoch 12/300\n",
            "1/1 [==============================] - 0s 58ms/step - loss: 0.0266 - accuracy: 0.9933 - val_loss: 0.0240 - val_accuracy: 1.0000\n",
            "Epoch 13/300\n",
            "1/1 [==============================] - 0s 45ms/step - loss: 0.0265 - accuracy: 0.9933 - val_loss: 0.0240 - val_accuracy: 1.0000\n",
            "Epoch 14/300\n",
            "1/1 [==============================] - 0s 51ms/step - loss: 0.0265 - accuracy: 0.9933 - val_loss: 0.0239 - val_accuracy: 1.0000\n",
            "Epoch 15/300\n",
            "1/1 [==============================] - 0s 49ms/step - loss: 0.0265 - accuracy: 0.9933 - val_loss: 0.0239 - val_accuracy: 1.0000\n",
            "Epoch 16/300\n",
            "1/1 [==============================] - 0s 49ms/step - loss: 0.0264 - accuracy: 0.9933 - val_loss: 0.0239 - val_accuracy: 1.0000\n",
            "Epoch 17/300\n",
            "1/1 [==============================] - 0s 47ms/step - loss: 0.0264 - accuracy: 0.9933 - val_loss: 0.0239 - val_accuracy: 1.0000\n",
            "Epoch 18/300\n",
            "1/1 [==============================] - 0s 48ms/step - loss: 0.0264 - accuracy: 0.9933 - val_loss: 0.0238 - val_accuracy: 1.0000\n",
            "Epoch 19/300\n",
            "1/1 [==============================] - 0s 48ms/step - loss: 0.0263 - accuracy: 0.9933 - val_loss: 0.0238 - val_accuracy: 1.0000\n",
            "Epoch 20/300\n",
            "1/1 [==============================] - 0s 48ms/step - loss: 0.0263 - accuracy: 0.9933 - val_loss: 0.0238 - val_accuracy: 1.0000\n",
            "Epoch 21/300\n",
            "1/1 [==============================] - 0s 48ms/step - loss: 0.0263 - accuracy: 0.9933 - val_loss: 0.0237 - val_accuracy: 1.0000\n",
            "Epoch 22/300\n",
            "1/1 [==============================] - 0s 50ms/step - loss: 0.0262 - accuracy: 0.9933 - val_loss: 0.0237 - val_accuracy: 1.0000\n",
            "Epoch 23/300\n",
            "1/1 [==============================] - 0s 51ms/step - loss: 0.0262 - accuracy: 0.9933 - val_loss: 0.0237 - val_accuracy: 1.0000\n",
            "Epoch 24/300\n",
            "1/1 [==============================] - 0s 48ms/step - loss: 0.0262 - accuracy: 0.9933 - val_loss: 0.0237 - val_accuracy: 1.0000\n",
            "Epoch 25/300\n",
            "1/1 [==============================] - 0s 48ms/step - loss: 0.0261 - accuracy: 0.9933 - val_loss: 0.0236 - val_accuracy: 1.0000\n",
            "Epoch 26/300\n",
            "1/1 [==============================] - 0s 54ms/step - loss: 0.0261 - accuracy: 0.9933 - val_loss: 0.0236 - val_accuracy: 1.0000\n",
            "Epoch 27/300\n",
            "1/1 [==============================] - 0s 47ms/step - loss: 0.0261 - accuracy: 0.9933 - val_loss: 0.0236 - val_accuracy: 1.0000\n",
            "Epoch 28/300\n",
            "1/1 [==============================] - 0s 46ms/step - loss: 0.0260 - accuracy: 0.9933 - val_loss: 0.0235 - val_accuracy: 1.0000\n",
            "Epoch 29/300\n",
            "1/1 [==============================] - 0s 47ms/step - loss: 0.0260 - accuracy: 0.9933 - val_loss: 0.0235 - val_accuracy: 1.0000\n",
            "Epoch 30/300\n",
            "1/1 [==============================] - 0s 44ms/step - loss: 0.0260 - accuracy: 0.9933 - val_loss: 0.0235 - val_accuracy: 1.0000\n",
            "Epoch 31/300\n",
            "1/1 [==============================] - 0s 51ms/step - loss: 0.0259 - accuracy: 0.9933 - val_loss: 0.0235 - val_accuracy: 1.0000\n",
            "Epoch 32/300\n",
            "1/1 [==============================] - 0s 51ms/step - loss: 0.0259 - accuracy: 0.9933 - val_loss: 0.0234 - val_accuracy: 1.0000\n",
            "Epoch 33/300\n",
            "1/1 [==============================] - 0s 48ms/step - loss: 0.0259 - accuracy: 0.9933 - val_loss: 0.0234 - val_accuracy: 1.0000\n",
            "Epoch 34/300\n",
            "1/1 [==============================] - 0s 47ms/step - loss: 0.0258 - accuracy: 0.9933 - val_loss: 0.0234 - val_accuracy: 1.0000\n",
            "Epoch 35/300\n",
            "1/1 [==============================] - 0s 48ms/step - loss: 0.0258 - accuracy: 0.9933 - val_loss: 0.0233 - val_accuracy: 1.0000\n",
            "Epoch 36/300\n",
            "1/1 [==============================] - 0s 51ms/step - loss: 0.0258 - accuracy: 0.9933 - val_loss: 0.0233 - val_accuracy: 1.0000\n",
            "Epoch 37/300\n",
            "1/1 [==============================] - 0s 47ms/step - loss: 0.0257 - accuracy: 0.9933 - val_loss: 0.0233 - val_accuracy: 1.0000\n",
            "Epoch 38/300\n",
            "1/1 [==============================] - 0s 46ms/step - loss: 0.0257 - accuracy: 0.9933 - val_loss: 0.0233 - val_accuracy: 1.0000\n",
            "Epoch 39/300\n",
            "1/1 [==============================] - 0s 61ms/step - loss: 0.0257 - accuracy: 0.9933 - val_loss: 0.0232 - val_accuracy: 1.0000\n",
            "Epoch 40/300\n",
            "1/1 [==============================] - 0s 54ms/step - loss: 0.0256 - accuracy: 0.9933 - val_loss: 0.0232 - val_accuracy: 1.0000\n",
            "Epoch 41/300\n",
            "1/1 [==============================] - 0s 47ms/step - loss: 0.0256 - accuracy: 0.9933 - val_loss: 0.0232 - val_accuracy: 1.0000\n",
            "Epoch 42/300\n",
            "1/1 [==============================] - 0s 50ms/step - loss: 0.0256 - accuracy: 0.9933 - val_loss: 0.0231 - val_accuracy: 1.0000\n",
            "Epoch 43/300\n",
            "1/1 [==============================] - 0s 52ms/step - loss: 0.0255 - accuracy: 0.9933 - val_loss: 0.0231 - val_accuracy: 1.0000\n",
            "Epoch 44/300\n",
            "1/1 [==============================] - 0s 67ms/step - loss: 0.0255 - accuracy: 0.9933 - val_loss: 0.0231 - val_accuracy: 1.0000\n",
            "Epoch 45/300\n",
            "1/1 [==============================] - 0s 54ms/step - loss: 0.0255 - accuracy: 0.9933 - val_loss: 0.0231 - val_accuracy: 1.0000\n",
            "Epoch 46/300\n",
            "1/1 [==============================] - 0s 45ms/step - loss: 0.0254 - accuracy: 0.9933 - val_loss: 0.0230 - val_accuracy: 1.0000\n",
            "Epoch 47/300\n",
            "1/1 [==============================] - 0s 43ms/step - loss: 0.0254 - accuracy: 0.9933 - val_loss: 0.0230 - val_accuracy: 1.0000\n",
            "Epoch 48/300\n",
            "1/1 [==============================] - 0s 51ms/step - loss: 0.0254 - accuracy: 0.9933 - val_loss: 0.0230 - val_accuracy: 1.0000\n",
            "Epoch 49/300\n",
            "1/1 [==============================] - 0s 53ms/step - loss: 0.0253 - accuracy: 0.9933 - val_loss: 0.0230 - val_accuracy: 1.0000\n",
            "Epoch 50/300\n",
            "1/1 [==============================] - 0s 54ms/step - loss: 0.0253 - accuracy: 0.9933 - val_loss: 0.0229 - val_accuracy: 1.0000\n",
            "Epoch 51/300\n",
            "1/1 [==============================] - 0s 51ms/step - loss: 0.0253 - accuracy: 0.9933 - val_loss: 0.0229 - val_accuracy: 1.0000\n",
            "Epoch 52/300\n",
            "1/1 [==============================] - 0s 48ms/step - loss: 0.0252 - accuracy: 0.9933 - val_loss: 0.0229 - val_accuracy: 1.0000\n",
            "Epoch 53/300\n",
            "1/1 [==============================] - 0s 54ms/step - loss: 0.0252 - accuracy: 0.9933 - val_loss: 0.0228 - val_accuracy: 1.0000\n",
            "Epoch 54/300\n",
            "1/1 [==============================] - 0s 49ms/step - loss: 0.0252 - accuracy: 0.9933 - val_loss: 0.0228 - val_accuracy: 1.0000\n",
            "Epoch 55/300\n",
            "1/1 [==============================] - 0s 48ms/step - loss: 0.0251 - accuracy: 0.9933 - val_loss: 0.0228 - val_accuracy: 1.0000\n",
            "Epoch 56/300\n",
            "1/1 [==============================] - 0s 58ms/step - loss: 0.0251 - accuracy: 0.9933 - val_loss: 0.0228 - val_accuracy: 1.0000\n",
            "Epoch 57/300\n",
            "1/1 [==============================] - 0s 214ms/step - loss: 0.0251 - accuracy: 0.9933 - val_loss: 0.0227 - val_accuracy: 1.0000\n",
            "Epoch 58/300\n",
            "1/1 [==============================] - 0s 48ms/step - loss: 0.0250 - accuracy: 0.9933 - val_loss: 0.0227 - val_accuracy: 1.0000\n",
            "Epoch 59/300\n",
            "1/1 [==============================] - 0s 49ms/step - loss: 0.0250 - accuracy: 0.9933 - val_loss: 0.0227 - val_accuracy: 1.0000\n",
            "Epoch 60/300\n",
            "1/1 [==============================] - 0s 54ms/step - loss: 0.0250 - accuracy: 0.9933 - val_loss: 0.0227 - val_accuracy: 1.0000\n",
            "Epoch 61/300\n",
            "1/1 [==============================] - 0s 58ms/step - loss: 0.0250 - accuracy: 0.9933 - val_loss: 0.0226 - val_accuracy: 1.0000\n",
            "Epoch 62/300\n",
            "1/1 [==============================] - 0s 50ms/step - loss: 0.0249 - accuracy: 0.9933 - val_loss: 0.0226 - val_accuracy: 1.0000\n",
            "Epoch 63/300\n",
            "1/1 [==============================] - 0s 43ms/step - loss: 0.0249 - accuracy: 0.9933 - val_loss: 0.0226 - val_accuracy: 1.0000\n",
            "Epoch 64/300\n",
            "1/1 [==============================] - 0s 45ms/step - loss: 0.0249 - accuracy: 0.9933 - val_loss: 0.0226 - val_accuracy: 1.0000\n",
            "Epoch 65/300\n",
            "1/1 [==============================] - 0s 56ms/step - loss: 0.0248 - accuracy: 0.9933 - val_loss: 0.0225 - val_accuracy: 1.0000\n",
            "Epoch 66/300\n",
            "1/1 [==============================] - 0s 56ms/step - loss: 0.0248 - accuracy: 0.9933 - val_loss: 0.0225 - val_accuracy: 1.0000\n",
            "Epoch 67/300\n",
            "1/1 [==============================] - 0s 51ms/step - loss: 0.0248 - accuracy: 0.9933 - val_loss: 0.0225 - val_accuracy: 1.0000\n",
            "Epoch 68/300\n",
            "1/1 [==============================] - 0s 54ms/step - loss: 0.0247 - accuracy: 0.9933 - val_loss: 0.0225 - val_accuracy: 1.0000\n",
            "Epoch 69/300\n",
            "1/1 [==============================] - 0s 55ms/step - loss: 0.0247 - accuracy: 0.9933 - val_loss: 0.0224 - val_accuracy: 1.0000\n",
            "Epoch 70/300\n",
            "1/1 [==============================] - 0s 51ms/step - loss: 0.0247 - accuracy: 0.9933 - val_loss: 0.0224 - val_accuracy: 1.0000\n",
            "Epoch 71/300\n",
            "1/1 [==============================] - 0s 47ms/step - loss: 0.0246 - accuracy: 0.9933 - val_loss: 0.0224 - val_accuracy: 1.0000\n",
            "Epoch 72/300\n",
            "1/1 [==============================] - 0s 46ms/step - loss: 0.0246 - accuracy: 0.9933 - val_loss: 0.0224 - val_accuracy: 1.0000\n",
            "Epoch 73/300\n",
            "1/1 [==============================] - 0s 48ms/step - loss: 0.0246 - accuracy: 0.9933 - val_loss: 0.0223 - val_accuracy: 1.0000\n",
            "Epoch 74/300\n",
            "1/1 [==============================] - 0s 43ms/step - loss: 0.0246 - accuracy: 0.9933 - val_loss: 0.0223 - val_accuracy: 1.0000\n",
            "Epoch 75/300\n",
            "1/1 [==============================] - 0s 47ms/step - loss: 0.0245 - accuracy: 0.9933 - val_loss: 0.0223 - val_accuracy: 1.0000\n",
            "Epoch 76/300\n",
            "1/1 [==============================] - 0s 53ms/step - loss: 0.0245 - accuracy: 0.9933 - val_loss: 0.0223 - val_accuracy: 1.0000\n",
            "Epoch 77/300\n",
            "1/1 [==============================] - 0s 44ms/step - loss: 0.0245 - accuracy: 0.9933 - val_loss: 0.0222 - val_accuracy: 1.0000\n",
            "Epoch 78/300\n",
            "1/1 [==============================] - 0s 52ms/step - loss: 0.0244 - accuracy: 0.9933 - val_loss: 0.0222 - val_accuracy: 1.0000\n",
            "Epoch 79/300\n",
            "1/1 [==============================] - 0s 56ms/step - loss: 0.0244 - accuracy: 0.9933 - val_loss: 0.0222 - val_accuracy: 1.0000\n",
            "Epoch 80/300\n",
            "1/1 [==============================] - 0s 48ms/step - loss: 0.0244 - accuracy: 0.9933 - val_loss: 0.0221 - val_accuracy: 1.0000\n",
            "Epoch 81/300\n",
            "1/1 [==============================] - 0s 48ms/step - loss: 0.0243 - accuracy: 0.9933 - val_loss: 0.0221 - val_accuracy: 1.0000\n",
            "Epoch 82/300\n",
            "1/1 [==============================] - 0s 48ms/step - loss: 0.0243 - accuracy: 0.9933 - val_loss: 0.0221 - val_accuracy: 1.0000\n",
            "Epoch 83/300\n",
            "1/1 [==============================] - 0s 48ms/step - loss: 0.0243 - accuracy: 0.9933 - val_loss: 0.0221 - val_accuracy: 1.0000\n",
            "Epoch 84/300\n",
            "1/1 [==============================] - 0s 45ms/step - loss: 0.0243 - accuracy: 0.9933 - val_loss: 0.0220 - val_accuracy: 1.0000\n",
            "Epoch 85/300\n",
            "1/1 [==============================] - 0s 50ms/step - loss: 0.0242 - accuracy: 0.9933 - val_loss: 0.0220 - val_accuracy: 1.0000\n",
            "Epoch 86/300\n",
            "1/1 [==============================] - 0s 47ms/step - loss: 0.0242 - accuracy: 0.9933 - val_loss: 0.0220 - val_accuracy: 1.0000\n",
            "Epoch 87/300\n",
            "1/1 [==============================] - 0s 49ms/step - loss: 0.0242 - accuracy: 0.9933 - val_loss: 0.0220 - val_accuracy: 1.0000\n",
            "Epoch 88/300\n",
            "1/1 [==============================] - 0s 46ms/step - loss: 0.0241 - accuracy: 0.9933 - val_loss: 0.0220 - val_accuracy: 1.0000\n",
            "Epoch 89/300\n",
            "1/1 [==============================] - 0s 49ms/step - loss: 0.0241 - accuracy: 0.9933 - val_loss: 0.0219 - val_accuracy: 1.0000\n",
            "Epoch 90/300\n",
            "1/1 [==============================] - 0s 46ms/step - loss: 0.0241 - accuracy: 0.9933 - val_loss: 0.0219 - val_accuracy: 1.0000\n",
            "Epoch 91/300\n",
            "1/1 [==============================] - 0s 49ms/step - loss: 0.0240 - accuracy: 0.9933 - val_loss: 0.0219 - val_accuracy: 1.0000\n",
            "Epoch 92/300\n",
            "1/1 [==============================] - 0s 48ms/step - loss: 0.0240 - accuracy: 0.9933 - val_loss: 0.0218 - val_accuracy: 1.0000\n",
            "Epoch 93/300\n",
            "1/1 [==============================] - 0s 52ms/step - loss: 0.0240 - accuracy: 0.9933 - val_loss: 0.0218 - val_accuracy: 1.0000\n",
            "Epoch 94/300\n",
            "1/1 [==============================] - 0s 53ms/step - loss: 0.0240 - accuracy: 0.9933 - val_loss: 0.0218 - val_accuracy: 1.0000\n",
            "Epoch 95/300\n",
            "1/1 [==============================] - 0s 52ms/step - loss: 0.0239 - accuracy: 0.9933 - val_loss: 0.0218 - val_accuracy: 1.0000\n",
            "Epoch 96/300\n",
            "1/1 [==============================] - 0s 41ms/step - loss: 0.0239 - accuracy: 0.9933 - val_loss: 0.0218 - val_accuracy: 1.0000\n",
            "Epoch 97/300\n",
            "1/1 [==============================] - 0s 48ms/step - loss: 0.0239 - accuracy: 0.9933 - val_loss: 0.0217 - val_accuracy: 1.0000\n",
            "Epoch 98/300\n",
            "1/1 [==============================] - 0s 50ms/step - loss: 0.0238 - accuracy: 0.9933 - val_loss: 0.0217 - val_accuracy: 1.0000\n",
            "Epoch 99/300\n",
            "1/1 [==============================] - 0s 216ms/step - loss: 0.0238 - accuracy: 1.0000 - val_loss: 0.0217 - val_accuracy: 1.0000\n",
            "Epoch 100/300\n",
            "1/1 [==============================] - 0s 49ms/step - loss: 0.0238 - accuracy: 1.0000 - val_loss: 0.0217 - val_accuracy: 1.0000\n",
            "Epoch 101/300\n",
            "1/1 [==============================] - 0s 51ms/step - loss: 0.0238 - accuracy: 1.0000 - val_loss: 0.0216 - val_accuracy: 1.0000\n",
            "Epoch 102/300\n",
            "1/1 [==============================] - 0s 48ms/step - loss: 0.0237 - accuracy: 1.0000 - val_loss: 0.0216 - val_accuracy: 1.0000\n",
            "Epoch 103/300\n",
            "1/1 [==============================] - 0s 55ms/step - loss: 0.0237 - accuracy: 1.0000 - val_loss: 0.0216 - val_accuracy: 1.0000\n",
            "Epoch 104/300\n",
            "1/1 [==============================] - 0s 51ms/step - loss: 0.0237 - accuracy: 1.0000 - val_loss: 0.0216 - val_accuracy: 1.0000\n",
            "Epoch 105/300\n",
            "1/1 [==============================] - 0s 45ms/step - loss: 0.0236 - accuracy: 1.0000 - val_loss: 0.0215 - val_accuracy: 1.0000\n",
            "Epoch 106/300\n",
            "1/1 [==============================] - 0s 52ms/step - loss: 0.0236 - accuracy: 1.0000 - val_loss: 0.0215 - val_accuracy: 1.0000\n",
            "Epoch 107/300\n",
            "1/1 [==============================] - 0s 54ms/step - loss: 0.0236 - accuracy: 1.0000 - val_loss: 0.0215 - val_accuracy: 1.0000\n",
            "Epoch 108/300\n",
            "1/1 [==============================] - 0s 52ms/step - loss: 0.0236 - accuracy: 1.0000 - val_loss: 0.0215 - val_accuracy: 1.0000\n",
            "Epoch 109/300\n",
            "1/1 [==============================] - 0s 48ms/step - loss: 0.0235 - accuracy: 1.0000 - val_loss: 0.0214 - val_accuracy: 1.0000\n",
            "Epoch 110/300\n",
            "1/1 [==============================] - 0s 45ms/step - loss: 0.0235 - accuracy: 1.0000 - val_loss: 0.0214 - val_accuracy: 1.0000\n",
            "Epoch 111/300\n",
            "1/1 [==============================] - 0s 48ms/step - loss: 0.0235 - accuracy: 1.0000 - val_loss: 0.0214 - val_accuracy: 1.0000\n",
            "Epoch 112/300\n",
            "1/1 [==============================] - 0s 47ms/step - loss: 0.0234 - accuracy: 1.0000 - val_loss: 0.0214 - val_accuracy: 1.0000\n",
            "Epoch 113/300\n",
            "1/1 [==============================] - 0s 45ms/step - loss: 0.0234 - accuracy: 1.0000 - val_loss: 0.0213 - val_accuracy: 1.0000\n",
            "Epoch 114/300\n",
            "1/1 [==============================] - 0s 53ms/step - loss: 0.0234 - accuracy: 1.0000 - val_loss: 0.0213 - val_accuracy: 1.0000\n",
            "Epoch 115/300\n",
            "1/1 [==============================] - 0s 47ms/step - loss: 0.0234 - accuracy: 1.0000 - val_loss: 0.0213 - val_accuracy: 1.0000\n",
            "Epoch 116/300\n",
            "1/1 [==============================] - 0s 46ms/step - loss: 0.0233 - accuracy: 1.0000 - val_loss: 0.0213 - val_accuracy: 1.0000\n",
            "Epoch 117/300\n",
            "1/1 [==============================] - 0s 47ms/step - loss: 0.0233 - accuracy: 1.0000 - val_loss: 0.0213 - val_accuracy: 1.0000\n",
            "Epoch 118/300\n",
            "1/1 [==============================] - 0s 43ms/step - loss: 0.0233 - accuracy: 1.0000 - val_loss: 0.0212 - val_accuracy: 1.0000\n",
            "Epoch 119/300\n",
            "1/1 [==============================] - 0s 43ms/step - loss: 0.0233 - accuracy: 1.0000 - val_loss: 0.0212 - val_accuracy: 1.0000\n",
            "Epoch 120/300\n",
            "1/1 [==============================] - 0s 59ms/step - loss: 0.0232 - accuracy: 1.0000 - val_loss: 0.0212 - val_accuracy: 1.0000\n",
            "Epoch 121/300\n",
            "1/1 [==============================] - 0s 54ms/step - loss: 0.0232 - accuracy: 1.0000 - val_loss: 0.0212 - val_accuracy: 1.0000\n",
            "Epoch 122/300\n",
            "1/1 [==============================] - 0s 47ms/step - loss: 0.0232 - accuracy: 1.0000 - val_loss: 0.0211 - val_accuracy: 1.0000\n",
            "Epoch 123/300\n",
            "1/1 [==============================] - 0s 51ms/step - loss: 0.0231 - accuracy: 1.0000 - val_loss: 0.0211 - val_accuracy: 1.0000\n",
            "Epoch 124/300\n",
            "1/1 [==============================] - 0s 50ms/step - loss: 0.0231 - accuracy: 1.0000 - val_loss: 0.0211 - val_accuracy: 1.0000\n",
            "Epoch 125/300\n",
            "1/1 [==============================] - 0s 47ms/step - loss: 0.0231 - accuracy: 1.0000 - val_loss: 0.0211 - val_accuracy: 1.0000\n",
            "Epoch 126/300\n",
            "1/1 [==============================] - 0s 50ms/step - loss: 0.0231 - accuracy: 1.0000 - val_loss: 0.0210 - val_accuracy: 1.0000\n",
            "Epoch 127/300\n",
            "1/1 [==============================] - 0s 57ms/step - loss: 0.0230 - accuracy: 1.0000 - val_loss: 0.0210 - val_accuracy: 1.0000\n",
            "Epoch 128/300\n",
            "1/1 [==============================] - 0s 58ms/step - loss: 0.0230 - accuracy: 1.0000 - val_loss: 0.0210 - val_accuracy: 1.0000\n",
            "Epoch 129/300\n",
            "1/1 [==============================] - 0s 50ms/step - loss: 0.0230 - accuracy: 1.0000 - val_loss: 0.0210 - val_accuracy: 1.0000\n",
            "Epoch 130/300\n",
            "1/1 [==============================] - 0s 48ms/step - loss: 0.0230 - accuracy: 1.0000 - val_loss: 0.0210 - val_accuracy: 1.0000\n",
            "Epoch 131/300\n",
            "1/1 [==============================] - 0s 45ms/step - loss: 0.0229 - accuracy: 1.0000 - val_loss: 0.0209 - val_accuracy: 1.0000\n",
            "Epoch 132/300\n",
            "1/1 [==============================] - 0s 47ms/step - loss: 0.0229 - accuracy: 1.0000 - val_loss: 0.0209 - val_accuracy: 1.0000\n",
            "Epoch 133/300\n",
            "1/1 [==============================] - 0s 51ms/step - loss: 0.0229 - accuracy: 1.0000 - val_loss: 0.0209 - val_accuracy: 1.0000\n",
            "Epoch 134/300\n",
            "1/1 [==============================] - 0s 49ms/step - loss: 0.0228 - accuracy: 1.0000 - val_loss: 0.0209 - val_accuracy: 1.0000\n",
            "Epoch 135/300\n",
            "1/1 [==============================] - 0s 48ms/step - loss: 0.0228 - accuracy: 1.0000 - val_loss: 0.0208 - val_accuracy: 1.0000\n",
            "Epoch 136/300\n",
            "1/1 [==============================] - 0s 49ms/step - loss: 0.0228 - accuracy: 1.0000 - val_loss: 0.0208 - val_accuracy: 1.0000\n",
            "Epoch 137/300\n",
            "1/1 [==============================] - 0s 49ms/step - loss: 0.0228 - accuracy: 1.0000 - val_loss: 0.0208 - val_accuracy: 1.0000\n",
            "Epoch 138/300\n",
            "1/1 [==============================] - 0s 50ms/step - loss: 0.0227 - accuracy: 1.0000 - val_loss: 0.0208 - val_accuracy: 1.0000\n",
            "Epoch 139/300\n",
            "1/1 [==============================] - 0s 65ms/step - loss: 0.0227 - accuracy: 1.0000 - val_loss: 0.0208 - val_accuracy: 1.0000\n",
            "Epoch 140/300\n",
            "1/1 [==============================] - 0s 55ms/step - loss: 0.0227 - accuracy: 1.0000 - val_loss: 0.0207 - val_accuracy: 1.0000\n",
            "Epoch 141/300\n",
            "1/1 [==============================] - 0s 56ms/step - loss: 0.0227 - accuracy: 1.0000 - val_loss: 0.0207 - val_accuracy: 1.0000\n",
            "Epoch 142/300\n",
            "1/1 [==============================] - 0s 55ms/step - loss: 0.0226 - accuracy: 1.0000 - val_loss: 0.0207 - val_accuracy: 1.0000\n",
            "Epoch 143/300\n",
            "1/1 [==============================] - 0s 49ms/step - loss: 0.0226 - accuracy: 1.0000 - val_loss: 0.0207 - val_accuracy: 1.0000\n",
            "Epoch 144/300\n",
            "1/1 [==============================] - 0s 46ms/step - loss: 0.0226 - accuracy: 1.0000 - val_loss: 0.0207 - val_accuracy: 1.0000\n",
            "Epoch 145/300\n",
            "1/1 [==============================] - 0s 50ms/step - loss: 0.0226 - accuracy: 1.0000 - val_loss: 0.0206 - val_accuracy: 1.0000\n",
            "Epoch 146/300\n",
            "1/1 [==============================] - 0s 56ms/step - loss: 0.0225 - accuracy: 1.0000 - val_loss: 0.0206 - val_accuracy: 1.0000\n",
            "Epoch 147/300\n",
            "1/1 [==============================] - 0s 51ms/step - loss: 0.0225 - accuracy: 1.0000 - val_loss: 0.0206 - val_accuracy: 1.0000\n",
            "Epoch 148/300\n",
            "1/1 [==============================] - 0s 49ms/step - loss: 0.0225 - accuracy: 1.0000 - val_loss: 0.0206 - val_accuracy: 1.0000\n",
            "Epoch 149/300\n",
            "1/1 [==============================] - 0s 48ms/step - loss: 0.0225 - accuracy: 1.0000 - val_loss: 0.0205 - val_accuracy: 1.0000\n",
            "Epoch 150/300\n",
            "1/1 [==============================] - 0s 49ms/step - loss: 0.0224 - accuracy: 1.0000 - val_loss: 0.0205 - val_accuracy: 1.0000\n",
            "Epoch 151/300\n",
            "1/1 [==============================] - 0s 222ms/step - loss: 0.0224 - accuracy: 1.0000 - val_loss: 0.0205 - val_accuracy: 1.0000\n",
            "Epoch 152/300\n",
            "1/1 [==============================] - 0s 47ms/step - loss: 0.0224 - accuracy: 1.0000 - val_loss: 0.0205 - val_accuracy: 1.0000\n",
            "Epoch 153/300\n",
            "1/1 [==============================] - 0s 52ms/step - loss: 0.0223 - accuracy: 1.0000 - val_loss: 0.0205 - val_accuracy: 1.0000\n",
            "Epoch 154/300\n",
            "1/1 [==============================] - 0s 47ms/step - loss: 0.0223 - accuracy: 1.0000 - val_loss: 0.0204 - val_accuracy: 1.0000\n",
            "Epoch 155/300\n",
            "1/1 [==============================] - 0s 50ms/step - loss: 0.0223 - accuracy: 1.0000 - val_loss: 0.0204 - val_accuracy: 1.0000\n",
            "Epoch 156/300\n",
            "1/1 [==============================] - 0s 55ms/step - loss: 0.0223 - accuracy: 1.0000 - val_loss: 0.0204 - val_accuracy: 1.0000\n",
            "Epoch 157/300\n",
            "1/1 [==============================] - 0s 47ms/step - loss: 0.0222 - accuracy: 1.0000 - val_loss: 0.0204 - val_accuracy: 1.0000\n",
            "Epoch 158/300\n",
            "1/1 [==============================] - 0s 46ms/step - loss: 0.0222 - accuracy: 1.0000 - val_loss: 0.0204 - val_accuracy: 1.0000\n",
            "Epoch 159/300\n",
            "1/1 [==============================] - 0s 44ms/step - loss: 0.0222 - accuracy: 1.0000 - val_loss: 0.0203 - val_accuracy: 1.0000\n",
            "Epoch 160/300\n",
            "1/1 [==============================] - 0s 52ms/step - loss: 0.0222 - accuracy: 1.0000 - val_loss: 0.0203 - val_accuracy: 1.0000\n",
            "Epoch 161/300\n",
            "1/1 [==============================] - 0s 54ms/step - loss: 0.0221 - accuracy: 1.0000 - val_loss: 0.0203 - val_accuracy: 1.0000\n",
            "Epoch 162/300\n",
            "1/1 [==============================] - 0s 55ms/step - loss: 0.0221 - accuracy: 1.0000 - val_loss: 0.0203 - val_accuracy: 1.0000\n",
            "Epoch 163/300\n",
            "1/1 [==============================] - 0s 60ms/step - loss: 0.0221 - accuracy: 1.0000 - val_loss: 0.0202 - val_accuracy: 1.0000\n",
            "Epoch 164/300\n",
            "1/1 [==============================] - 0s 54ms/step - loss: 0.0221 - accuracy: 1.0000 - val_loss: 0.0202 - val_accuracy: 1.0000\n",
            "Epoch 165/300\n",
            "1/1 [==============================] - 0s 50ms/step - loss: 0.0220 - accuracy: 1.0000 - val_loss: 0.0202 - val_accuracy: 1.0000\n",
            "Epoch 166/300\n",
            "1/1 [==============================] - 0s 56ms/step - loss: 0.0220 - accuracy: 1.0000 - val_loss: 0.0202 - val_accuracy: 1.0000\n",
            "Epoch 167/300\n",
            "1/1 [==============================] - 0s 51ms/step - loss: 0.0220 - accuracy: 1.0000 - val_loss: 0.0202 - val_accuracy: 1.0000\n",
            "Epoch 168/300\n",
            "1/1 [==============================] - 0s 48ms/step - loss: 0.0220 - accuracy: 1.0000 - val_loss: 0.0201 - val_accuracy: 1.0000\n",
            "Epoch 169/300\n",
            "1/1 [==============================] - 0s 56ms/step - loss: 0.0219 - accuracy: 1.0000 - val_loss: 0.0201 - val_accuracy: 1.0000\n",
            "Epoch 170/300\n",
            "1/1 [==============================] - 0s 56ms/step - loss: 0.0219 - accuracy: 1.0000 - val_loss: 0.0201 - val_accuracy: 1.0000\n",
            "Epoch 171/300\n",
            "1/1 [==============================] - 0s 55ms/step - loss: 0.0219 - accuracy: 1.0000 - val_loss: 0.0201 - val_accuracy: 1.0000\n",
            "Epoch 172/300\n",
            "1/1 [==============================] - 0s 62ms/step - loss: 0.0219 - accuracy: 1.0000 - val_loss: 0.0201 - val_accuracy: 1.0000\n",
            "Epoch 173/300\n",
            "1/1 [==============================] - 0s 50ms/step - loss: 0.0218 - accuracy: 1.0000 - val_loss: 0.0200 - val_accuracy: 1.0000\n",
            "Epoch 174/300\n",
            "1/1 [==============================] - 0s 47ms/step - loss: 0.0218 - accuracy: 1.0000 - val_loss: 0.0200 - val_accuracy: 1.0000\n",
            "Epoch 175/300\n",
            "1/1 [==============================] - 0s 47ms/step - loss: 0.0218 - accuracy: 1.0000 - val_loss: 0.0200 - val_accuracy: 1.0000\n",
            "Epoch 176/300\n",
            "1/1 [==============================] - 0s 55ms/step - loss: 0.0218 - accuracy: 1.0000 - val_loss: 0.0200 - val_accuracy: 1.0000\n",
            "Epoch 177/300\n",
            "1/1 [==============================] - 0s 49ms/step - loss: 0.0217 - accuracy: 1.0000 - val_loss: 0.0200 - val_accuracy: 1.0000\n",
            "Epoch 178/300\n",
            "1/1 [==============================] - 0s 54ms/step - loss: 0.0217 - accuracy: 1.0000 - val_loss: 0.0199 - val_accuracy: 1.0000\n",
            "Epoch 179/300\n",
            "1/1 [==============================] - 0s 49ms/step - loss: 0.0217 - accuracy: 1.0000 - val_loss: 0.0199 - val_accuracy: 1.0000\n",
            "Epoch 180/300\n",
            "1/1 [==============================] - 0s 56ms/step - loss: 0.0217 - accuracy: 1.0000 - val_loss: 0.0199 - val_accuracy: 1.0000\n",
            "Epoch 181/300\n",
            "1/1 [==============================] - 0s 58ms/step - loss: 0.0217 - accuracy: 1.0000 - val_loss: 0.0199 - val_accuracy: 1.0000\n",
            "Epoch 182/300\n",
            "1/1 [==============================] - 0s 50ms/step - loss: 0.0216 - accuracy: 1.0000 - val_loss: 0.0199 - val_accuracy: 1.0000\n",
            "Epoch 183/300\n",
            "1/1 [==============================] - 0s 51ms/step - loss: 0.0216 - accuracy: 1.0000 - val_loss: 0.0198 - val_accuracy: 1.0000\n",
            "Epoch 184/300\n",
            "1/1 [==============================] - 0s 50ms/step - loss: 0.0216 - accuracy: 1.0000 - val_loss: 0.0198 - val_accuracy: 1.0000\n",
            "Epoch 185/300\n",
            "1/1 [==============================] - 0s 53ms/step - loss: 0.0216 - accuracy: 1.0000 - val_loss: 0.0198 - val_accuracy: 1.0000\n",
            "Epoch 186/300\n",
            "1/1 [==============================] - 0s 44ms/step - loss: 0.0215 - accuracy: 1.0000 - val_loss: 0.0198 - val_accuracy: 1.0000\n",
            "Epoch 187/300\n",
            "1/1 [==============================] - 0s 44ms/step - loss: 0.0215 - accuracy: 1.0000 - val_loss: 0.0198 - val_accuracy: 1.0000\n",
            "Epoch 188/300\n",
            "1/1 [==============================] - 0s 48ms/step - loss: 0.0215 - accuracy: 1.0000 - val_loss: 0.0197 - val_accuracy: 1.0000\n",
            "Epoch 189/300\n",
            "1/1 [==============================] - 0s 60ms/step - loss: 0.0215 - accuracy: 1.0000 - val_loss: 0.0197 - val_accuracy: 1.0000\n",
            "Epoch 190/300\n",
            "1/1 [==============================] - 0s 47ms/step - loss: 0.0214 - accuracy: 1.0000 - val_loss: 0.0197 - val_accuracy: 1.0000\n",
            "Epoch 191/300\n",
            "1/1 [==============================] - 0s 53ms/step - loss: 0.0214 - accuracy: 1.0000 - val_loss: 0.0197 - val_accuracy: 1.0000\n",
            "Epoch 192/300\n",
            "1/1 [==============================] - 0s 47ms/step - loss: 0.0214 - accuracy: 1.0000 - val_loss: 0.0197 - val_accuracy: 1.0000\n",
            "Epoch 193/300\n",
            "1/1 [==============================] - 0s 51ms/step - loss: 0.0214 - accuracy: 1.0000 - val_loss: 0.0196 - val_accuracy: 1.0000\n",
            "Epoch 194/300\n",
            "1/1 [==============================] - 0s 215ms/step - loss: 0.0213 - accuracy: 1.0000 - val_loss: 0.0196 - val_accuracy: 1.0000\n",
            "Epoch 195/300\n",
            "1/1 [==============================] - 0s 46ms/step - loss: 0.0213 - accuracy: 1.0000 - val_loss: 0.0196 - val_accuracy: 1.0000\n",
            "Epoch 196/300\n",
            "1/1 [==============================] - 0s 48ms/step - loss: 0.0213 - accuracy: 1.0000 - val_loss: 0.0196 - val_accuracy: 1.0000\n",
            "Epoch 197/300\n",
            "1/1 [==============================] - 0s 54ms/step - loss: 0.0213 - accuracy: 1.0000 - val_loss: 0.0196 - val_accuracy: 1.0000\n",
            "Epoch 198/300\n",
            "1/1 [==============================] - 0s 48ms/step - loss: 0.0212 - accuracy: 1.0000 - val_loss: 0.0195 - val_accuracy: 1.0000\n",
            "Epoch 199/300\n",
            "1/1 [==============================] - 0s 43ms/step - loss: 0.0212 - accuracy: 1.0000 - val_loss: 0.0195 - val_accuracy: 1.0000\n",
            "Epoch 200/300\n",
            "1/1 [==============================] - 0s 54ms/step - loss: 0.0212 - accuracy: 1.0000 - val_loss: 0.0195 - val_accuracy: 1.0000\n",
            "Epoch 201/300\n",
            "1/1 [==============================] - 0s 67ms/step - loss: 0.0212 - accuracy: 1.0000 - val_loss: 0.0195 - val_accuracy: 1.0000\n",
            "Epoch 202/300\n",
            "1/1 [==============================] - 0s 51ms/step - loss: 0.0212 - accuracy: 1.0000 - val_loss: 0.0195 - val_accuracy: 1.0000\n",
            "Epoch 203/300\n",
            "1/1 [==============================] - 0s 57ms/step - loss: 0.0211 - accuracy: 1.0000 - val_loss: 0.0194 - val_accuracy: 1.0000\n",
            "Epoch 204/300\n",
            "1/1 [==============================] - 0s 58ms/step - loss: 0.0211 - accuracy: 1.0000 - val_loss: 0.0194 - val_accuracy: 1.0000\n",
            "Epoch 205/300\n",
            "1/1 [==============================] - 0s 49ms/step - loss: 0.0211 - accuracy: 1.0000 - val_loss: 0.0194 - val_accuracy: 1.0000\n",
            "Epoch 206/300\n",
            "1/1 [==============================] - 0s 51ms/step - loss: 0.0211 - accuracy: 1.0000 - val_loss: 0.0194 - val_accuracy: 1.0000\n",
            "Epoch 207/300\n",
            "1/1 [==============================] - 0s 60ms/step - loss: 0.0210 - accuracy: 1.0000 - val_loss: 0.0194 - val_accuracy: 1.0000\n",
            "Epoch 208/300\n",
            "1/1 [==============================] - 0s 53ms/step - loss: 0.0210 - accuracy: 1.0000 - val_loss: 0.0194 - val_accuracy: 1.0000\n",
            "Epoch 209/300\n",
            "1/1 [==============================] - 0s 49ms/step - loss: 0.0210 - accuracy: 1.0000 - val_loss: 0.0193 - val_accuracy: 1.0000\n",
            "Epoch 210/300\n",
            "1/1 [==============================] - 0s 47ms/step - loss: 0.0210 - accuracy: 1.0000 - val_loss: 0.0193 - val_accuracy: 1.0000\n",
            "Epoch 211/300\n",
            "1/1 [==============================] - 0s 50ms/step - loss: 0.0210 - accuracy: 1.0000 - val_loss: 0.0193 - val_accuracy: 1.0000\n",
            "Epoch 212/300\n",
            "1/1 [==============================] - 0s 51ms/step - loss: 0.0209 - accuracy: 1.0000 - val_loss: 0.0193 - val_accuracy: 1.0000\n",
            "Epoch 213/300\n",
            "1/1 [==============================] - 0s 49ms/step - loss: 0.0209 - accuracy: 1.0000 - val_loss: 0.0193 - val_accuracy: 1.0000\n",
            "Epoch 214/300\n",
            "1/1 [==============================] - 0s 48ms/step - loss: 0.0209 - accuracy: 1.0000 - val_loss: 0.0192 - val_accuracy: 1.0000\n",
            "Epoch 215/300\n",
            "1/1 [==============================] - 0s 50ms/step - loss: 0.0209 - accuracy: 1.0000 - val_loss: 0.0192 - val_accuracy: 1.0000\n",
            "Epoch 216/300\n",
            "1/1 [==============================] - 0s 49ms/step - loss: 0.0208 - accuracy: 1.0000 - val_loss: 0.0192 - val_accuracy: 1.0000\n",
            "Epoch 217/300\n",
            "1/1 [==============================] - 0s 53ms/step - loss: 0.0208 - accuracy: 1.0000 - val_loss: 0.0192 - val_accuracy: 1.0000\n",
            "Epoch 218/300\n",
            "1/1 [==============================] - 0s 64ms/step - loss: 0.0208 - accuracy: 1.0000 - val_loss: 0.0192 - val_accuracy: 1.0000\n",
            "Epoch 219/300\n",
            "1/1 [==============================] - 0s 55ms/step - loss: 0.0208 - accuracy: 1.0000 - val_loss: 0.0191 - val_accuracy: 1.0000\n",
            "Epoch 220/300\n",
            "1/1 [==============================] - 0s 60ms/step - loss: 0.0207 - accuracy: 1.0000 - val_loss: 0.0191 - val_accuracy: 1.0000\n",
            "Epoch 221/300\n",
            "1/1 [==============================] - 0s 51ms/step - loss: 0.0207 - accuracy: 1.0000 - val_loss: 0.0191 - val_accuracy: 1.0000\n",
            "Epoch 222/300\n",
            "1/1 [==============================] - 0s 60ms/step - loss: 0.0207 - accuracy: 1.0000 - val_loss: 0.0191 - val_accuracy: 1.0000\n",
            "Epoch 223/300\n",
            "1/1 [==============================] - 0s 53ms/step - loss: 0.0207 - accuracy: 1.0000 - val_loss: 0.0191 - val_accuracy: 1.0000\n",
            "Epoch 224/300\n",
            "1/1 [==============================] - 0s 51ms/step - loss: 0.0207 - accuracy: 1.0000 - val_loss: 0.0191 - val_accuracy: 1.0000\n",
            "Epoch 225/300\n",
            "1/1 [==============================] - 0s 64ms/step - loss: 0.0206 - accuracy: 1.0000 - val_loss: 0.0190 - val_accuracy: 1.0000\n",
            "Epoch 226/300\n",
            "1/1 [==============================] - 0s 48ms/step - loss: 0.0206 - accuracy: 1.0000 - val_loss: 0.0190 - val_accuracy: 1.0000\n",
            "Epoch 227/300\n",
            "1/1 [==============================] - 0s 51ms/step - loss: 0.0206 - accuracy: 1.0000 - val_loss: 0.0190 - val_accuracy: 1.0000\n",
            "Epoch 228/300\n",
            "1/1 [==============================] - 0s 47ms/step - loss: 0.0206 - accuracy: 1.0000 - val_loss: 0.0190 - val_accuracy: 1.0000\n",
            "Epoch 229/300\n",
            "1/1 [==============================] - 0s 59ms/step - loss: 0.0205 - accuracy: 1.0000 - val_loss: 0.0190 - val_accuracy: 1.0000\n",
            "Epoch 230/300\n",
            "1/1 [==============================] - 0s 47ms/step - loss: 0.0205 - accuracy: 1.0000 - val_loss: 0.0189 - val_accuracy: 1.0000\n",
            "Epoch 231/300\n",
            "1/1 [==============================] - 0s 53ms/step - loss: 0.0205 - accuracy: 1.0000 - val_loss: 0.0189 - val_accuracy: 1.0000\n",
            "Epoch 232/300\n",
            "1/1 [==============================] - 0s 57ms/step - loss: 0.0205 - accuracy: 1.0000 - val_loss: 0.0189 - val_accuracy: 1.0000\n",
            "Epoch 233/300\n",
            "1/1 [==============================] - 0s 49ms/step - loss: 0.0205 - accuracy: 1.0000 - val_loss: 0.0189 - val_accuracy: 1.0000\n",
            "Epoch 234/300\n",
            "1/1 [==============================] - 0s 58ms/step - loss: 0.0204 - accuracy: 1.0000 - val_loss: 0.0189 - val_accuracy: 1.0000\n",
            "Epoch 235/300\n",
            "1/1 [==============================] - 0s 61ms/step - loss: 0.0204 - accuracy: 1.0000 - val_loss: 0.0189 - val_accuracy: 1.0000\n",
            "Epoch 236/300\n",
            "1/1 [==============================] - 0s 54ms/step - loss: 0.0204 - accuracy: 1.0000 - val_loss: 0.0188 - val_accuracy: 1.0000\n",
            "Epoch 237/300\n",
            "1/1 [==============================] - 0s 48ms/step - loss: 0.0204 - accuracy: 1.0000 - val_loss: 0.0188 - val_accuracy: 1.0000\n",
            "Epoch 238/300\n",
            "1/1 [==============================] - 0s 57ms/step - loss: 0.0204 - accuracy: 1.0000 - val_loss: 0.0188 - val_accuracy: 1.0000\n",
            "Epoch 239/300\n",
            "1/1 [==============================] - 0s 56ms/step - loss: 0.0203 - accuracy: 1.0000 - val_loss: 0.0188 - val_accuracy: 1.0000\n",
            "Epoch 240/300\n",
            "1/1 [==============================] - 0s 51ms/step - loss: 0.0203 - accuracy: 1.0000 - val_loss: 0.0188 - val_accuracy: 1.0000\n",
            "Epoch 241/300\n",
            "1/1 [==============================] - 0s 56ms/step - loss: 0.0203 - accuracy: 1.0000 - val_loss: 0.0187 - val_accuracy: 1.0000\n",
            "Epoch 242/300\n",
            "1/1 [==============================] - 0s 47ms/step - loss: 0.0203 - accuracy: 1.0000 - val_loss: 0.0187 - val_accuracy: 1.0000\n",
            "Epoch 243/300\n",
            "1/1 [==============================] - 0s 62ms/step - loss: 0.0202 - accuracy: 1.0000 - val_loss: 0.0187 - val_accuracy: 1.0000\n",
            "Epoch 244/300\n",
            "1/1 [==============================] - 0s 54ms/step - loss: 0.0202 - accuracy: 1.0000 - val_loss: 0.0187 - val_accuracy: 1.0000\n",
            "Epoch 245/300\n",
            "1/1 [==============================] - 0s 50ms/step - loss: 0.0202 - accuracy: 1.0000 - val_loss: 0.0187 - val_accuracy: 1.0000\n",
            "Epoch 246/300\n",
            "1/1 [==============================] - 0s 49ms/step - loss: 0.0202 - accuracy: 1.0000 - val_loss: 0.0187 - val_accuracy: 1.0000\n",
            "Epoch 247/300\n",
            "1/1 [==============================] - 0s 52ms/step - loss: 0.0202 - accuracy: 1.0000 - val_loss: 0.0186 - val_accuracy: 1.0000\n",
            "Epoch 248/300\n",
            "1/1 [==============================] - 0s 213ms/step - loss: 0.0201 - accuracy: 1.0000 - val_loss: 0.0186 - val_accuracy: 1.0000\n",
            "Epoch 249/300\n",
            "1/1 [==============================] - 0s 47ms/step - loss: 0.0201 - accuracy: 1.0000 - val_loss: 0.0186 - val_accuracy: 1.0000\n",
            "Epoch 250/300\n",
            "1/1 [==============================] - 0s 54ms/step - loss: 0.0201 - accuracy: 1.0000 - val_loss: 0.0186 - val_accuracy: 1.0000\n",
            "Epoch 251/300\n",
            "1/1 [==============================] - 0s 49ms/step - loss: 0.0201 - accuracy: 1.0000 - val_loss: 0.0186 - val_accuracy: 1.0000\n",
            "Epoch 252/300\n",
            "1/1 [==============================] - 0s 54ms/step - loss: 0.0201 - accuracy: 1.0000 - val_loss: 0.0186 - val_accuracy: 1.0000\n",
            "Epoch 253/300\n",
            "1/1 [==============================] - 0s 56ms/step - loss: 0.0200 - accuracy: 1.0000 - val_loss: 0.0185 - val_accuracy: 1.0000\n",
            "Epoch 254/300\n",
            "1/1 [==============================] - 0s 55ms/step - loss: 0.0200 - accuracy: 1.0000 - val_loss: 0.0185 - val_accuracy: 1.0000\n",
            "Epoch 255/300\n",
            "1/1 [==============================] - 0s 59ms/step - loss: 0.0200 - accuracy: 1.0000 - val_loss: 0.0185 - val_accuracy: 1.0000\n",
            "Epoch 256/300\n",
            "1/1 [==============================] - 0s 51ms/step - loss: 0.0200 - accuracy: 1.0000 - val_loss: 0.0185 - val_accuracy: 1.0000\n",
            "Epoch 257/300\n",
            "1/1 [==============================] - 0s 52ms/step - loss: 0.0200 - accuracy: 1.0000 - val_loss: 0.0185 - val_accuracy: 1.0000\n",
            "Epoch 258/300\n",
            "1/1 [==============================] - 0s 53ms/step - loss: 0.0199 - accuracy: 1.0000 - val_loss: 0.0184 - val_accuracy: 1.0000\n",
            "Epoch 259/300\n",
            "1/1 [==============================] - 0s 51ms/step - loss: 0.0199 - accuracy: 1.0000 - val_loss: 0.0184 - val_accuracy: 1.0000\n",
            "Epoch 260/300\n",
            "1/1 [==============================] - 0s 46ms/step - loss: 0.0199 - accuracy: 1.0000 - val_loss: 0.0184 - val_accuracy: 1.0000\n",
            "Epoch 261/300\n",
            "1/1 [==============================] - 0s 46ms/step - loss: 0.0199 - accuracy: 1.0000 - val_loss: 0.0184 - val_accuracy: 1.0000\n",
            "Epoch 262/300\n",
            "1/1 [==============================] - 0s 51ms/step - loss: 0.0198 - accuracy: 1.0000 - val_loss: 0.0184 - val_accuracy: 1.0000\n",
            "Epoch 263/300\n",
            "1/1 [==============================] - 0s 54ms/step - loss: 0.0198 - accuracy: 1.0000 - val_loss: 0.0184 - val_accuracy: 1.0000\n",
            "Epoch 264/300\n",
            "1/1 [==============================] - 0s 48ms/step - loss: 0.0198 - accuracy: 1.0000 - val_loss: 0.0183 - val_accuracy: 1.0000\n",
            "Epoch 265/300\n",
            "1/1 [==============================] - 0s 48ms/step - loss: 0.0198 - accuracy: 1.0000 - val_loss: 0.0183 - val_accuracy: 1.0000\n",
            "Epoch 266/300\n",
            "1/1 [==============================] - 0s 55ms/step - loss: 0.0198 - accuracy: 1.0000 - val_loss: 0.0183 - val_accuracy: 1.0000\n",
            "Epoch 267/300\n",
            "1/1 [==============================] - 0s 53ms/step - loss: 0.0197 - accuracy: 1.0000 - val_loss: 0.0183 - val_accuracy: 1.0000\n",
            "Epoch 268/300\n",
            "1/1 [==============================] - 0s 57ms/step - loss: 0.0197 - accuracy: 1.0000 - val_loss: 0.0183 - val_accuracy: 1.0000\n",
            "Epoch 269/300\n",
            "1/1 [==============================] - 0s 50ms/step - loss: 0.0197 - accuracy: 1.0000 - val_loss: 0.0183 - val_accuracy: 1.0000\n",
            "Epoch 270/300\n",
            "1/1 [==============================] - 0s 69ms/step - loss: 0.0197 - accuracy: 1.0000 - val_loss: 0.0182 - val_accuracy: 1.0000\n",
            "Epoch 271/300\n",
            "1/1 [==============================] - 0s 52ms/step - loss: 0.0197 - accuracy: 1.0000 - val_loss: 0.0182 - val_accuracy: 1.0000\n",
            "Epoch 272/300\n",
            "1/1 [==============================] - 0s 52ms/step - loss: 0.0196 - accuracy: 1.0000 - val_loss: 0.0182 - val_accuracy: 1.0000\n",
            "Epoch 273/300\n",
            "1/1 [==============================] - 0s 54ms/step - loss: 0.0196 - accuracy: 1.0000 - val_loss: 0.0182 - val_accuracy: 1.0000\n",
            "Epoch 274/300\n",
            "1/1 [==============================] - 0s 52ms/step - loss: 0.0196 - accuracy: 1.0000 - val_loss: 0.0182 - val_accuracy: 1.0000\n",
            "Epoch 275/300\n",
            "1/1 [==============================] - 0s 45ms/step - loss: 0.0196 - accuracy: 1.0000 - val_loss: 0.0182 - val_accuracy: 1.0000\n",
            "Epoch 276/300\n",
            "1/1 [==============================] - 0s 68ms/step - loss: 0.0196 - accuracy: 1.0000 - val_loss: 0.0181 - val_accuracy: 1.0000\n",
            "Epoch 277/300\n",
            "1/1 [==============================] - 0s 63ms/step - loss: 0.0195 - accuracy: 1.0000 - val_loss: 0.0181 - val_accuracy: 1.0000\n",
            "Epoch 278/300\n",
            "1/1 [==============================] - 0s 54ms/step - loss: 0.0195 - accuracy: 1.0000 - val_loss: 0.0181 - val_accuracy: 1.0000\n",
            "Epoch 279/300\n",
            "1/1 [==============================] - 0s 63ms/step - loss: 0.0195 - accuracy: 1.0000 - val_loss: 0.0181 - val_accuracy: 1.0000\n",
            "Epoch 280/300\n",
            "1/1 [==============================] - 0s 45ms/step - loss: 0.0195 - accuracy: 1.0000 - val_loss: 0.0181 - val_accuracy: 1.0000\n",
            "Epoch 281/300\n",
            "1/1 [==============================] - 0s 62ms/step - loss: 0.0195 - accuracy: 1.0000 - val_loss: 0.0181 - val_accuracy: 1.0000\n",
            "Epoch 282/300\n",
            "1/1 [==============================] - 0s 48ms/step - loss: 0.0194 - accuracy: 1.0000 - val_loss: 0.0180 - val_accuracy: 1.0000\n",
            "Epoch 283/300\n",
            "1/1 [==============================] - 0s 57ms/step - loss: 0.0194 - accuracy: 1.0000 - val_loss: 0.0180 - val_accuracy: 1.0000\n",
            "Epoch 284/300\n",
            "1/1 [==============================] - 0s 52ms/step - loss: 0.0194 - accuracy: 1.0000 - val_loss: 0.0180 - val_accuracy: 1.0000\n",
            "Epoch 285/300\n",
            "1/1 [==============================] - 0s 53ms/step - loss: 0.0194 - accuracy: 1.0000 - val_loss: 0.0180 - val_accuracy: 1.0000\n",
            "Epoch 286/300\n",
            "1/1 [==============================] - 0s 54ms/step - loss: 0.0194 - accuracy: 1.0000 - val_loss: 0.0180 - val_accuracy: 1.0000\n",
            "Epoch 287/300\n",
            "1/1 [==============================] - 0s 50ms/step - loss: 0.0193 - accuracy: 1.0000 - val_loss: 0.0180 - val_accuracy: 1.0000\n",
            "Epoch 288/300\n",
            "1/1 [==============================] - 0s 58ms/step - loss: 0.0193 - accuracy: 1.0000 - val_loss: 0.0179 - val_accuracy: 1.0000\n",
            "Epoch 289/300\n",
            "1/1 [==============================] - 0s 51ms/step - loss: 0.0193 - accuracy: 1.0000 - val_loss: 0.0179 - val_accuracy: 1.0000\n",
            "Epoch 290/300\n",
            "1/1 [==============================] - 0s 54ms/step - loss: 0.0193 - accuracy: 1.0000 - val_loss: 0.0179 - val_accuracy: 1.0000\n",
            "Epoch 291/300\n",
            "1/1 [==============================] - 0s 57ms/step - loss: 0.0193 - accuracy: 1.0000 - val_loss: 0.0179 - val_accuracy: 1.0000\n",
            "Epoch 292/300\n",
            "1/1 [==============================] - 0s 232ms/step - loss: 0.0192 - accuracy: 1.0000 - val_loss: 0.0179 - val_accuracy: 1.0000\n",
            "Epoch 293/300\n",
            "1/1 [==============================] - 0s 51ms/step - loss: 0.0192 - accuracy: 1.0000 - val_loss: 0.0179 - val_accuracy: 1.0000\n",
            "Epoch 294/300\n",
            "1/1 [==============================] - 0s 61ms/step - loss: 0.0192 - accuracy: 1.0000 - val_loss: 0.0179 - val_accuracy: 1.0000\n",
            "Epoch 295/300\n",
            "1/1 [==============================] - 0s 52ms/step - loss: 0.0192 - accuracy: 1.0000 - val_loss: 0.0178 - val_accuracy: 1.0000\n",
            "Epoch 296/300\n",
            "1/1 [==============================] - 0s 61ms/step - loss: 0.0192 - accuracy: 1.0000 - val_loss: 0.0178 - val_accuracy: 1.0000\n",
            "Epoch 297/300\n",
            "1/1 [==============================] - 0s 57ms/step - loss: 0.0192 - accuracy: 1.0000 - val_loss: 0.0178 - val_accuracy: 1.0000\n",
            "Epoch 298/300\n",
            "1/1 [==============================] - 0s 59ms/step - loss: 0.0191 - accuracy: 1.0000 - val_loss: 0.0178 - val_accuracy: 1.0000\n",
            "Epoch 299/300\n",
            "1/1 [==============================] - 0s 51ms/step - loss: 0.0191 - accuracy: 1.0000 - val_loss: 0.0178 - val_accuracy: 1.0000\n",
            "Epoch 300/300\n",
            "1/1 [==============================] - 0s 61ms/step - loss: 0.0191 - accuracy: 1.0000 - val_loss: 0.0178 - val_accuracy: 1.0000\n"
          ],
          "name": "stdout"
        }
      ]
    },
    {
      "cell_type": "markdown",
      "metadata": {
        "id": "cd9bG6Fr05yl"
      },
      "source": [
        "# Printing Loss and Estimated Weights (Ws)"
      ]
    },
    {
      "cell_type": "code",
      "metadata": {
        "colab": {
          "base_uri": "https://localhost:8080/",
          "height": 1000
        },
        "id": "piwz5bal0ZM4",
        "outputId": "cb91ed3f-8d61-42f4-de7b-31a83cae5ac6"
      },
      "source": [
        "loss = model.evaluate(X_test, Y_oh_test, verbose=0)\r\n",
        "print('Final loss (cross-entropy and accuracy):',loss)\r\n",
        "print()\r\n",
        "W = model.get_weights()\r\n",
        "for ii in range(len(W)//2):\r\n",
        "    print(\"Layer %d\" %ii)\r\n",
        "    print('Bias:\\n', W[2*ii + 1])\r\n",
        "    print('W:\\n', W[2*ii])\r\n",
        "    print()\r\n",
        "\r\n",
        "plt.plot(history.history['loss'], label = \"Train loss\")\r\n",
        "plt.plot(history.history['val_loss'], label = \"Val loss\")\r\n",
        "plt.xlabel(\"Epoch (iteration)\")\r\n",
        "plt.ylabel(\"Loss\")\r\n",
        "plt.legend()\r\n",
        "plt.grid()\r\n",
        "plt.show()\r\n",
        "\r\n",
        "\r\n",
        "plt.plot(history.history['accuracy'], label = \"Train accuracy\")\r\n",
        "plt.plot(history.history['val_accuracy'], label = \"Val accuracy\")\r\n",
        "plt.xlabel(\"Epoch (iteration)\")\r\n",
        "plt.ylabel(\"Accuracy\")\r\n",
        "plt.legend()\r\n",
        "plt.grid()\r\n",
        "plt.show()"
      ],
      "execution_count": 92,
      "outputs": [
        {
          "output_type": "stream",
          "text": [
            "Final loss (cross-entropy and accuracy): [0.03598600998520851, 1.0]\n",
            "\n",
            "Layer 0\n",
            "Bias:\n",
            " [-3.8481034e-02 -4.1617846e-01  2.1071002e-01  0.0000000e+00\n",
            "  1.7044107e+00  5.7992482e-01  2.1465890e-02 -5.9030799e-04\n",
            "  0.0000000e+00 -2.8968263e-01]\n",
            "W:\n",
            " [[-0.01422728  1.4150044   0.659004   -0.34276816 -3.2029316  -1.336981\n",
            "   2.8189528   0.05042274 -0.0123657   1.0681473 ]\n",
            " [ 0.02864489 -0.50920105 -0.3642324  -0.17288399 -0.29080018  0.12765656\n",
            "  -2.1971946   2.461316   -0.08666843 -0.4305349 ]]\n",
            "\n",
            "Layer 1\n",
            "Bias:\n",
            " [-0.51436627  0.5143662 ]\n",
            "W:\n",
            " [[ 0.6345243  -0.43508387]\n",
            " [-0.58313954  1.6034213 ]\n",
            " [-0.3226513   0.385413  ]\n",
            " [ 0.5174493   0.48486632]\n",
            " [-2.65807     2.4580073 ]\n",
            " [-1.1392941   0.8469872 ]\n",
            " [-2.4865856   2.513702  ]\n",
            " [ 1.9308498  -1.4555519 ]\n",
            " [-0.37314475 -0.55985075]\n",
            " [-0.57953465  0.9871779 ]]\n",
            "\n"
          ],
          "name": "stdout"
        },
        {
          "output_type": "display_data",
          "data": {
            "image/png": "[encoded data removed]",
            "text/plain": [
              "<Figure size 432x288 with 1 Axes>"
            ]
          },
          "metadata": {
            "tags": [],
            "needs_background": "light"
          }
        },
        {
          "output_type": "display_data",
          "data": {
            "image/png": "[encoded data removed]",
            "text/plain": [
              "<Figure size 432x288 with 1 Axes>"
            ]
          },
          "metadata": {
            "tags": [],
            "needs_background": "light"
          }
        }
      ]
    },
    {
      "cell_type": "markdown",
      "metadata": {
        "id": "rCmtwf3j1hBh"
      },
      "source": [
        "# Classifier Decision Boundary"
      ]
    },
    {
      "cell_type": "code",
      "metadata": {
        "colab": {
          "base_uri": "https://localhost:8080/",
          "height": 334
        },
        "id": "4ACQGxmT1BO-",
        "outputId": "c52fbc89-ff08-434e-eef7-0e9dbb576eb3"
      },
      "source": [
        "h = .02  # step size in the mesh\r\n",
        "slack = 0.1\r\n",
        "# Calculates the grid for the attribute space\r\n",
        "\r\n",
        "x_min, x_max = X_train.min(axis=0) - slack, X_train.max(axis=0) + slack\r\n",
        "xx, yy = np.meshgrid(np.arange(x_min[0], x_max[0], h), np.arange(x_min[1], x_max[1], h))\r\n",
        "X_grid = np.c_[xx.ravel(), yy.ravel()]\r\n",
        "\r\n",
        "# Prediction of all samples in our grid\r\n",
        "Z = model.predict(X_grid).argmax(axis = 1)\r\n",
        "Z = Z.reshape(xx.shape)\r\n",
        "\r\n",
        "# Display decision boundary\r\n",
        "plt.figure(1, figsize=(6, 5))\r\n",
        "plt.pcolormesh(xx, yy, Z, cmap=plt.cm.Paired)\r\n",
        "\r\n",
        "# Display training samples\r\n",
        "plt.scatter(X_train[:,0], X_train[:,1], c=colors[Y_train], edgecolors='k', cmap=plt.cm.Paired)\r\n",
        "plt.xlabel('x1')\r\n",
        "plt.ylabel('x2')\r\n",
        "plt.show()"
      ],
      "execution_count": 93,
      "outputs": [
        {
          "output_type": "display_data",
          "data": {
            "image/png": "[encoded data removed]",
            "text/plain": [
              "<Figure size 432x360 with 1 Axes>"
            ]
          },
          "metadata": {
            "tags": [],
            "needs_background": "light"
          }
        }
      ]
    },
    {
      "cell_type": "code",
      "metadata": {
        "id": "qEMbApur1w24"
      },
      "source": [
        ""
      ],
      "execution_count": 90,
      "outputs": []
    }
  ]
}