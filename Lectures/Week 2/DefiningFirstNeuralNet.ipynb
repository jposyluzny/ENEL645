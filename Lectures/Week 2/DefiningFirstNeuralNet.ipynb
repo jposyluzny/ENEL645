{
  "nbformat": 4,
  "nbformat_minor": 0,
  "metadata": {
    "colab": {
      "name": "DefiningFirstNeuralNet.ipynb",
      "provenance": [],
      "authorship_tag": "ABX9TyMqMnV0DYnOxyUcZWzNMNq8",
      "include_colab_link": true
    },
    "kernelspec": {
      "name": "python3",
      "display_name": "Python 3"
    }
  },
  "cells": [
    {
      "cell_type": "markdown",
      "metadata": {
        "id": "view-in-github",
        "colab_type": "text"
      },
      "source": [
        "<a href=\"https://colab.research.google.com/github/jposyluzny/ENEL645/blob/main/Lectures/Week%202/DefiningFirstNeuralNet.ipynb\" target=\"_parent\"><img src=\"https://colab.research.google.com/assets/colab-badge.svg\" alt=\"Open In Colab\"/></a>"
      ]
    },
    {
      "cell_type": "markdown",
      "metadata": {
        "id": "XOvXqdVYqWHK"
      },
      "source": [
        "# Fully Connected Neural Networks\r\n",
        "\r\n",
        "This tutorial demonstrates the usage of fully connected nueral-networks to classify 2-dimensional synthetic data. We implement the network using Keras and TensorFlow. Keras and TensorFlow are powerful frameworks that allow you to build many deep-learning-based applications. <br>\r\n",
        "The goals of this tutorial are:\r\n",
        "\r\n",
        "\r\n",
        "*   Introduce Keras and TensorFlow to implement fully connected neural networks\r\n",
        "*   Illustrate the non-linear decision rules that multi-layer neural networks can achieve."
      ]
    },
    {
      "cell_type": "markdown",
      "metadata": {
        "id": "ssjGEczAq6FQ"
      },
      "source": [
        "# Importing Python Libraries"
      ]
    },
    {
      "cell_type": "code",
      "metadata": {
        "colab": {
          "base_uri": "https://localhost:8080/"
        },
        "id": "z0veMD_fsIjl",
        "outputId": "febaab62-74ba-4e79-ceba-812e1349ccdd"
      },
      "source": [
        "from google.colab import drive\r\n",
        "drive.mount('/content/gdrive')"
      ],
      "execution_count": 1,
      "outputs": [
        {
          "output_type": "stream",
          "text": [
            "Mounted at /content/gdrive\n"
          ],
          "name": "stdout"
        }
      ]
    },
    {
      "cell_type": "code",
      "metadata": {
        "colab": {
          "base_uri": "https://localhost:8080/",
          "height": 352
        },
        "id": "36irNlkQo_1s",
        "outputId": "07d6df81-306d-4158-ff41-7da775d52bd9"
      },
      "source": [
        "%matplotlib inline\r\n",
        "import numpy as np\r\n",
        "import matplotlib.pyplot as plt\r\n",
        "\r\n",
        "import tensorflow as tf\r\n",
        "\r\n",
        "# physical_devices = tf.config.experimental.list_physical_devices('GPU')\r\n",
        "# tf.config.experimental.set_memory_growth(physical_devices[0], True)\r\n",
        "\r\n",
        "from tensorflow.keras.utils import to_categorical #Function to convert labels to onehot encoding\r\n",
        "from tensorflow.keras.models import Model\r\n",
        "from tensorflow.keras.layers import Dense, Activation, Input\r\n",
        "from tensorflow.keras.optimizers import SGD\r\n",
        "\r\n",
        "import sys\r\n",
        "\r\n",
        "# Adding dataset_utils to the system path so we can import it\r\n",
        "MY_UTILS_PATH = '../Modules/'\r\n",
        "\r\n",
        "if not MY_UTILS_PATH in sys.path:\r\n",
        "  sys.path.append(MY_UTILS_PATH)\r\n",
        "\r\n",
        "import dataset_utils"
      ],
      "execution_count": 2,
      "outputs": [
        {
          "output_type": "error",
          "ename": "ModuleNotFoundError",
          "evalue": "ignored",
          "traceback": [
            "\u001b[0;31m---------------------------------------------------------------------------\u001b[0m",
            "\u001b[0;31mModuleNotFoundError\u001b[0m                       Traceback (most recent call last)",
            "\u001b[0;32m<ipython-input-2-bca38c565d5b>\u001b[0m in \u001b[0;36m<module>\u001b[0;34m()\u001b[0m\n\u001b[1;32m     21\u001b[0m   \u001b[0msys\u001b[0m\u001b[0;34m.\u001b[0m\u001b[0mpath\u001b[0m\u001b[0;34m.\u001b[0m\u001b[0mappend\u001b[0m\u001b[0;34m(\u001b[0m\u001b[0mMY_UTILS_PATH\u001b[0m\u001b[0;34m)\u001b[0m\u001b[0;34m\u001b[0m\u001b[0;34m\u001b[0m\u001b[0m\n\u001b[1;32m     22\u001b[0m \u001b[0;34m\u001b[0m\u001b[0m\n\u001b[0;32m---> 23\u001b[0;31m \u001b[0;32mimport\u001b[0m \u001b[0mdataset_utils\u001b[0m\u001b[0;34m\u001b[0m\u001b[0;34m\u001b[0m\u001b[0m\n\u001b[0m",
            "\u001b[0;31mModuleNotFoundError\u001b[0m: No module named 'dataset_utils'",
            "",
            "\u001b[0;31m---------------------------------------------------------------------------\u001b[0;32m\nNOTE: If your import is failing due to a missing package, you can\nmanually install dependencies using either !pip or !apt.\n\nTo view examples of installing some common dependencies, click the\n\"Open Examples\" button below.\n\u001b[0;31m---------------------------------------------------------------------------\u001b[0m\n"
          ]
        }
      ]
    },
    {
      "cell_type": "code",
      "metadata": {
        "id": "aYJLRDoltBNn"
      },
      "source": [
        ""
      ],
      "execution_count": null,
      "outputs": []
    }
  ]
}