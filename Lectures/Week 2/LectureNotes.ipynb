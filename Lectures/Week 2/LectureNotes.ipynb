{
  "nbformat": 4,
  "nbformat_minor": 0,
  "metadata": {
    "colab": {
      "name": "LectureNotes.ipynb",
      "provenance": [],
      "authorship_tag": "ABX9TyMLE/VA8cpw1SqyQ9z0Fod7",
      "include_colab_link": true
    },
    "kernelspec": {
      "name": "python3",
      "display_name": "Python 3"
    }
  },
  "cells": [
    {
      "cell_type": "markdown",
      "metadata": {
        "id": "view-in-github",
        "colab_type": "text"
      },
      "source": [
        "<a href=\"https://colab.research.google.com/github/jposyluzny/ENEL645/blob/main/Lectures/Week%202/LectureNotes.ipynb\" target=\"_parent\"><img src=\"https://colab.research.google.com/assets/colab-badge.svg\" alt=\"Open In Colab\"/></a>"
      ]
    },
    {
      "cell_type": "markdown",
      "metadata": {
        "id": "LYXgDDWW88W7"
      },
      "source": [
        "# Gentle Intro to Deep Learning"
      ]
    },
    {
      "cell_type": "markdown",
      "metadata": {
        "id": "qwztRqut9Bo0"
      },
      "source": [
        "Gradient Descent Optimization is what we use to optimize our models <br>\r\n"
      ]
    },
    {
      "cell_type": "code",
      "metadata": {
        "id": "esrEg4Be9BFF"
      },
      "source": [
        ""
      ],
      "execution_count": null,
      "outputs": []
    }
  ]
}