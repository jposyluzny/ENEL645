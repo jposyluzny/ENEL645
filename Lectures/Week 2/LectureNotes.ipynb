{
  "nbformat": 4,
  "nbformat_minor": 0,
  "metadata": {
    "colab": {
      "name": "LectureNotes.ipynb",
      "provenance": [],
      "include_colab_link": true
    },
    "kernelspec": {
      "name": "python3",
      "display_name": "Python 3"
    }
  },
  "cells": [
    {
      "cell_type": "markdown",
      "metadata": {
        "id": "view-in-github",
        "colab_type": "text"
      },
      "source": [
        "<a href=\"https://colab.research.google.com/github/jposyluzny/ENEL645/blob/main/Lectures/Week%202/LectureNotes.ipynb\" target=\"_parent\"><img src=\"https://colab.research.google.com/assets/colab-badge.svg\" alt=\"Open In Colab\"/></a>"
      ]
    },
    {
      "cell_type": "markdown",
      "metadata": {
        "id": "LYXgDDWW88W7"
      },
      "source": [
        "#**Gentle Intro to Deep Learning**"
      ]
    },
    {
      "cell_type": "markdown",
      "metadata": {
        "id": "qwztRqut9Bo0"
      },
      "source": [
        "Gradient Descent Optimization is what we use to optimize our models <br>\r\n"
      ]
    },
    {
      "cell_type": "markdown",
      "metadata": {
        "id": "hbZlparxgpp8"
      },
      "source": [
        "# Data Normalization"
      ]
    },
    {
      "cell_type": "markdown",
      "metadata": {
        "id": "Fmhu1OMDg8hW"
      },
      "source": [
        "## Min-max Normalization (feature wise)"
      ]
    },
    {
      "cell_type": "markdown",
      "metadata": {
        "id": "tUV8mYPZgsPM"
      },
      "source": [
        "When scaling data, always use the min and max of the training dataset. Use them for scaling the training data, validation data, and test data"
      ]
    },
    {
      "cell_type": "markdown",
      "metadata": {
        "id": "XZM2gmifg_Ge"
      },
      "source": [
        "## Standardization (feature wise)"
      ]
    },
    {
      "cell_type": "markdown",
      "metadata": {
        "id": "lamMqhWmhAch"
      },
      "source": [
        "Same goes for Standardization. Use mean and standard deviation of training set"
      ]
    },
    {
      "cell_type": "markdown",
      "metadata": {
        "id": "yPe0XeT4hM2x"
      },
      "source": [
        "## Sample-wise Normalization"
      ]
    },
    {
      "cell_type": "markdown",
      "metadata": {
        "id": "_4idzWz9hQWu"
      },
      "source": [
        "Flatten is an important Keras function, will use a lot when working with images<br>\r\n",
        "Sample-wise normalization computes across each sample using the min, max, mean, and standard deviation of that sample"
      ]
    },
    {
      "cell_type": "markdown",
      "metadata": {
        "id": "esrEg4Be9BFF"
      },
      "source": [
        "# Fully Connected Neural Networks"
      ]
    },
    {
      "cell_type": "markdown",
      "metadata": {
        "id": "kKiYaYcHi2md"
      },
      "source": [
        "Let C = number of classes, M = number of number of features <br>\r\n",
        "Number of parameters = C * (M + 1)"
      ]
    },
    {
      "cell_type": "markdown",
      "metadata": {
        "id": "Q8H3wq3HkrFd"
      },
      "source": [
        "## Dropout"
      ]
    },
    {
      "cell_type": "markdown",
      "metadata": {
        "id": "uwo9-T6tnB9z"
      },
      "source": [
        "Dropout is a technique to avoid overfitting. The model will learn redundant paths, which allows the model to gain robustness. "
      ]
    }
  ]
}