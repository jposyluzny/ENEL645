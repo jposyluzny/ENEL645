{
  "nbformat": 4,
  "nbformat_minor": 0,
  "metadata": {
    "colab": {
      "name": "Softmax,OHE,CrossEntropy,Accuracy.ipynb",
      "provenance": [],
      "authorship_tag": "ABX9TyMlV/tKdtNRdbpqdgm2j9yq",
      "include_colab_link": true
    },
    "kernelspec": {
      "name": "python3",
      "display_name": "Python 3"
    },
    "widgets": {
      "application/vnd.jupyter.widget-state+json": {
        "9487f629b8624ac69e73b4a72a54c6ba": {
          "model_module": "@jupyter-widgets/controls",
          "model_name": "VBoxModel",
          "state": {
            "_view_name": "VBoxView",
            "_dom_classes": [
              "widget-interact"
            ],
            "_model_name": "VBoxModel",
            "_view_module": "@jupyter-widgets/controls",
            "_model_module_version": "1.5.0",
            "_view_count": null,
            "_view_module_version": "1.5.0",
            "box_style": "",
            "layout": "IPY_MODEL_de8e7a98fccb4e27933da66673d0e5c0",
            "_model_module": "@jupyter-widgets/controls",
            "children": [
              "IPY_MODEL_360eaae6a3db4ca3bdb9fb696c2a4439",
              "IPY_MODEL_9e66cfd8edf1454e96602dca0c6f4928",
              "IPY_MODEL_432011445b85482988e417a91a3865c1",
              "IPY_MODEL_8f6f9c51ec7f4054bed0e022ffcc0fd4"
            ]
          }
        },
        "de8e7a98fccb4e27933da66673d0e5c0": {
          "model_module": "@jupyter-widgets/base",
          "model_name": "LayoutModel",
          "state": {
            "_view_name": "LayoutView",
            "grid_template_rows": null,
            "right": null,
            "justify_content": null,
            "_view_module": "@jupyter-widgets/base",
            "overflow": null,
            "_model_module_version": "1.2.0",
            "_view_count": null,
            "flex_flow": null,
            "width": null,
            "min_width": null,
            "border": null,
            "align_items": null,
            "bottom": null,
            "_model_module": "@jupyter-widgets/base",
            "top": null,
            "grid_column": null,
            "overflow_y": null,
            "overflow_x": null,
            "grid_auto_flow": null,
            "grid_area": null,
            "grid_template_columns": null,
            "flex": null,
            "_model_name": "LayoutModel",
            "justify_items": null,
            "grid_row": null,
            "max_height": null,
            "align_content": null,
            "visibility": null,
            "align_self": null,
            "height": null,
            "min_height": null,
            "padding": null,
            "grid_auto_rows": null,
            "grid_gap": null,
            "max_width": null,
            "order": null,
            "_view_module_version": "1.2.0",
            "grid_template_areas": null,
            "object_position": null,
            "object_fit": null,
            "grid_auto_columns": null,
            "margin": null,
            "display": null,
            "left": null
          }
        },
        "360eaae6a3db4ca3bdb9fb696c2a4439": {
          "model_module": "@jupyter-widgets/controls",
          "model_name": "FloatSliderModel",
          "state": {
            "_view_name": "FloatSliderView",
            "style": "IPY_MODEL_156cadc0859843199bae8eff0867f266",
            "_dom_classes": [],
            "description": "s1",
            "step": 0.1,
            "_model_name": "FloatSliderModel",
            "orientation": "horizontal",
            "max": 10,
            "_view_module": "@jupyter-widgets/controls",
            "_model_module_version": "1.5.0",
            "value": 7.9,
            "_view_count": null,
            "disabled": false,
            "_view_module_version": "1.5.0",
            "min": 1,
            "continuous_update": true,
            "readout_format": ".2f",
            "description_tooltip": null,
            "readout": true,
            "_model_module": "@jupyter-widgets/controls",
            "layout": "IPY_MODEL_b23cb001154c4669868ca63f36050dde"
          }
        },
        "9e66cfd8edf1454e96602dca0c6f4928": {
          "model_module": "@jupyter-widgets/controls",
          "model_name": "FloatSliderModel",
          "state": {
            "_view_name": "FloatSliderView",
            "style": "IPY_MODEL_876c09f99f4a4f5b91d9bfbc00900a60",
            "_dom_classes": [],
            "description": "s2",
            "step": 0.1,
            "_model_name": "FloatSliderModel",
            "orientation": "horizontal",
            "max": 10,
            "_view_module": "@jupyter-widgets/controls",
            "_model_module_version": "1.5.0",
            "value": 6.8,
            "_view_count": null,
            "disabled": false,
            "_view_module_version": "1.5.0",
            "min": 1,
            "continuous_update": true,
            "readout_format": ".2f",
            "description_tooltip": null,
            "readout": true,
            "_model_module": "@jupyter-widgets/controls",
            "layout": "IPY_MODEL_b7721b0d58074df8b2ca9c0fb0a4a476"
          }
        },
        "432011445b85482988e417a91a3865c1": {
          "model_module": "@jupyter-widgets/controls",
          "model_name": "FloatSliderModel",
          "state": {
            "_view_name": "FloatSliderView",
            "style": "IPY_MODEL_3ec59b16c5a1424ea2d8d1daa1d9876f",
            "_dom_classes": [],
            "description": "s3",
            "step": 0.1,
            "_model_name": "FloatSliderModel",
            "orientation": "horizontal",
            "max": 10,
            "_view_module": "@jupyter-widgets/controls",
            "_model_module_version": "1.5.0",
            "value": 4.1,
            "_view_count": null,
            "disabled": false,
            "_view_module_version": "1.5.0",
            "min": 1,
            "continuous_update": true,
            "readout_format": ".2f",
            "description_tooltip": null,
            "readout": true,
            "_model_module": "@jupyter-widgets/controls",
            "layout": "IPY_MODEL_19d40b7156884cfd9707bb878292b367"
          }
        },
        "8f6f9c51ec7f4054bed0e022ffcc0fd4": {
          "model_module": "@jupyter-widgets/output",
          "model_name": "OutputModel",
          "state": {
            "_view_name": "OutputView",
            "msg_id": "",
            "_dom_classes": [],
            "_model_name": "OutputModel",
            "outputs": [
              {
                "output_type": "display_data",
                "metadata": {
                  "tags": []
                },
                "image/png": "iVBORw0KGgoAAAANSUhEUgAAAS8AAADmCAYAAACETgMQAAAABHNCSVQICAgIfAhkiAAAAAlwSFlzAAAPYQAAD2EBqD+naQAAADh0RVh0U29mdHdhcmUAbWF0cGxvdGxpYiB2ZXJzaW9uMy4yLjIsIGh0dHA6Ly9tYXRwbG90bGliLm9yZy+WH4yJAAAZBklEQVR4nO3df1TT1/0/8GeCEuQo+AMBoXHguk09KsiviNZ2bpG0OjzM4zlIN2Gs6umOtWjWKbQIUztje6aHWrAcnWzddhxYW92qHKxkovaQliOUTp2y+aPinAkwJiAquCTfP/zy7icSJMSQNxefj3NyjlzufeeVeHie+755530VdrvdDiIiwSjlLoCIyB0MLyISEsOLiITE8CIiITG8iEhIDC8iEhLDi4iExPAiIiExvIhISAwvIhKSrOF16tQpJCcnIywsDAqFAocPH+53TFVVFWJiYqBSqfD000/jd7/73eAXSkRDjqzh1dnZiaioKBQVFbnU/+rVq1i8eDEWLFiA+vp6rFu3DitXrsSxY8cGuVIiGmoUQ+WL2QqFAocOHUJKSkqffTZu3IijR4/i3LlzUtvy5ctx69YtVFRUeKNMIhoiRshdwECYTCZotVqHNp1Oh3Xr1vU5pqurC11dXdLPNpsNra2tmDBhAhQKxaDVSkTusdvt6OjoQFhYGJTKvk8OhQovs9mMkJAQh7aQkBC0t7fj7t27GDVqVK8xBoMBmzdv9laJROQh169fx1NPPdXn74UKL3fk5ORAr9dLP7e1tWHy5Mm4fv06AgICZKyMiJxpb2+HWq3GmDFjHtlPqPAKDQ2FxWJxaLNYLAgICHA66wIAlUoFlUrVqz0gIIDhRTSE9besI9R1XomJiTAajQ5tx48fR2JiokwVEZFcZA2v27dvo76+HvX19QAeXApRX1+PxsZGAA9O+dLT06X+L7/8Mq5cuYINGzbg4sWL2L17Nw4cOID169fLUj8RyUfW8Dpz5gxmz56N2bNnAwD0ej1mz56NvLw8AMDNmzelIAOAyMhIHD16FMePH0dUVBR27NiB3/zmN9DpdLLUT0TyGTLXeXlLe3s7AgMD0dbWxjUvoiHI1b9Roda8iIh6MLyISEgMLyISEsOLiITE8CIiITG8iEhIDC8iEhLDi4iExPAiIiExvIhISAwvIhISw4uIhMTwIiIhMbyISEgMLyISEsOLiITE8CIiITG8iEhIDC8iEhLDi4iEJHt4FRUVISIiAn5+ftBoNKipqXlk/4KCAnznO9/BqFGjoFarsX79ety7d89L1RLRUCFreJWVlUGv1yM/Px91dXWIioqCTqdDU1OT0/779+9HdnY28vPzceHCBezbtw9lZWV4/fXXvVw5EclN1vDauXMnVq1ahczMTEyfPh3FxcXw9/dHSUmJ0/7V1dWYN28eXnzxRURERCApKQlpaWn9ztaIaPiRLby6u7tRW1sLrVb7dTFKJbRaLUwmk9Mxc+fORW1trRRWV65cQXl5ORYtWtTn83R1daG9vd3hQUTiGyHXE7e0tMBqtSIkJMShPSQkBBcvXnQ65sUXX0RLSwueeeYZ2O12/O9//8PLL7/8yNNGg8GAzZs3e7R2IpKf7Av2A1FVVYVt27Zh9+7dqKurw0cffYSjR49i69atfY7JyclBW1ub9Lh+/boXKyaiwSLbzCsoKAg+Pj6wWCwO7RaLBaGhoU7HbNq0CStWrMDKlSsBADNnzkRnZydWr16NN954A0pl7yxWqVRQqVSefwFEJCvZZl6+vr6IjY2F0WiU2mw2G4xGIxITE52OuXPnTq+A8vHxAQDY7fbBK5aIhhzZZl4AoNfrkZGRgbi4OCQkJKCgoACdnZ3IzMwEAKSnpyM8PBwGgwEAkJycjJ07d2L27NnQaDS4dOkSNm3ahOTkZCnEiOjJIGt4paamorm5GXl5eTCbzYiOjkZFRYW0iN/Y2Ogw08rNzYVCoUBubi5u3LiBiRMnIjk5Gb/61a/keglEJBOF/Qk732pvb0dgYCDa2toQEBAgdzlE9BBX/0aF+rSRiKgHw4uIhCTrmpcIFJsVcpcgsec/UWf4RI/EmRcRCYnhRURCYngRkZAYXkQkJIYXEQmJ4UVEQmJ4EZGQGF5EJCSGFxEJya3wetRWYzdv3nS7GCIiV7kVXjExMaivr+/V/uGHH2LWrFmPXRQRUX/cCq/vfve7mDNnDt566y0AQGdnJ37yk59gxYoV3EORiLzCrS9m7969G4sXL8bKlStx5MgR3Lx5E6NHj0ZNTQ1mzJjh6RqJiHpx+64SL7zwApYuXYr33nsPI0aMwMcff8zgIiKvceu08fLly0hMTMSRI0dw7NgxbNiwAUuWLMGGDRtw//59T9dIRNSLW+EVHR2NyMhIfPnll1i4cCHefPNNnDhxAh999BESEhI8XSMRUS9uhdfu3btRWlqKsWPHSm1z587FF198gZiYGI8VR0TUF7fCa8WKFU7bx4wZg3379g3oWEVFRYiIiICfnx80Gg1qamoe2f/WrVtYs2YNJk2aBJVKhW9/+9soLy8f0HMSkfge6zbQf//739HY2Iju7m6pTaFQIDk52aXxZWVl0Ov1KC4uhkajQUFBAXQ6HRoaGhAcHNyrf3d3NxYuXIjg4GAcPHgQ4eHhuHbtmsMMkIieDG6F15UrV/DDH/4QZ8+ehUKhkHarVige3O/darW6dJydO3di1apV0iazxcXFOHr0KEpKSpCdnd2rf0lJCVpbW1FdXY2RI0cCACIiItx5CUQkOLdOG7OyshAZGYmmpib4+/vj/PnzOHXqFOLi4lBVVeXSMbq7u1FbWwutVvt1MUoltFotTCaT0zF/+ctfkJiYiDVr1iAkJAQzZszAtm3bHhmWXV1daG9vd3gQkfjcCi+TyYQtW7YgKCgISqUSSqUSzzzzDAwGA1599VWXjtHS0gKr1Srtjt0jJCQEZrPZ6ZgrV67g4MGDsFqtKC8vx6ZNm7Bjxw68+eabfT6PwWBAYGCg9FCr1a6/UCIastwKL6vVijFjxgAAgoKC8O9//xsA8I1vfAMNDQ2eq+4hNpsNwcHB2LNnD2JjY5Gamoo33ngDxcXFfY7JyclBW1ub9Lh+/fqg1UdE3uPWmteMGTPw5ZdfIjIyEhqNBm+//TZ8fX2xZ88eTJkyxaVjBAUFwcfHBxaLxaHdYrEgNDTU6ZhJkyZh5MiR8PHxkdqmTZsGs9mM7u5u+Pr69hqjUqmgUqkG8OqISARuzbxyc3Nhs9kAAFu2bMHVq1cxf/58lJeXY9euXS4dw9fXF7GxsTAajVKbzWaD0WhEYmKi0zHz5s3DpUuXpOcGgH/84x+YNGmS0+AiouHLrZmXTqeT/v3000/j4sWLaG1txbhx46RPHF2h1+uRkZGBuLg4JCQkoKCgAJ2dndKnj+np6QgPD4fBYAAA/OxnP0NhYSGysrKwdu1a/POf/8S2bdtcXmcjouHjsa7z+r/Gjx8/4DGpqalobm5GXl4ezGYzoqOjUVFRIS3iNzY2Qqn8enKoVqtx7NgxrF+/HrNmzUJ4eDiysrKwceNGT70MIhKEwt5zkdYA3Lt3D++++y5OnDiBpqYmh9M4AKirq/NYgZ7W3t6OwMBAtLW1ISAgoN/+is2uzyQHmz1/wP9VRMJx9W/UrZnXSy+9hE8++QTLli1DQkLCgE4ViYg8wa3wOnLkCMrLyzFv3jxP10NE5BK3Pm0MDw+XrvMiIpKDW+G1Y8cObNy4EdeuXfN0PURELnHrtDEuLg737t3DlClT4O/vL31Jukdra6tHiiMi6otb4ZWWloYbN25g27ZtCAkJ4YI9EXmdW+FVXV0Nk8mEqKgoT9dDROQSt9a8pk6dirt373q6FiIil7kVXtu3b8fPf/5zVFVV4T//+Q/vl0VEXufWaePzzz8PAPj+97/v0G6326FQKFy+kyoRkbvcCq8TJ054ug4iogFxK7wiIyOhVqt7fcpot9t5sz8i8gq31rwiIyPR3Nzcq721tRWRkZGPXRQRUX/cCq+eta2H3b59G35+fo9dFBFRfwZ02qjX6wE82OJs06ZN8Pf3l35ntVrx+eefIzo62rMVEhE5MaDw+uKLLwA8mHmdPXvW4dbLvr6+iIqKwmuvvebZComInHA5vHbt2oXy8nKMGjUKmZmZeOedd1y6mR8R0WBwec1Lr9ejo6MDAPD73/8e9+7dG7SiiIj64/LMKywsDB9++CEWLVoEu92Of/3rX30G2OTJkz1WIBGRMy7PvHJzc7Fu3TpMmTIFCoUC8fHxiIyMdHhERES4dalEUVERIiIi4OfnB41Gg5qaGpfGlZaWQqFQICUlZcDPSURic3nmtXr1aqSlpeHatWuYNWsWKisrMWHChMcuoKysDHq9HsXFxdBoNCgoKIBOp0NDQwOCg4P7HPfVV1/htddew/z58x+7BiISj1u7B73//vtYvny5R3ai1mg0iI+PR2FhIYAHG8+q1WqsXbsW2dnZTsdYrVY8++yz+OlPf4rTp0/j1q1bOHz4sEvPx92DiIa2Qd09KCMjAwBQW1uLCxcuAACmT5+OmJiYAR2nu7sbtbW1yMnJkdqUSiW0Wi1MJlOf47Zs2YLg4GC89NJLOH369COfo6urC11dXdLPvOsF0fDgVng1NTVh+fLlqKqqwtixYwEAt27dwoIFC1BaWoqJEye6dJyWlhZYrVZpk9keISEhuHjxotMxn376Kfbt24f6+nqXnsNgMGDz5s0u9SUicbj19aC1a9eio6MD58+fR2trK1pbW3Hu3Dm0t7fj1Vdf9XSNko6ODqxYsQJ79+5FUFCQS2NycnLQ1tYmPfjFcaLhwa2ZV0VFBSorKzFt2jSpbfr06SgqKkJSUpLLxwkKCoKPjw8sFotDu8ViQWhoaK/+ly9fxldffYXk5GSprWe37hEjRqChoQHf/OY3HcaoVCqPrM0R0dDi1szLZrP12jEIAEaOHCmFiSt8fX0RGxsLo9HocGyj0YjExMRe/adOnYqzZ8+ivr5eeixZsgQLFixAfX091Gq1Oy+HiATk1szre9/7HrKysvCnP/0JYWFhAIAbN25g/fr1ve6u2h+9Xo+MjAzExcUhISEBBQUF6OzsRGZmJgAgPT0d4eHhMBgM8PPzw4wZMxzG96y5PdxORMObW+FVWFiIJUuWICIiQprtNDY2YubMmfjjH/84oGOlpqaiubkZeXl5MJvNiI6ORkVFhbSI39jYCKXSrQkiEQ1jbl3nBTy4s0RlZaX0qeD06dMHPOuSA6/zIhraXP0bHdCUxmQy4ciRIwAe3NNr4cKFCAgIwI4dO5CWlobVq1c7XFNFRDRYBhReW7Zswfnz56Wfz549i1WrVmHhwoXIzs7Gxx9/DIPB4PEiiYgeNqDwqq+vdzg1LC0tRUJCAvbu3Qu9Xo9du3bhwIEDHi+SiOhhAwqv//73vw5Xw588eRIvvPCC9HN8fDwvAiUirxhQeIWEhODq1asAHnwvsa6uDnPmzJF+39HR4fT6LyIiTxtQeC1atAjZ2dk4ffo0cnJy4O/v73BLmr/97W+9rnAnIhoMA7rOa+vWrVi6dCmee+45jB49Gu+//77DJhwlJSUD+noQEZG7BhReQUFBOHXqFNra2jB69Gj4+Pg4/P6DDz7A6NGjPVogEZEzbl1hHxgY6LR9/Pjxj1UMEZGr+L0bIhISw4uIhMTwIiIhMbyISEgMLyISEsOLiITE8CIiITG8iEhIbl2kSuQpvFMtuYszLyISEsOLiIQ0JMKrqKgIERER8PPzg0ajQU1NTZ999+7di/nz52PcuHEYN24ctFrtI/sT0fAke3iVlZVBr9cjPz8fdXV1iIqKgk6nQ1NTk9P+VVVVSEtLw4kTJ2AymaBWq5GUlIQbN254uXIikpPbW595ikajQXx8PAoLCwE82DFbrVZj7dq1yM7O7ne81WrFuHHjUFhYiPT09H77c+uzoYXvLz1sULY+87Tu7m7U1tZCq9VKbUqlElqtFiaTyaVj3LlzB/fv3+/zdjxdXV1ob293eBCR+GQNr5aWFlitVodNPYAH98o3m80uHWPjxo0ICwtzCMD/y2AwIDAwUHr07PBNRGKTfc3rcWzfvh2lpaU4dOgQ/Pz8nPbJyclBW1ub9ODuRkTDg6wXqQYFBcHHxwcWi8Wh3WKxIDQ09JFjf/3rX2P79u2orKzErFmz+uynUqmgUqk8Ui8RDR2yzrx8fX0RGxsLo9EotdlsNhiNRiQmJvY57u2338bWrVtRUVGBuLg4b5RKREOM7F8P0uv1yMjIQFxcHBISElBQUIDOzk5kZmYCANLT0xEeHg6DwQAAeOutt5CXl4f9+/cjIiJCWhsbPXo0N/8geoLIHl6pqalobm5GXl4ezGYzoqOjUVFRIS3iNzY2Qqn8eoL43nvvobu7G8uWLXM4Tn5+Pn75y196s3QikpHs13l5G6/zGlr4/tLDhLjOi4jIXQwvIhISw4uIhMTwIiIhMbyISEgMLyISEsOLiITE8CIiITG8iEhIDC8iEhLDi4iExPAiIiExvIhISAwvIhISw4uIhMTwIiIhMbyISEgMLyISEsOLiITE8CIiIQ2J8CoqKkJERAT8/Pyg0WhQU1PzyP4ffPABpk6dCj8/P8ycORPl5eVeqpSIhgrZtz4rKyuDXq9HcXExNBoNCgoKoNPp0NDQgODg4F79q6urkZaWBoPBgB/84AfYv38/UlJSUFdXhxkzZsjwCoiGruG8O5PsM6+dO3di1apVyMzMxPTp01FcXAx/f3+UlJQ47f/OO+/g+eefxy9+8QtMmzYNW7duRUxMDAoLC71cORHJSdaZV3d3N2pra5GTkyO1KZVKaLVamEwmp2NMJhP0er1Dm06nw+HDh5327+rqQldXl/RzW1sbgAd7w7nknmvdvMHlmkXC93dwCfj+9vTrb0tZWcOrpaUFVqtV2h27R0hICC5evOh0jNlsdtrfbDY77W8wGLB58+Ze7Wq12s2q5RO4PVDuEoY1vr+Da6Dvb0dHBwID+x4j+5rXYMvJyXGYqdlsNrS2tmLChAlQKAZ/PaC9vR1qtRrXr193aYduGji+x4PL2++v3W5HR0cHwsLCHtlP1vAKCgqCj48PLBaLQ7vFYkFoaKjTMaGhoQPqr1KpoFKpHNrGjh37GFW7JyAggH9Yg4zv8eDy5vv7qBlXD1kX7H19fREbGwuj0Si12Ww2GI1GJCYmOh2TmJjo0B8Ajh8/3md/IhqeZD9t1Ov1yMjIQFxcHBISElBQUIDOzk5kZmYCANLT0xEeHg6DwQAAyMrKwnPPPYcdO3Zg8eLFKC0txZkzZ7Bnzx45XwYReZns4ZWamorm5mbk5eXBbDYjOjoaFRUV0qJ8Y2MjlMqvJ4hz587F/v37kZubi9dffx3f+ta3cPjw4SF7jZdKpUJ+fn6vU1fyHL7Hg2uovr8Ke3+fRxIRDUGyX6RKROQOhhcRCYnhRURCYngRkZAYXoNsoLf7IdedOnUKycnJCAsLg0Kh6PP7rTRwBoMB8fHxGDNmDIKDg5GSkoKGhga5y3LA8BpEPbf7yc/PR11dHaKioqDT6dDU1CR3acNCZ2cnoqKiUFRUJHcpw87JkyexZs0afPbZZzh+/Dju37+PpKQkdHZ2yl2ahJdKDCKNRoP4+Hjpdj02mw1qtRpr165Fdna2zNUNLwqFAocOHUJKSorcpQxLzc3NCA4OxsmTJ/Hss8/KXQ4AzrwGTc/tfrRardTW3+1+iIaqnltJjR8/XuZKvsbwGiSPut1PX7fvIRqKbDYb1q1bh3nz5g2pb7LI/vUgIhra1qxZg3PnzuHTTz+VuxQHDK9B4s7tfoiGmldeeQVHjhzBqVOn8NRTT8ldjgOeNg4Sd273QzRU2O12vPLKKzh06BD++te/IjIyUu6SeuHMaxD1d7sfejy3b9/GpUuXpJ+vXr2K+vp6jB8/HpMnT5axMvGtWbMG+/fvx5///GeMGTNGWqcNDAzEqFGjZK7u/7PToHr33XftkydPtvv6+toTEhLsn332mdwlDRsnTpywA+j1yMjIkLs04Tl7XwHYf/vb38pdmoTXeRGRkLjmRURCYngRkZAYXkQkJIYXEQmJ4UVEQmJ4EZGQGF5EJCSGFxEJieFFw4LVasWFCxfkLoO8iOFFw8LRo0cxZ84c7hHwBGF40bCwZMkSbNiwAUlJSThz5ozc5ZAX8LuNJIyqqiosWLCg335TpkzB5cuXvVARyYnhRcK4c+cOGhsb+/z9gQMHsHXrVpSVlWHp0qVerIzkwPCiYeH48eNYsmQJ/vCHP2DZsmVyl0NewPCiYaGjowPV1dXQ6XRyl0JewvAiIiHx00YSTnl5ORQKRZ+P1NRUuUskL+DMi4Rz9+5daRPUHlarFZmZmairq4PRaERUVJRM1ZG3cAMOEs6oUaMcNoGwWq340Y9+xOB6wvC0kYRmtVrx4x//GJWVlQyuJwxnXiSsnuD65JNPGFxPIM68SEhWqxUrVqyQgis6OlruksjLGF4knJ7gOnbsGCorKxlcTyiGFwnFarUiPT1dCq7Zs2fLXRLJhGteJAybzYb09HQcPnwYBw8exKRJk6Rt6HtMnDgRPj4+MlVI3sTrvEgYn3/+OebMmdPn7xUKBW7duoWAgAAvVkVyYXgRkZC45kVEQmJ4EZGQGF5EJCSGFxEJieFFREJieBGRkBheRCQkhhcRCYnhRURCYngRkZAYXkQkJIYXEQnp/wHgD9zY115dhwAAAABJRU5ErkJggg==\n",
                "text/plain": "<Figure size 300x200 with 1 Axes>"
              }
            ],
            "_view_module": "@jupyter-widgets/output",
            "_model_module_version": "1.0.0",
            "_view_count": null,
            "_view_module_version": "1.0.0",
            "layout": "IPY_MODEL_08d19325196541fc922230ee1aacb8f9",
            "_model_module": "@jupyter-widgets/output"
          }
        },
        "156cadc0859843199bae8eff0867f266": {
          "model_module": "@jupyter-widgets/controls",
          "model_name": "SliderStyleModel",
          "state": {
            "_view_name": "StyleView",
            "handle_color": null,
            "_model_name": "SliderStyleModel",
            "description_width": "",
            "_view_module": "@jupyter-widgets/base",
            "_model_module_version": "1.5.0",
            "_view_count": null,
            "_view_module_version": "1.2.0",
            "_model_module": "@jupyter-widgets/controls"
          }
        },
        "b23cb001154c4669868ca63f36050dde": {
          "model_module": "@jupyter-widgets/base",
          "model_name": "LayoutModel",
          "state": {
            "_view_name": "LayoutView",
            "grid_template_rows": null,
            "right": null,
            "justify_content": null,
            "_view_module": "@jupyter-widgets/base",
            "overflow": null,
            "_model_module_version": "1.2.0",
            "_view_count": null,
            "flex_flow": null,
            "width": null,
            "min_width": null,
            "border": null,
            "align_items": null,
            "bottom": null,
            "_model_module": "@jupyter-widgets/base",
            "top": null,
            "grid_column": null,
            "overflow_y": null,
            "overflow_x": null,
            "grid_auto_flow": null,
            "grid_area": null,
            "grid_template_columns": null,
            "flex": null,
            "_model_name": "LayoutModel",
            "justify_items": null,
            "grid_row": null,
            "max_height": null,
            "align_content": null,
            "visibility": null,
            "align_self": null,
            "height": null,
            "min_height": null,
            "padding": null,
            "grid_auto_rows": null,
            "grid_gap": null,
            "max_width": null,
            "order": null,
            "_view_module_version": "1.2.0",
            "grid_template_areas": null,
            "object_position": null,
            "object_fit": null,
            "grid_auto_columns": null,
            "margin": null,
            "display": null,
            "left": null
          }
        },
        "876c09f99f4a4f5b91d9bfbc00900a60": {
          "model_module": "@jupyter-widgets/controls",
          "model_name": "SliderStyleModel",
          "state": {
            "_view_name": "StyleView",
            "handle_color": null,
            "_model_name": "SliderStyleModel",
            "description_width": "",
            "_view_module": "@jupyter-widgets/base",
            "_model_module_version": "1.5.0",
            "_view_count": null,
            "_view_module_version": "1.2.0",
            "_model_module": "@jupyter-widgets/controls"
          }
        },
        "b7721b0d58074df8b2ca9c0fb0a4a476": {
          "model_module": "@jupyter-widgets/base",
          "model_name": "LayoutModel",
          "state": {
            "_view_name": "LayoutView",
            "grid_template_rows": null,
            "right": null,
            "justify_content": null,
            "_view_module": "@jupyter-widgets/base",
            "overflow": null,
            "_model_module_version": "1.2.0",
            "_view_count": null,
            "flex_flow": null,
            "width": null,
            "min_width": null,
            "border": null,
            "align_items": null,
            "bottom": null,
            "_model_module": "@jupyter-widgets/base",
            "top": null,
            "grid_column": null,
            "overflow_y": null,
            "overflow_x": null,
            "grid_auto_flow": null,
            "grid_area": null,
            "grid_template_columns": null,
            "flex": null,
            "_model_name": "LayoutModel",
            "justify_items": null,
            "grid_row": null,
            "max_height": null,
            "align_content": null,
            "visibility": null,
            "align_self": null,
            "height": null,
            "min_height": null,
            "padding": null,
            "grid_auto_rows": null,
            "grid_gap": null,
            "max_width": null,
            "order": null,
            "_view_module_version": "1.2.0",
            "grid_template_areas": null,
            "object_position": null,
            "object_fit": null,
            "grid_auto_columns": null,
            "margin": null,
            "display": null,
            "left": null
          }
        },
        "3ec59b16c5a1424ea2d8d1daa1d9876f": {
          "model_module": "@jupyter-widgets/controls",
          "model_name": "SliderStyleModel",
          "state": {
            "_view_name": "StyleView",
            "handle_color": null,
            "_model_name": "SliderStyleModel",
            "description_width": "",
            "_view_module": "@jupyter-widgets/base",
            "_model_module_version": "1.5.0",
            "_view_count": null,
            "_view_module_version": "1.2.0",
            "_model_module": "@jupyter-widgets/controls"
          }
        },
        "19d40b7156884cfd9707bb878292b367": {
          "model_module": "@jupyter-widgets/base",
          "model_name": "LayoutModel",
          "state": {
            "_view_name": "LayoutView",
            "grid_template_rows": null,
            "right": null,
            "justify_content": null,
            "_view_module": "@jupyter-widgets/base",
            "overflow": null,
            "_model_module_version": "1.2.0",
            "_view_count": null,
            "flex_flow": null,
            "width": null,
            "min_width": null,
            "border": null,
            "align_items": null,
            "bottom": null,
            "_model_module": "@jupyter-widgets/base",
            "top": null,
            "grid_column": null,
            "overflow_y": null,
            "overflow_x": null,
            "grid_auto_flow": null,
            "grid_area": null,
            "grid_template_columns": null,
            "flex": null,
            "_model_name": "LayoutModel",
            "justify_items": null,
            "grid_row": null,
            "max_height": null,
            "align_content": null,
            "visibility": null,
            "align_self": null,
            "height": null,
            "min_height": null,
            "padding": null,
            "grid_auto_rows": null,
            "grid_gap": null,
            "max_width": null,
            "order": null,
            "_view_module_version": "1.2.0",
            "grid_template_areas": null,
            "object_position": null,
            "object_fit": null,
            "grid_auto_columns": null,
            "margin": null,
            "display": null,
            "left": null
          }
        },
        "08d19325196541fc922230ee1aacb8f9": {
          "model_module": "@jupyter-widgets/base",
          "model_name": "LayoutModel",
          "state": {
            "_view_name": "LayoutView",
            "grid_template_rows": null,
            "right": null,
            "justify_content": null,
            "_view_module": "@jupyter-widgets/base",
            "overflow": null,
            "_model_module_version": "1.2.0",
            "_view_count": null,
            "flex_flow": null,
            "width": null,
            "min_width": null,
            "border": null,
            "align_items": null,
            "bottom": null,
            "_model_module": "@jupyter-widgets/base",
            "top": null,
            "grid_column": null,
            "overflow_y": null,
            "overflow_x": null,
            "grid_auto_flow": null,
            "grid_area": null,
            "grid_template_columns": null,
            "flex": null,
            "_model_name": "LayoutModel",
            "justify_items": null,
            "grid_row": null,
            "max_height": null,
            "align_content": null,
            "visibility": null,
            "align_self": null,
            "height": null,
            "min_height": null,
            "padding": null,
            "grid_auto_rows": null,
            "grid_gap": null,
            "max_width": null,
            "order": null,
            "_view_module_version": "1.2.0",
            "grid_template_areas": null,
            "object_position": null,
            "object_fit": null,
            "grid_auto_columns": null,
            "margin": null,
            "display": null,
            "left": null
          }
        }
      }
    }
  },
  "cells": [
    {
      "cell_type": "markdown",
      "metadata": {
        "id": "view-in-github",
        "colab_type": "text"
      },
      "source": [
        "<a href=\"https://colab.research.google.com/github/jposyluzny/ENEL645/blob/main/Lectures/Week%203/Softmax%2COHE%2CCrossEntropy%2CAccuracy.ipynb\" target=\"_parent\"><img src=\"https://colab.research.google.com/assets/colab-badge.svg\" alt=\"Open In Colab\"/></a>"
      ]
    },
    {
      "cell_type": "markdown",
      "metadata": {
        "id": "NDwlMxNobdvV"
      },
      "source": [
        "Softmax receives a vector of numbers, and spits out a vector of numbers that can be interpreted as probabilities. They are between 0 and 1, and the sum of them all is 1"
      ]
    },
    {
      "cell_type": "code",
      "metadata": {
        "id": "1D-tiZcuco66"
      },
      "source": [
        "%matplotlib inline\r\n",
        "import numpy as np\r\n",
        "import pandas as pd\r\n",
        "import tensorflow as tf\r\n",
        "import matplotlib.pylab as plt\r\n",
        "np.set_printoptions(suppress=True, precision=3) # Limits the number of decimal houses when printing values to 3\r\n",
        "import ipywidgets as widgets # for cells with interactivity\r\n",
        "from tensorflow.keras.utils import to_categorical # Function to convert labels to one-hot encoding"
      ],
      "execution_count": 1,
      "outputs": []
    },
    {
      "cell_type": "code",
      "metadata": {
        "id": "BpbGnUbfcwzE"
      },
      "source": [
        "def softmax(Z):   # number of columns = number of classes in classification problems\r\n",
        "  EZ = np.exp(Z)\r\n",
        "  S = EZ / EZ.sum(axis=1, keepdims=True)\r\n",
        "  return S"
      ],
      "execution_count": 2,
      "outputs": []
    },
    {
      "cell_type": "code",
      "metadata": {
        "colab": {
          "base_uri": "https://localhost:8080/"
        },
        "id": "1naGnTYbdBfc",
        "outputId": "1c219d1c-f89c-43a9-f583-552ef3ca5884"
      },
      "source": [
        "# Test the code on a case where n = 10 and k = 3\r\n",
        "\r\n",
        "aux = np.linspace(-2, 6.0, 10).reshape(-1,1)\r\n",
        "Z = np.hstack([aux, np.ones_like(aux), 0.2 * np.ones_like(aux)])\r\n",
        "\r\n",
        "S = softmax(Z)\r\n",
        "print('Z=\\n',Z)\r\n",
        "print('S=\\n',S)"
      ],
      "execution_count": 3,
      "outputs": [
        {
          "output_type": "stream",
          "text": [
            "Z=\n",
            " [[-2.     1.     0.2  ]\n",
            " [-1.111  1.     0.2  ]\n",
            " [-0.222  1.     0.2  ]\n",
            " [ 0.667  1.     0.2  ]\n",
            " [ 1.556  1.     0.2  ]\n",
            " [ 2.444  1.     0.2  ]\n",
            " [ 3.333  1.     0.2  ]\n",
            " [ 4.222  1.     0.2  ]\n",
            " [ 5.111  1.     0.2  ]\n",
            " [ 6.     1.     0.2  ]]\n",
            "S=\n",
            " [[0.033 0.667 0.3  ]\n",
            " [0.077 0.637 0.286]\n",
            " [0.169 0.573 0.258]\n",
            " [0.331 0.462 0.207]\n",
            " [0.546 0.313 0.141]\n",
            " [0.745 0.176 0.079]\n",
            " [0.877 0.085 0.038]\n",
            " [0.945 0.038 0.017]\n",
            " [0.977 0.016 0.007]\n",
            " [0.99  0.007 0.003]]\n"
          ],
          "name": "stdout"
        }
      ]
    },
    {
      "cell_type": "code",
      "metadata": {
        "colab": {
          "base_uri": "https://localhost:8080/",
          "height": 361,
          "referenced_widgets": [
            "9487f629b8624ac69e73b4a72a54c6ba",
            "de8e7a98fccb4e27933da66673d0e5c0",
            "360eaae6a3db4ca3bdb9fb696c2a4439",
            "9e66cfd8edf1454e96602dca0c6f4928",
            "432011445b85482988e417a91a3865c1",
            "8f6f9c51ec7f4054bed0e022ffcc0fd4",
            "156cadc0859843199bae8eff0867f266",
            "b23cb001154c4669868ca63f36050dde",
            "876c09f99f4a4f5b91d9bfbc00900a60",
            "b7721b0d58074df8b2ca9c0fb0a4a476",
            "3ec59b16c5a1424ea2d8d1daa1d9876f",
            "19d40b7156884cfd9707bb878292b367",
            "08d19325196541fc922230ee1aacb8f9"
          ]
        },
        "id": "FpUqb_bAdQrS",
        "outputId": "7648d901-9e74-4375-8a88-a62ab0722bfb"
      },
      "source": [
        "def plotmodel(s1,s2,s3):\r\n",
        "    scores = np.array([[s1, s2, s3]]) # shape: (1,3) \r\n",
        "    S = softmax(scores)[0] # (1,3) array as (3,) array\r\n",
        "    plt.rcdefaults()\r\n",
        "    fig, ax = plt.subplots(figsize=(3, 2))\r\n",
        "    classes = ('0', '1', '2')\r\n",
        "    x_pos = [2,4,6]\r\n",
        "    ax.bar(x_pos, S, align='center',color='green', ecolor='black')\r\n",
        "    ax.set_xticks(x_pos)\r\n",
        "    ax.set_xticklabels(classes)\r\n",
        "    ax.set_ylim([0,1])\r\n",
        "    ax.set_xlabel('$\\overrightarrow{Z}$')\r\n",
        "    ax.set_ylabel('Softmax')\r\n",
        "    plt.show()\r\n",
        "                       \r\n",
        "widgets.interact(plotmodel,s1 = (1,10,.1),s2 = (1,10,.1),s3 = (1,10,.1))"
      ],
      "execution_count": 4,
      "outputs": [
        {
          "output_type": "display_data",
          "data": {
            "application/vnd.jupyter.widget-view+json": {
              "model_id": "9487f629b8624ac69e73b4a72a54c6ba",
              "version_minor": 0,
              "version_major": 2
            },
            "text/plain": [
              "interactive(children=(FloatSlider(value=5.0, description='s1', max=10.0, min=1.0), FloatSlider(value=5.0, desc…"
            ]
          },
          "metadata": {
            "tags": []
          }
        },
        {
          "output_type": "execute_result",
          "data": {
            "text/plain": [
              "<function __main__.plotmodel>"
            ]
          },
          "metadata": {
            "tags": []
          },
          "execution_count": 4
        }
      ]
    },
    {
      "cell_type": "markdown",
      "metadata": {
        "id": "7hkAgEUZdkVa"
      },
      "source": [
        "# One hot encoding\r\n",
        "One hot encoding represents categorical data as a list of binary values with one element in the list for each possible category. The name \"one hot\" comes from the fact that only one binary element is set to 1 (hot) at a time and all other elements are set to 0 (cold).\r\n",
        "\r\n",
        "Most deep learning algorithms cannot work with categorical data directly. The categories need to be converted into numerical representations. This is true for both the input ($X$) and output ($\\widehat{Y}$) of our models.\r\n",
        "\r\n",
        "Let's think about this class garbage classification assignment. There are three classes: \"green\", \"blue\" and \"black\" garbage bins. We often encode these classes by assigning an integer label without even giving too much thought about it:\r\n",
        "\r\n",
        "* \"green\" - class 0\r\n",
        "* \"blue\" - class 1\r\n",
        "* \"black\" - class 2<br>\r\n",
        "\r\n",
        "This label assignment is called label encoding. Label encoding can be a proper representation if there is a natural ordering relationship between the categories. In the example of garbage classiifcation, where there is no clear ordering, label encoding is not a good strategy. One example of categorical data that has an ordering relationship is the Likert scale, which is split into five categories that clearly have an ordering relationship among them: \"Like\", \"Like Somewhat\", \"Neutral\", \"Dislike Somewhat\", \"Dislike\".\r\n",
        "\r\n",
        "When our data does not have an ordering relationship, we employ one hot encoding.\r\n",
        "\r\n",
        "The code snippet below show how to get the one hot encoding representation from a list of strings"
      ]
    },
    {
      "cell_type": "code",
      "metadata": {
        "colab": {
          "base_uri": "https://localhost:8080/",
          "height": 297
        },
        "id": "Sggs856Pd28U",
        "outputId": "f45e1805-634d-412e-caa7-4af504e9aae8"
      },
      "source": [
        "s = pd.DataFrame({\"bin\": [\"blue\",\"blue\",\"green\",\"black\",\"green\",\"black\",\"black\",\"green\"]})\r\n",
        "s.head(8)"
      ],
      "execution_count": 5,
      "outputs": [
        {
          "output_type": "execute_result",
          "data": {
            "text/html": [
              "<div>\n",
              "<style scoped>\n",
              "    .dataframe tbody tr th:only-of-type {\n",
              "        vertical-align: middle;\n",
              "    }\n",
              "\n",
              "    .dataframe tbody tr th {\n",
              "        vertical-align: top;\n",
              "    }\n",
              "\n",
              "    .dataframe thead th {\n",
              "        text-align: right;\n",
              "    }\n",
              "</style>\n",
              "<table border=\"1\" class=\"dataframe\">\n",
              "  <thead>\n",
              "    <tr style=\"text-align: right;\">\n",
              "      <th></th>\n",
              "      <th>bin</th>\n",
              "    </tr>\n",
              "  </thead>\n",
              "  <tbody>\n",
              "    <tr>\n",
              "      <th>0</th>\n",
              "      <td>blue</td>\n",
              "    </tr>\n",
              "    <tr>\n",
              "      <th>1</th>\n",
              "      <td>blue</td>\n",
              "    </tr>\n",
              "    <tr>\n",
              "      <th>2</th>\n",
              "      <td>green</td>\n",
              "    </tr>\n",
              "    <tr>\n",
              "      <th>3</th>\n",
              "      <td>black</td>\n",
              "    </tr>\n",
              "    <tr>\n",
              "      <th>4</th>\n",
              "      <td>green</td>\n",
              "    </tr>\n",
              "    <tr>\n",
              "      <th>5</th>\n",
              "      <td>black</td>\n",
              "    </tr>\n",
              "    <tr>\n",
              "      <th>6</th>\n",
              "      <td>black</td>\n",
              "    </tr>\n",
              "    <tr>\n",
              "      <th>7</th>\n",
              "      <td>green</td>\n",
              "    </tr>\n",
              "  </tbody>\n",
              "</table>\n",
              "</div>"
            ],
            "text/plain": [
              "     bin\n",
              "0   blue\n",
              "1   blue\n",
              "2  green\n",
              "3  black\n",
              "4  green\n",
              "5  black\n",
              "6  black\n",
              "7  green"
            ]
          },
          "metadata": {
            "tags": []
          },
          "execution_count": 5
        }
      ]
    },
    {
      "cell_type": "code",
      "metadata": {
        "colab": {
          "base_uri": "https://localhost:8080/",
          "height": 297
        },
        "id": "1du_Sr00d493",
        "outputId": "b1b3e612-6a10-4198-8b7e-2ed137dfc5a5"
      },
      "source": [
        "one_hot = pd.get_dummies(s) # Get one-hot encoding of variable\r\n",
        "# Join the one hot encoding to the data frame\r\n",
        "s2 = s.join(one_hot)\r\n",
        "s2.head(8)"
      ],
      "execution_count": 6,
      "outputs": [
        {
          "output_type": "execute_result",
          "data": {
            "text/html": [
              "<div>\n",
              "<style scoped>\n",
              "    .dataframe tbody tr th:only-of-type {\n",
              "        vertical-align: middle;\n",
              "    }\n",
              "\n",
              "    .dataframe tbody tr th {\n",
              "        vertical-align: top;\n",
              "    }\n",
              "\n",
              "    .dataframe thead th {\n",
              "        text-align: right;\n",
              "    }\n",
              "</style>\n",
              "<table border=\"1\" class=\"dataframe\">\n",
              "  <thead>\n",
              "    <tr style=\"text-align: right;\">\n",
              "      <th></th>\n",
              "      <th>bin</th>\n",
              "      <th>bin_black</th>\n",
              "      <th>bin_blue</th>\n",
              "      <th>bin_green</th>\n",
              "    </tr>\n",
              "  </thead>\n",
              "  <tbody>\n",
              "    <tr>\n",
              "      <th>0</th>\n",
              "      <td>blue</td>\n",
              "      <td>0</td>\n",
              "      <td>1</td>\n",
              "      <td>0</td>\n",
              "    </tr>\n",
              "    <tr>\n",
              "      <th>1</th>\n",
              "      <td>blue</td>\n",
              "      <td>0</td>\n",
              "      <td>1</td>\n",
              "      <td>0</td>\n",
              "    </tr>\n",
              "    <tr>\n",
              "      <th>2</th>\n",
              "      <td>green</td>\n",
              "      <td>0</td>\n",
              "      <td>0</td>\n",
              "      <td>1</td>\n",
              "    </tr>\n",
              "    <tr>\n",
              "      <th>3</th>\n",
              "      <td>black</td>\n",
              "      <td>1</td>\n",
              "      <td>0</td>\n",
              "      <td>0</td>\n",
              "    </tr>\n",
              "    <tr>\n",
              "      <th>4</th>\n",
              "      <td>green</td>\n",
              "      <td>0</td>\n",
              "      <td>0</td>\n",
              "      <td>1</td>\n",
              "    </tr>\n",
              "    <tr>\n",
              "      <th>5</th>\n",
              "      <td>black</td>\n",
              "      <td>1</td>\n",
              "      <td>0</td>\n",
              "      <td>0</td>\n",
              "    </tr>\n",
              "    <tr>\n",
              "      <th>6</th>\n",
              "      <td>black</td>\n",
              "      <td>1</td>\n",
              "      <td>0</td>\n",
              "      <td>0</td>\n",
              "    </tr>\n",
              "    <tr>\n",
              "      <th>7</th>\n",
              "      <td>green</td>\n",
              "      <td>0</td>\n",
              "      <td>0</td>\n",
              "      <td>1</td>\n",
              "    </tr>\n",
              "  </tbody>\n",
              "</table>\n",
              "</div>"
            ],
            "text/plain": [
              "     bin  bin_black  bin_blue  bin_green\n",
              "0   blue          0         1          0\n",
              "1   blue          0         1          0\n",
              "2  green          0         0          1\n",
              "3  black          1         0          0\n",
              "4  green          0         0          1\n",
              "5  black          1         0          0\n",
              "6  black          1         0          0\n",
              "7  green          0         0          1"
            ]
          },
          "metadata": {
            "tags": []
          },
          "execution_count": 6
        }
      ]
    },
    {
      "cell_type": "code",
      "metadata": {
        "colab": {
          "base_uri": "https://localhost:8080/",
          "height": 297
        },
        "id": "kATQ_g33d65S",
        "outputId": "951d5ce8-2a4d-4094-a9b6-bb58b4ad7c1f"
      },
      "source": [
        "s3 = s2.drop('bin',axis = 1) # Drop the bin column \r\n",
        "s3.head(8)"
      ],
      "execution_count": 7,
      "outputs": [
        {
          "output_type": "execute_result",
          "data": {
            "text/html": [
              "<div>\n",
              "<style scoped>\n",
              "    .dataframe tbody tr th:only-of-type {\n",
              "        vertical-align: middle;\n",
              "    }\n",
              "\n",
              "    .dataframe tbody tr th {\n",
              "        vertical-align: top;\n",
              "    }\n",
              "\n",
              "    .dataframe thead th {\n",
              "        text-align: right;\n",
              "    }\n",
              "</style>\n",
              "<table border=\"1\" class=\"dataframe\">\n",
              "  <thead>\n",
              "    <tr style=\"text-align: right;\">\n",
              "      <th></th>\n",
              "      <th>bin_black</th>\n",
              "      <th>bin_blue</th>\n",
              "      <th>bin_green</th>\n",
              "    </tr>\n",
              "  </thead>\n",
              "  <tbody>\n",
              "    <tr>\n",
              "      <th>0</th>\n",
              "      <td>0</td>\n",
              "      <td>1</td>\n",
              "      <td>0</td>\n",
              "    </tr>\n",
              "    <tr>\n",
              "      <th>1</th>\n",
              "      <td>0</td>\n",
              "      <td>1</td>\n",
              "      <td>0</td>\n",
              "    </tr>\n",
              "    <tr>\n",
              "      <th>2</th>\n",
              "      <td>0</td>\n",
              "      <td>0</td>\n",
              "      <td>1</td>\n",
              "    </tr>\n",
              "    <tr>\n",
              "      <th>3</th>\n",
              "      <td>1</td>\n",
              "      <td>0</td>\n",
              "      <td>0</td>\n",
              "    </tr>\n",
              "    <tr>\n",
              "      <th>4</th>\n",
              "      <td>0</td>\n",
              "      <td>0</td>\n",
              "      <td>1</td>\n",
              "    </tr>\n",
              "    <tr>\n",
              "      <th>5</th>\n",
              "      <td>1</td>\n",
              "      <td>0</td>\n",
              "      <td>0</td>\n",
              "    </tr>\n",
              "    <tr>\n",
              "      <th>6</th>\n",
              "      <td>1</td>\n",
              "      <td>0</td>\n",
              "      <td>0</td>\n",
              "    </tr>\n",
              "    <tr>\n",
              "      <th>7</th>\n",
              "      <td>0</td>\n",
              "      <td>0</td>\n",
              "      <td>1</td>\n",
              "    </tr>\n",
              "  </tbody>\n",
              "</table>\n",
              "</div>"
            ],
            "text/plain": [
              "   bin_black  bin_blue  bin_green\n",
              "0          0         1          0\n",
              "1          0         1          0\n",
              "2          0         0          1\n",
              "3          1         0          0\n",
              "4          0         0          1\n",
              "5          1         0          0\n",
              "6          1         0          0\n",
              "7          0         0          1"
            ]
          },
          "metadata": {
            "tags": []
          },
          "execution_count": 7
        }
      ]
    },
    {
      "cell_type": "code",
      "metadata": {
        "colab": {
          "base_uri": "https://localhost:8080/"
        },
        "id": "qZm9mF53eDx7",
        "outputId": "ff7cc780-c328-4cfa-dee7-115efc185d42"
      },
      "source": [
        "# The code snippet below show how to get the one hot encoding representation from an array of integers using the keras to_categorical function.\r\n",
        "Y = np.array([0, 0, 1, 0, 2 ,1 ,1])\r\n",
        "Yoh = to_categorical(Y)\r\n",
        "\r\n",
        "print('Y=')\r\n",
        "print(Y)\r\n",
        "print('\\nYoh=')\r\n",
        "print(Yoh)"
      ],
      "execution_count": 8,
      "outputs": [
        {
          "output_type": "stream",
          "text": [
            "Y=\n",
            "[0 0 1 0 2 1 1]\n",
            "\n",
            "Yoh=\n",
            "[[1. 0. 0.]\n",
            " [1. 0. 0.]\n",
            " [0. 1. 0.]\n",
            " [1. 0. 0.]\n",
            " [0. 0. 1.]\n",
            " [0. 1. 0.]\n",
            " [0. 1. 0.]]\n"
          ],
          "name": "stdout"
        }
      ]
    },
    {
      "cell_type": "code",
      "metadata": {
        "colab": {
          "base_uri": "https://localhost:8080/"
        },
        "id": "9d1PSA3veK0J",
        "outputId": "8c2f354b-687c-400e-a3ff-c029af763a8e"
      },
      "source": [
        "# To go back from one hot encoding to label encoding, you just need to use the numpy argmax funcation across the columns of the array.\r\n",
        "Y2 = np.argmax(Yoh, axis = 1)\r\n",
        "print('\\nY2=')\r\n",
        "print(Y2)\r\n",
        "print(\"\\nY = Y2?\")\r\n",
        "print(np.all(Y == Y2))"
      ],
      "execution_count": 9,
      "outputs": [
        {
          "output_type": "stream",
          "text": [
            "\n",
            "Y2=\n",
            "[0 0 1 0 2 1 1]\n",
            "\n",
            "Y = Y2?\n",
            "True\n"
          ],
          "name": "stdout"
        }
      ]
    },
    {
      "cell_type": "markdown",
      "metadata": {
        "id": "tkxxr603ecIQ"
      },
      "source": [
        "# Categorical cross-entropy and Accuracy\r\n",
        "\r\n",
        "**Important comment:** If accuracy was used as the loss function of our model, our goal would be to maximize it. In the case of CCE, we want to minimize it."
      ]
    },
    {
      "cell_type": "code",
      "metadata": {
        "id": "3Z_RpmO0e-0D"
      },
      "source": [
        "def compute_cce(Yoh,Yoh_pred):\r\n",
        "    cce = (-Yoh*np.log(Yoh_pred)).mean()\r\n",
        "    return cce\r\n",
        "\r\n",
        "def compute_accuracy(Yoh,Yoh_pred):\r\n",
        "    Y = np.argmax(Yoh, axis = 1)\r\n",
        "    Ypred = np.argmax(Yoh_pred, axis = 1)\r\n",
        "    accuracy = (Y == Ypred).sum()/Y.size\r\n",
        "    return accuracy"
      ],
      "execution_count": 10,
      "outputs": []
    },
    {
      "cell_type": "code",
      "metadata": {
        "id": "lh5MutX2fLNE"
      },
      "source": [
        "# Labels\r\n",
        "Yoh = np.array([[0, 0, 1],\\\r\n",
        "                [1, 0, 0],\\\r\n",
        "                [0, 1, 0]])\r\n",
        "\r\n",
        "# Confident predictions\r\n",
        "Yoh_pred = np.array([[0.01, 0.02, 0.97],\\\r\n",
        "                     [0.94, 0.03, 0.03],\\\r\n",
        "                     [0.02, 0.95, 0.03]])\r\n",
        "\r\n",
        "# Low confidence predictions\r\n",
        "Yoh_pred2 = np.array([[0.33, 0.33, 0.34],\\\r\n",
        "                     [0.40, 0.30, 0.30],\\\r\n",
        "                     [0.31, 0.36, 0.33]])"
      ],
      "execution_count": 11,
      "outputs": []
    },
    {
      "cell_type": "code",
      "metadata": {
        "colab": {
          "base_uri": "https://localhost:8080/"
        },
        "id": "4h_rqvwufM9y",
        "outputId": "2b52447a-c58b-4905-8d77-293b689e8612"
      },
      "source": [
        "print(\"Confident predictions case\")\r\n",
        "print(\"CCE:\")\r\n",
        "print(compute_cce(Yoh,Yoh_pred))\r\n",
        "print(\"Accuracy:\")\r\n",
        "print(compute_accuracy(Yoh,Yoh_pred))"
      ],
      "execution_count": 12,
      "outputs": [
        {
          "output_type": "stream",
          "text": [
            "Confident predictions case\n",
            "CCE:\n",
            "0.015958656176705183\n",
            "Accuracy:\n",
            "1.0\n"
          ],
          "name": "stdout"
        }
      ]
    },
    {
      "cell_type": "code",
      "metadata": {
        "id": "ohTPb2DXfbJM",
        "colab": {
          "base_uri": "https://localhost:8080/"
        },
        "outputId": "a3ea5703-8d8c-4af3-cd65-28a5a9f1e2f1"
      },
      "source": [
        "print(\"Low confidence predictions case\")\r\n",
        "print(\"CCE:\")\r\n",
        "print(compute_cce(Yoh,Yoh_pred2))\r\n",
        "print(\"Accuracy:\")\r\n",
        "print(compute_accuracy(Yoh,Yoh_pred2))"
      ],
      "execution_count": 13,
      "outputs": [
        {
          "output_type": "stream",
          "text": [
            "Low confidence predictions case\n",
            "CCE:\n",
            "0.3351946267531185\n",
            "Accuracy:\n",
            "1.0\n"
          ],
          "name": "stdout"
        }
      ]
    },
    {
      "cell_type": "markdown",
      "metadata": {
        "id": "FWPQjoiRfht9"
      },
      "source": [
        "In both the high and low confidence prediction cases, the accuracy was 1. On the other hand, the CCE achieved a considrable smaller value for predictions with high confidence compared to prediction with low confidence. We want to have confident preictions and that is one of the many reasons why we prefer using CCE than accuracy as a loss function for training our models."
      ]
    },
    {
      "cell_type": "code",
      "metadata": {
        "id": "XtoAGngUfnS_"
      },
      "source": [
        ""
      ],
      "execution_count": null,
      "outputs": []
    }
  ]
}