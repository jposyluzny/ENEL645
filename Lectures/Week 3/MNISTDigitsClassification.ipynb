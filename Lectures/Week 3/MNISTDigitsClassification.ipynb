{
  "nbformat": 4,
  "nbformat_minor": 0,
  "metadata": {
    "colab": {
      "name": "MNISTDigitsClassification.ipynb",
      "provenance": [],
      "include_colab_link": true
    },
    "kernelspec": {
      "name": "python3",
      "display_name": "Python 3"
    }
  },
  "cells": [
    {
      "cell_type": "markdown",
      "metadata": {
        "id": "view-in-github",
        "colab_type": "text"
      },
      "source": [
        "<a href=\"https://colab.research.google.com/github/jposyluzny/ENEL645/blob/main/Lectures/Week%203/MNISTDigitsClassification.ipynb\" target=\"_parent\"><img src=\"https://colab.research.google.com/assets/colab-badge.svg\" alt=\"Open In Colab\"/></a>"
      ]
    },
    {
      "cell_type": "markdown",
      "metadata": {
        "id": "JW3X58NvgBLW"
      },
      "source": [
        "#Step-by-step MNIST Digits Classification - Fully Connected Neural Networks\r\n",
        "1. Load dataset, explore it (display images, mean, min, max values, etc.) and split it into train, validation and test sets\r\n",
        "2. Data scaling\r\n",
        "3. One hot encoding\r\n",
        "4. Define your model, cost function, optimizer, learning rate\r\n",
        "5. Define your callbacks (save your model, patience, etc.)\r\n",
        "6. Train your model\r\n",
        " <br> 6.1 If you are satisfied with the train and validation performance go to the next step\r\n",
        "  <br> 6.2 If you are not satisfied with the train and validation performance go back to step 4\r\n",
        "\r\n",
        "7. Test your model on the test and extract relevant metrics"
      ]
    },
    {
      "cell_type": "code",
      "metadata": {
        "id": "rzioY3uogZwM"
      },
      "source": [
        "%matplotlib inline\r\n",
        "import matplotlib.pylab as plt\r\n",
        "import numpy as np\r\n",
        "import tensorflow as tf"
      ],
      "execution_count": 2,
      "outputs": []
    },
    {
      "cell_type": "markdown",
      "metadata": {
        "id": "cSCxUrFFgcwQ"
      },
      "source": [
        "## 1. Load dataset, explore it (display images, mean, min, max values, etc.) and split it into train, validation and test sets"
      ]
    },
    {
      "cell_type": "code",
      "metadata": {
        "id": "CdMT-5sL-Yr3",
        "outputId": "48d9716a-e267-456f-911d-5d8526fb8573",
        "colab": {
          "base_uri": "https://localhost:8080/"
        }
      },
      "source": [
        "(X_dev, y_dev), (X_test, y_test) = tf.keras.datasets.mnist.load_data()\r\n",
        "\r\n",
        "print(\"Development set\")\r\n",
        "print(X_dev.shape)\r\n",
        "print(np.unique(y_dev).size) # of classes\r\n",
        "print(np.unique(y_dev))\r\n",
        "print(\"Test set\")\r\n",
        "print(X_test.shape)\r\n",
        "print(y_test.shape)"
      ],
      "execution_count": 7,
      "outputs": [
        {
          "output_type": "stream",
          "text": [
            "Development set\n",
            "(60000, 28, 28)\n",
            "10\n",
            "[0 1 2 3 4 5 6 7 8 9]\n",
            "Test set\n",
            "(10000, 28, 28)\n",
            "(10000,)\n"
          ],
          "name": "stdout"
        }
      ]
    },
    {
      "cell_type": "code",
      "metadata": {
        "id": "GoINzGYP-5hn",
        "outputId": "fa8bd503-60e5-4194-8ef8-7eab2c68f755",
        "colab": {
          "base_uri": "https://localhost:8080/",
          "height": 281
        }
      },
      "source": [
        "plt.figure()\r\n",
        "plt.hist(y_dev,bins=range(11))\r\n",
        "plt.xlabel('Labels')\r\n",
        "plt.ylabel('Frequency')\r\n",
        "plt.show()"
      ],
      "execution_count": 9,
      "outputs": [
        {
          "output_type": "display_data",
          "data": {
            "image/png": "[encoded data removed]",
            "text/plain": [
              "<Figure size 432x288 with 1 Axes>"
            ]
          },
          "metadata": {
            "tags": [],
            "needs_background": "light"
          }
        }
      ]
    },
    {
      "cell_type": "code",
      "metadata": {
        "id": "FktUn48H_UZU",
        "outputId": "28d46722-7c8a-4092-8948-2013e3f9af85",
        "colab": {
          "base_uri": "https://localhost:8080/"
        }
      },
      "source": [
        "indexes = np.arange(y_dev.size, dtype=int)\r\n",
        "np.random.shuffle(indexes)\r\n",
        "X_dev = X_dev[indexes]\r\n",
        "y_dev = y_dev[indexes]\r\n",
        "\r\n",
        "nsplit = int(0.75*y_dev.size)\r\n",
        "\r\n",
        "X_train = X_dev[:nsplit]\r\n",
        "y_train = y_dev[:nsplit]\r\n",
        "\r\n",
        "X_val = X_dev[nsplit:]\r\n",
        "y_val = y_dev[nsplit:]\r\n",
        "\r\n",
        "print(X_train.shape)\r\n",
        "print(X_val.shape)"
      ],
      "execution_count": 10,
      "outputs": [
        {
          "output_type": "stream",
          "text": [
            "(45000, 28, 28)\n",
            "(15000, 28, 28)\n"
          ],
          "name": "stdout"
        }
      ]
    },
    {
      "cell_type": "code",
      "metadata": {
        "id": "AJekWab8AN78",
        "outputId": "7fecdd3b-9ea0-4f36-8756-622a2530b146",
        "colab": {
          "base_uri": "https://localhost:8080/"
        }
      },
      "source": [
        "print(X_train.min(), X_train.max(), X_train.mean(), X_train.std())\r\n",
        "print(X_val.min(), X_val.max(), X_val.mean(), X_val.std())"
      ],
      "execution_count": 11,
      "outputs": [
        {
          "output_type": "stream",
          "text": [
            "0 255 33.30490189909297 78.56108242124807\n",
            "0 255 33.35898010204082 78.58669558030742\n"
          ],
          "name": "stdout"
        }
      ]
    },
    {
      "cell_type": "markdown",
      "metadata": {
        "id": "R0AIgzfGAZC2"
      },
      "source": [
        "## 2. Data Scaling"
      ]
    },
    {
      "cell_type": "code",
      "metadata": {
        "id": "sz2_KVSdAlVY"
      },
      "source": [
        "norm_type = 0 # 0 == min-max normalization; 1 == standardization (mean/std)\r\n",
        "\r\n",
        "if norm_type == 0:\r\n",
        "  X_train = X_train/255\r\n",
        "  X_val = X_val/255\r\n",
        "  X_test = X_test/255\r\n",
        "\r\n",
        "elif norm_type == 1:\r\n",
        "  train_mean = X_train.mean()\r\n",
        "  train_std = X_train.std()\r\n",
        "  X_train = (X_train - train_mean) / train_std\r\n",
        "  X_val = (X_val - train_mean)/train_std\r\n",
        "  X_test = (X_test - train_mean)/train_std\r\n",
        "\r\n",
        "else:\r\n",
        "  pass"
      ],
      "execution_count": 12,
      "outputs": []
    },
    {
      "cell_type": "markdown",
      "metadata": {
        "id": "Bo3zzJLfBZFP"
      },
      "source": [
        "## 3. One hot encoding"
      ]
    },
    {
      "cell_type": "code",
      "metadata": {
        "id": "-ue-luNqBd_k",
        "outputId": "e3c3a3e3-6159-4e61-e8f0-e60331865fb2",
        "colab": {
          "base_uri": "https://localhost:8080/"
        }
      },
      "source": [
        "y_train_oh = tf.keras.utils.to_categorical(y_train)\r\n",
        "y_val_oh = tf.keras.utils.to_categorical(y_val)\r\n",
        "y_test_oh = tf.keras.utils.to_categorical(y_test)\r\n",
        "\r\n",
        "print(y_train[:5])\r\n",
        "print()\r\n",
        "print(y_train_oh[:5])"
      ],
      "execution_count": 14,
      "outputs": [
        {
          "output_type": "stream",
          "text": [
            "[4 9 5 2 4]\n",
            "\n",
            "[[0. 0. 0. 0. 1. 0. 0. 0. 0. 0.]\n",
            " [0. 0. 0. 0. 0. 0. 0. 0. 0. 1.]\n",
            " [0. 0. 0. 0. 0. 1. 0. 0. 0. 0.]\n",
            " [0. 0. 1. 0. 0. 0. 0. 0. 0. 0.]\n",
            " [0. 0. 0. 0. 1. 0. 0. 0. 0. 0.]]\n"
          ],
          "name": "stdout"
        }
      ]
    },
    {
      "cell_type": "markdown",
      "metadata": {
        "id": "K_mtznz1BycW"
      },
      "source": [
        "## 4. Define your model, cost function, optimizer, learning rate"
      ]
    },
    {
      "cell_type": "code",
      "metadata": {
        "id": "jzB1DYPMB4RU"
      },
      "source": [
        "def my_model(ishape=(28,28), k=10, lr=1e-4):\r\n",
        "\r\n",
        "  model_input = tf.keras.layers.Input(shape=ishape)\r\n",
        "  model_input_flatten = tf.keras.layers.Flatten()(model_input) # converts image to flat representation of the image\r\n",
        "  out = tf.keras.layers.Dense(k, activation = 'softmax')(model_input_flatten)\r\n",
        "\r\n",
        "  model = tf.keras.models.Model(inputs = model_input, outputs = out)\r\n",
        "  model.compile(optimizer=tf.keras.optimizers.Adam(lr), loss='categorical_crossentropy', metrics=['accuracy'])\r\n",
        "\r\n",
        "  return model"
      ],
      "execution_count": 15,
      "outputs": []
    },
    {
      "cell_type": "markdown",
      "metadata": {
        "id": "XjZp7gppERiE"
      },
      "source": [
        "## 5. Define your callbacks (save your model, patience, etc)"
      ]
    },
    {
      "cell_type": "code",
      "metadata": {
        "id": "SyxsLmIZEbgc"
      },
      "source": [
        "model_name = 'best_model_mnist.h5'\r\n",
        "\r\n",
        "early_stop = tf.keras.callbacks.EarlyStopping(monitor='val_loss', patience=20) # patience is the amount of epochs the model can train without improving before training is interrupted\r\n",
        "\r\n",
        "monitor = tf.keras.callbacks.ModelCheckpoint(model_name, monitor='val_loss', save_best_only=True, save_weights_only=True)\r\n",
        "\r\n",
        "def scheduler(epoch, lr):\r\n",
        "  if epoch%10 == 0:\r\n",
        "    lr = lr/2\r\n",
        "  return lr\r\n",
        "\r\n",
        "lr_schedule = tf.keras.callbacks.LearningRateScheduler(scheduler)"
      ],
      "execution_count": 16,
      "outputs": []
    },
    {
      "cell_type": "markdown",
      "metadata": {
        "id": "97wDxuGKGagv"
      },
      "source": [
        "## 6. Train your model"
      ]
    },
    {
      "cell_type": "code",
      "metadata": {
        "id": "uKicBbOSGdw8",
        "outputId": "b2fcdc2e-0fde-4546-b026-ccee091bcf84",
        "colab": {
          "base_uri": "https://localhost:8080/"
        }
      },
      "source": [
        "model = my_model()\r\n",
        "\r\n",
        "model.fit(X_train, y_train_oh, batch_size=32, epochs=200, verbose=1, callbacks=[early_stop, monitor, lr_schedule], validation_data = (X_val, y_val_oh), shuffle=True) # the number of samples we use to estimate the gradient before doing one step when doing gradient descent optimization. We should always shuffle samples between epochs"
      ],
      "execution_count": 19,
      "outputs": [
        {
          "output_type": "stream",
          "text": [
            "Epoch 1/200\n",
            "1407/1407 [==============================] - 3s 2ms/step - loss: 1.8751 - accuracy: 0.4379 - val_loss: 1.1033 - val_accuracy: 0.8003\n",
            "Epoch 2/200\n",
            "1407/1407 [==============================] - 3s 2ms/step - loss: 0.9903 - accuracy: 0.8130 - val_loss: 0.7576 - val_accuracy: 0.8395\n",
            "Epoch 3/200\n",
            "1407/1407 [==============================] - 3s 2ms/step - loss: 0.7066 - accuracy: 0.8488 - val_loss: 0.6083 - val_accuracy: 0.8581\n",
            "Epoch 4/200\n",
            "1407/1407 [==============================] - 3s 2ms/step - loss: 0.5822 - accuracy: 0.8633 - val_loss: 0.5273 - val_accuracy: 0.8699\n",
            "Epoch 5/200\n",
            "1407/1407 [==============================] - 3s 2ms/step - loss: 0.5102 - accuracy: 0.8738 - val_loss: 0.4771 - val_accuracy: 0.8795\n",
            "Epoch 6/200\n",
            "1407/1407 [==============================] - 3s 2ms/step - loss: 0.4608 - accuracy: 0.8845 - val_loss: 0.4436 - val_accuracy: 0.8852\n",
            "Epoch 7/200\n",
            "1407/1407 [==============================] - 3s 2ms/step - loss: 0.4315 - accuracy: 0.8892 - val_loss: 0.4199 - val_accuracy: 0.8895\n",
            "Epoch 8/200\n",
            "1407/1407 [==============================] - 3s 2ms/step - loss: 0.4134 - accuracy: 0.8918 - val_loss: 0.4021 - val_accuracy: 0.8936\n",
            "Epoch 9/200\n",
            "1407/1407 [==============================] - 3s 2ms/step - loss: 0.3944 - accuracy: 0.8962 - val_loss: 0.3883 - val_accuracy: 0.8963\n",
            "Epoch 10/200\n",
            "1407/1407 [==============================] - 3s 2ms/step - loss: 0.3815 - accuracy: 0.8986 - val_loss: 0.3771 - val_accuracy: 0.8989\n",
            "Epoch 11/200\n",
            "1407/1407 [==============================] - 3s 2ms/step - loss: 0.3691 - accuracy: 0.9040 - val_loss: 0.3724 - val_accuracy: 0.9003\n",
            "Epoch 12/200\n",
            "1407/1407 [==============================] - 3s 2ms/step - loss: 0.3609 - accuracy: 0.9038 - val_loss: 0.3679 - val_accuracy: 0.9011\n",
            "Epoch 13/200\n",
            "1407/1407 [==============================] - 3s 2ms/step - loss: 0.3568 - accuracy: 0.9050 - val_loss: 0.3639 - val_accuracy: 0.9025\n",
            "Epoch 14/200\n",
            "1407/1407 [==============================] - 3s 2ms/step - loss: 0.3552 - accuracy: 0.9052 - val_loss: 0.3602 - val_accuracy: 0.9025\n",
            "Epoch 15/200\n",
            "1407/1407 [==============================] - 3s 2ms/step - loss: 0.3429 - accuracy: 0.9084 - val_loss: 0.3568 - val_accuracy: 0.9035\n",
            "Epoch 16/200\n",
            "1407/1407 [==============================] - 2s 2ms/step - loss: 0.3444 - accuracy: 0.9078 - val_loss: 0.3538 - val_accuracy: 0.9040\n",
            "Epoch 17/200\n",
            "1407/1407 [==============================] - 2s 2ms/step - loss: 0.3475 - accuracy: 0.9071 - val_loss: 0.3507 - val_accuracy: 0.9041\n",
            "Epoch 18/200\n",
            "1407/1407 [==============================] - 3s 2ms/step - loss: 0.3431 - accuracy: 0.9088 - val_loss: 0.3481 - val_accuracy: 0.9047\n",
            "Epoch 19/200\n",
            "1407/1407 [==============================] - 2s 2ms/step - loss: 0.3388 - accuracy: 0.9086 - val_loss: 0.3455 - val_accuracy: 0.9054\n",
            "Epoch 20/200\n",
            "1407/1407 [==============================] - 3s 2ms/step - loss: 0.3408 - accuracy: 0.9083 - val_loss: 0.3433 - val_accuracy: 0.9053\n",
            "Epoch 21/200\n",
            "1407/1407 [==============================] - 2s 2ms/step - loss: 0.3321 - accuracy: 0.9109 - val_loss: 0.3420 - val_accuracy: 0.9055\n",
            "Epoch 22/200\n",
            "1407/1407 [==============================] - 2s 2ms/step - loss: 0.3328 - accuracy: 0.9081 - val_loss: 0.3409 - val_accuracy: 0.9060\n",
            "Epoch 23/200\n",
            "1407/1407 [==============================] - 3s 2ms/step - loss: 0.3346 - accuracy: 0.9096 - val_loss: 0.3399 - val_accuracy: 0.9063\n",
            "Epoch 24/200\n",
            "1407/1407 [==============================] - 3s 2ms/step - loss: 0.3323 - accuracy: 0.9108 - val_loss: 0.3388 - val_accuracy: 0.9069\n",
            "Epoch 25/200\n",
            "1407/1407 [==============================] - 3s 2ms/step - loss: 0.3300 - accuracy: 0.9104 - val_loss: 0.3378 - val_accuracy: 0.9069\n",
            "Epoch 26/200\n",
            "1407/1407 [==============================] - 3s 2ms/step - loss: 0.3219 - accuracy: 0.9140 - val_loss: 0.3368 - val_accuracy: 0.9065\n",
            "Epoch 27/200\n",
            "1407/1407 [==============================] - 2s 2ms/step - loss: 0.3284 - accuracy: 0.9099 - val_loss: 0.3359 - val_accuracy: 0.9071\n",
            "Epoch 28/200\n",
            "1407/1407 [==============================] - 2s 2ms/step - loss: 0.3298 - accuracy: 0.9104 - val_loss: 0.3350 - val_accuracy: 0.9071\n",
            "Epoch 29/200\n",
            "1407/1407 [==============================] - 3s 2ms/step - loss: 0.3262 - accuracy: 0.9110 - val_loss: 0.3341 - val_accuracy: 0.9070\n",
            "Epoch 30/200\n",
            "1407/1407 [==============================] - 3s 2ms/step - loss: 0.3240 - accuracy: 0.9127 - val_loss: 0.3332 - val_accuracy: 0.9077\n",
            "Epoch 31/200\n",
            "1407/1407 [==============================] - 3s 2ms/step - loss: 0.3263 - accuracy: 0.9119 - val_loss: 0.3328 - val_accuracy: 0.9077\n",
            "Epoch 32/200\n",
            "1407/1407 [==============================] - 3s 2ms/step - loss: 0.3197 - accuracy: 0.9133 - val_loss: 0.3324 - val_accuracy: 0.9078\n",
            "Epoch 33/200\n",
            "1407/1407 [==============================] - 2s 2ms/step - loss: 0.3217 - accuracy: 0.9136 - val_loss: 0.3320 - val_accuracy: 0.9077\n",
            "Epoch 34/200\n",
            "1407/1407 [==============================] - 2s 2ms/step - loss: 0.3225 - accuracy: 0.9125 - val_loss: 0.3316 - val_accuracy: 0.9081\n",
            "Epoch 35/200\n",
            "1407/1407 [==============================] - 3s 2ms/step - loss: 0.3235 - accuracy: 0.9123 - val_loss: 0.3311 - val_accuracy: 0.9081\n",
            "Epoch 36/200\n",
            "1407/1407 [==============================] - 3s 2ms/step - loss: 0.3184 - accuracy: 0.9132 - val_loss: 0.3308 - val_accuracy: 0.9084\n",
            "Epoch 37/200\n",
            "1407/1407 [==============================] - 3s 2ms/step - loss: 0.3155 - accuracy: 0.9147 - val_loss: 0.3304 - val_accuracy: 0.9083\n",
            "Epoch 38/200\n",
            "1407/1407 [==============================] - 3s 2ms/step - loss: 0.3177 - accuracy: 0.9152 - val_loss: 0.3300 - val_accuracy: 0.9089\n",
            "Epoch 39/200\n",
            "1407/1407 [==============================] - 3s 2ms/step - loss: 0.3202 - accuracy: 0.9127 - val_loss: 0.3296 - val_accuracy: 0.9090\n",
            "Epoch 40/200\n",
            "1407/1407 [==============================] - 3s 2ms/step - loss: 0.3120 - accuracy: 0.9143 - val_loss: 0.3292 - val_accuracy: 0.9088\n",
            "Epoch 41/200\n",
            "1407/1407 [==============================] - 3s 2ms/step - loss: 0.3176 - accuracy: 0.9147 - val_loss: 0.3290 - val_accuracy: 0.9090\n",
            "Epoch 42/200\n",
            "1407/1407 [==============================] - 3s 2ms/step - loss: 0.3176 - accuracy: 0.9120 - val_loss: 0.3288 - val_accuracy: 0.9090\n",
            "Epoch 43/200\n",
            "1407/1407 [==============================] - 3s 2ms/step - loss: 0.3180 - accuracy: 0.9137 - val_loss: 0.3286 - val_accuracy: 0.9091\n",
            "Epoch 44/200\n",
            "1407/1407 [==============================] - 2s 2ms/step - loss: 0.3181 - accuracy: 0.9144 - val_loss: 0.3285 - val_accuracy: 0.9091\n",
            "Epoch 45/200\n",
            "1407/1407 [==============================] - 2s 2ms/step - loss: 0.3159 - accuracy: 0.9150 - val_loss: 0.3283 - val_accuracy: 0.9091\n",
            "Epoch 46/200\n",
            "1407/1407 [==============================] - 3s 2ms/step - loss: 0.3126 - accuracy: 0.9162 - val_loss: 0.3281 - val_accuracy: 0.9091\n",
            "Epoch 47/200\n",
            "1407/1407 [==============================] - 3s 2ms/step - loss: 0.3182 - accuracy: 0.9136 - val_loss: 0.3279 - val_accuracy: 0.9091\n",
            "Epoch 48/200\n",
            "1407/1407 [==============================] - 3s 2ms/step - loss: 0.3181 - accuracy: 0.9144 - val_loss: 0.3277 - val_accuracy: 0.9093\n",
            "Epoch 49/200\n",
            "1407/1407 [==============================] - 3s 2ms/step - loss: 0.3158 - accuracy: 0.9152 - val_loss: 0.3276 - val_accuracy: 0.9093\n",
            "Epoch 50/200\n",
            "1407/1407 [==============================] - 3s 2ms/step - loss: 0.3112 - accuracy: 0.9151 - val_loss: 0.3274 - val_accuracy: 0.9093\n",
            "Epoch 51/200\n",
            "1407/1407 [==============================] - 4s 3ms/step - loss: 0.3231 - accuracy: 0.9118 - val_loss: 0.3273 - val_accuracy: 0.9091\n",
            "Epoch 52/200\n",
            "1407/1407 [==============================] - 4s 3ms/step - loss: 0.3116 - accuracy: 0.9149 - val_loss: 0.3272 - val_accuracy: 0.9093\n",
            "Epoch 53/200\n",
            "1407/1407 [==============================] - 3s 2ms/step - loss: 0.3198 - accuracy: 0.9125 - val_loss: 0.3271 - val_accuracy: 0.9093\n",
            "Epoch 54/200\n",
            "1407/1407 [==============================] - 3s 2ms/step - loss: 0.3162 - accuracy: 0.9137 - val_loss: 0.3270 - val_accuracy: 0.9093\n",
            "Epoch 55/200\n",
            "1407/1407 [==============================] - 3s 2ms/step - loss: 0.3162 - accuracy: 0.9140 - val_loss: 0.3269 - val_accuracy: 0.9095\n",
            "Epoch 56/200\n",
            "1407/1407 [==============================] - 2s 2ms/step - loss: 0.3096 - accuracy: 0.9160 - val_loss: 0.3269 - val_accuracy: 0.9094\n",
            "Epoch 57/200\n",
            "1407/1407 [==============================] - 3s 2ms/step - loss: 0.3221 - accuracy: 0.9130 - val_loss: 0.3268 - val_accuracy: 0.9093\n",
            "Epoch 58/200\n",
            "1407/1407 [==============================] - 3s 2ms/step - loss: 0.3230 - accuracy: 0.9120 - val_loss: 0.3267 - val_accuracy: 0.9094\n",
            "Epoch 59/200\n",
            "1407/1407 [==============================] - 2s 2ms/step - loss: 0.3140 - accuracy: 0.9131 - val_loss: 0.3266 - val_accuracy: 0.9094\n",
            "Epoch 60/200\n",
            "1407/1407 [==============================] - 2s 2ms/step - loss: 0.3228 - accuracy: 0.9117 - val_loss: 0.3265 - val_accuracy: 0.9093\n",
            "Epoch 61/200\n",
            "1407/1407 [==============================] - 3s 2ms/step - loss: 0.3139 - accuracy: 0.9146 - val_loss: 0.3265 - val_accuracy: 0.9093\n",
            "Epoch 62/200\n",
            "1407/1407 [==============================] - 3s 2ms/step - loss: 0.3170 - accuracy: 0.9128 - val_loss: 0.3264 - val_accuracy: 0.9093\n",
            "Epoch 63/200\n",
            "1407/1407 [==============================] - 3s 2ms/step - loss: 0.3146 - accuracy: 0.9143 - val_loss: 0.3264 - val_accuracy: 0.9093\n",
            "Epoch 64/200\n",
            "1407/1407 [==============================] - 3s 2ms/step - loss: 0.3103 - accuracy: 0.9138 - val_loss: 0.3263 - val_accuracy: 0.9094\n",
            "Epoch 65/200\n",
            "1407/1407 [==============================] - 3s 2ms/step - loss: 0.3183 - accuracy: 0.9136 - val_loss: 0.3263 - val_accuracy: 0.9094\n",
            "Epoch 66/200\n",
            "1407/1407 [==============================] - 3s 2ms/step - loss: 0.3180 - accuracy: 0.9132 - val_loss: 0.3263 - val_accuracy: 0.9094\n",
            "Epoch 67/200\n",
            "1407/1407 [==============================] - 3s 2ms/step - loss: 0.3115 - accuracy: 0.9144 - val_loss: 0.3262 - val_accuracy: 0.9094\n",
            "Epoch 68/200\n",
            "1407/1407 [==============================] - 3s 2ms/step - loss: 0.3182 - accuracy: 0.9127 - val_loss: 0.3262 - val_accuracy: 0.9094\n",
            "Epoch 69/200\n",
            "1407/1407 [==============================] - 3s 2ms/step - loss: 0.3158 - accuracy: 0.9135 - val_loss: 0.3261 - val_accuracy: 0.9094\n",
            "Epoch 70/200\n",
            "1407/1407 [==============================] - 4s 3ms/step - loss: 0.3153 - accuracy: 0.9147 - val_loss: 0.3261 - val_accuracy: 0.9094\n",
            "Epoch 71/200\n",
            "1407/1407 [==============================] - 3s 2ms/step - loss: 0.3185 - accuracy: 0.9110 - val_loss: 0.3261 - val_accuracy: 0.9094\n",
            "Epoch 72/200\n",
            "1407/1407 [==============================] - 3s 2ms/step - loss: 0.3209 - accuracy: 0.9124 - val_loss: 0.3260 - val_accuracy: 0.9095\n",
            "Epoch 73/200\n",
            "1407/1407 [==============================] - 3s 2ms/step - loss: 0.3162 - accuracy: 0.9131 - val_loss: 0.3260 - val_accuracy: 0.9095\n",
            "Epoch 74/200\n",
            "1407/1407 [==============================] - 3s 2ms/step - loss: 0.3139 - accuracy: 0.9145 - val_loss: 0.3260 - val_accuracy: 0.9095\n",
            "Epoch 75/200\n",
            "1407/1407 [==============================] - 3s 2ms/step - loss: 0.3060 - accuracy: 0.9156 - val_loss: 0.3260 - val_accuracy: 0.9095\n",
            "Epoch 76/200\n",
            "1407/1407 [==============================] - 3s 2ms/step - loss: 0.3175 - accuracy: 0.9125 - val_loss: 0.3260 - val_accuracy: 0.9095\n",
            "Epoch 77/200\n",
            "1407/1407 [==============================] - 3s 2ms/step - loss: 0.3141 - accuracy: 0.9134 - val_loss: 0.3259 - val_accuracy: 0.9095\n",
            "Epoch 78/200\n",
            "1407/1407 [==============================] - 2s 2ms/step - loss: 0.3093 - accuracy: 0.9145 - val_loss: 0.3259 - val_accuracy: 0.9095\n",
            "Epoch 79/200\n",
            "1407/1407 [==============================] - 3s 2ms/step - loss: 0.3155 - accuracy: 0.9140 - val_loss: 0.3259 - val_accuracy: 0.9095\n",
            "Epoch 80/200\n",
            "1407/1407 [==============================] - 3s 2ms/step - loss: 0.3107 - accuracy: 0.9151 - val_loss: 0.3259 - val_accuracy: 0.9095\n",
            "Epoch 81/200\n",
            "1407/1407 [==============================] - 2s 2ms/step - loss: 0.3152 - accuracy: 0.9128 - val_loss: 0.3259 - val_accuracy: 0.9095\n",
            "Epoch 82/200\n",
            "1407/1407 [==============================] - 3s 2ms/step - loss: 0.3102 - accuracy: 0.9145 - val_loss: 0.3259 - val_accuracy: 0.9095\n",
            "Epoch 83/200\n",
            "1407/1407 [==============================] - 3s 2ms/step - loss: 0.3150 - accuracy: 0.9144 - val_loss: 0.3258 - val_accuracy: 0.9095\n",
            "Epoch 84/200\n",
            "1407/1407 [==============================] - 3s 2ms/step - loss: 0.3130 - accuracy: 0.9135 - val_loss: 0.3258 - val_accuracy: 0.9095\n",
            "Epoch 85/200\n",
            "1407/1407 [==============================] - 3s 2ms/step - loss: 0.3121 - accuracy: 0.9154 - val_loss: 0.3258 - val_accuracy: 0.9095\n",
            "Epoch 86/200\n",
            "1407/1407 [==============================] - 3s 2ms/step - loss: 0.3105 - accuracy: 0.9148 - val_loss: 0.3258 - val_accuracy: 0.9095\n",
            "Epoch 87/200\n",
            "1407/1407 [==============================] - 3s 2ms/step - loss: 0.3148 - accuracy: 0.9131 - val_loss: 0.3258 - val_accuracy: 0.9095\n",
            "Epoch 88/200\n",
            "1407/1407 [==============================] - 2s 2ms/step - loss: 0.3156 - accuracy: 0.9132 - val_loss: 0.3258 - val_accuracy: 0.9095\n",
            "Epoch 89/200\n",
            "1407/1407 [==============================] - 3s 2ms/step - loss: 0.3182 - accuracy: 0.9118 - val_loss: 0.3258 - val_accuracy: 0.9095\n",
            "Epoch 90/200\n",
            "1407/1407 [==============================] - 3s 2ms/step - loss: 0.3140 - accuracy: 0.9132 - val_loss: 0.3258 - val_accuracy: 0.9095\n",
            "Epoch 91/200\n",
            "1407/1407 [==============================] - 3s 2ms/step - loss: 0.3172 - accuracy: 0.9131 - val_loss: 0.3258 - val_accuracy: 0.9095\n",
            "Epoch 92/200\n",
            "1407/1407 [==============================] - 3s 2ms/step - loss: 0.3189 - accuracy: 0.9119 - val_loss: 0.3258 - val_accuracy: 0.9095\n",
            "Epoch 93/200\n",
            "1407/1407 [==============================] - 3s 2ms/step - loss: 0.3201 - accuracy: 0.9110 - val_loss: 0.3258 - val_accuracy: 0.9095\n",
            "Epoch 94/200\n",
            "1407/1407 [==============================] - 3s 2ms/step - loss: 0.3126 - accuracy: 0.9159 - val_loss: 0.3258 - val_accuracy: 0.9095\n",
            "Epoch 95/200\n",
            "1407/1407 [==============================] - 2s 2ms/step - loss: 0.3175 - accuracy: 0.9135 - val_loss: 0.3257 - val_accuracy: 0.9095\n",
            "Epoch 96/200\n",
            "1407/1407 [==============================] - 2s 2ms/step - loss: 0.3172 - accuracy: 0.9124 - val_loss: 0.3257 - val_accuracy: 0.9095\n",
            "Epoch 97/200\n",
            "1407/1407 [==============================] - 3s 2ms/step - loss: 0.3167 - accuracy: 0.9143 - val_loss: 0.3257 - val_accuracy: 0.9095\n",
            "Epoch 98/200\n",
            "1407/1407 [==============================] - 3s 2ms/step - loss: 0.3130 - accuracy: 0.9163 - val_loss: 0.3257 - val_accuracy: 0.9095\n",
            "Epoch 99/200\n",
            "1407/1407 [==============================] - 2s 2ms/step - loss: 0.3159 - accuracy: 0.9130 - val_loss: 0.3257 - val_accuracy: 0.9095\n",
            "Epoch 100/200\n",
            "1407/1407 [==============================] - 3s 2ms/step - loss: 0.3120 - accuracy: 0.9143 - val_loss: 0.3257 - val_accuracy: 0.9095\n",
            "Epoch 101/200\n",
            "1407/1407 [==============================] - 3s 2ms/step - loss: 0.3186 - accuracy: 0.9129 - val_loss: 0.3257 - val_accuracy: 0.9095\n",
            "Epoch 102/200\n",
            "1407/1407 [==============================] - 3s 2ms/step - loss: 0.3217 - accuracy: 0.9114 - val_loss: 0.3257 - val_accuracy: 0.9095\n",
            "Epoch 103/200\n",
            "1407/1407 [==============================] - 3s 2ms/step - loss: 0.3184 - accuracy: 0.9137 - val_loss: 0.3257 - val_accuracy: 0.9095\n",
            "Epoch 104/200\n",
            "1407/1407 [==============================] - 3s 2ms/step - loss: 0.3179 - accuracy: 0.9118 - val_loss: 0.3257 - val_accuracy: 0.9095\n",
            "Epoch 105/200\n",
            "1407/1407 [==============================] - 3s 2ms/step - loss: 0.3168 - accuracy: 0.9138 - val_loss: 0.3257 - val_accuracy: 0.9095\n",
            "Epoch 106/200\n",
            "1407/1407 [==============================] - 3s 2ms/step - loss: 0.3105 - accuracy: 0.9151 - val_loss: 0.3257 - val_accuracy: 0.9095\n",
            "Epoch 107/200\n",
            "1407/1407 [==============================] - 3s 2ms/step - loss: 0.3105 - accuracy: 0.9142 - val_loss: 0.3257 - val_accuracy: 0.9095\n",
            "Epoch 108/200\n",
            "1407/1407 [==============================] - 2s 2ms/step - loss: 0.3155 - accuracy: 0.9140 - val_loss: 0.3257 - val_accuracy: 0.9095\n",
            "Epoch 109/200\n",
            "1407/1407 [==============================] - 3s 2ms/step - loss: 0.3167 - accuracy: 0.9142 - val_loss: 0.3257 - val_accuracy: 0.9095\n",
            "Epoch 110/200\n",
            "1407/1407 [==============================] - 3s 2ms/step - loss: 0.3097 - accuracy: 0.9154 - val_loss: 0.3257 - val_accuracy: 0.9095\n",
            "Epoch 111/200\n",
            "1407/1407 [==============================] - 3s 2ms/step - loss: 0.3155 - accuracy: 0.9114 - val_loss: 0.3257 - val_accuracy: 0.9095\n",
            "Epoch 112/200\n",
            "1407/1407 [==============================] - 2s 2ms/step - loss: 0.3083 - accuracy: 0.9142 - val_loss: 0.3257 - val_accuracy: 0.9095\n",
            "Epoch 113/200\n",
            "1407/1407 [==============================] - 3s 2ms/step - loss: 0.3184 - accuracy: 0.9121 - val_loss: 0.3257 - val_accuracy: 0.9095\n",
            "Epoch 114/200\n",
            "1407/1407 [==============================] - 3s 2ms/step - loss: 0.3204 - accuracy: 0.9114 - val_loss: 0.3257 - val_accuracy: 0.9095\n",
            "Epoch 115/200\n",
            "1407/1407 [==============================] - 3s 2ms/step - loss: 0.3121 - accuracy: 0.9140 - val_loss: 0.3257 - val_accuracy: 0.9095\n",
            "Epoch 116/200\n",
            "1407/1407 [==============================] - 3s 2ms/step - loss: 0.3155 - accuracy: 0.9132 - val_loss: 0.3257 - val_accuracy: 0.9095\n",
            "Epoch 117/200\n",
            "1407/1407 [==============================] - 3s 2ms/step - loss: 0.3212 - accuracy: 0.9123 - val_loss: 0.3257 - val_accuracy: 0.9095\n",
            "Epoch 118/200\n",
            "1407/1407 [==============================] - 3s 2ms/step - loss: 0.3106 - accuracy: 0.9150 - val_loss: 0.3257 - val_accuracy: 0.9095\n",
            "Epoch 119/200\n",
            "1407/1407 [==============================] - 3s 2ms/step - loss: 0.3172 - accuracy: 0.9128 - val_loss: 0.3257 - val_accuracy: 0.9095\n",
            "Epoch 120/200\n",
            "1407/1407 [==============================] - 3s 2ms/step - loss: 0.3177 - accuracy: 0.9138 - val_loss: 0.3257 - val_accuracy: 0.9095\n",
            "Epoch 121/200\n",
            "1407/1407 [==============================] - 3s 2ms/step - loss: 0.3178 - accuracy: 0.9140 - val_loss: 0.3257 - val_accuracy: 0.9095\n",
            "Epoch 122/200\n",
            "1407/1407 [==============================] - 3s 2ms/step - loss: 0.3139 - accuracy: 0.9137 - val_loss: 0.3257 - val_accuracy: 0.9095\n",
            "Epoch 123/200\n",
            "1407/1407 [==============================] - 3s 2ms/step - loss: 0.3170 - accuracy: 0.9120 - val_loss: 0.3257 - val_accuracy: 0.9095\n",
            "Epoch 124/200\n",
            "1407/1407 [==============================] - 3s 2ms/step - loss: 0.3098 - accuracy: 0.9158 - val_loss: 0.3257 - val_accuracy: 0.9095\n",
            "Epoch 125/200\n",
            "1407/1407 [==============================] - 3s 2ms/step - loss: 0.3177 - accuracy: 0.9121 - val_loss: 0.3257 - val_accuracy: 0.9095\n",
            "Epoch 126/200\n",
            "1407/1407 [==============================] - 3s 2ms/step - loss: 0.3175 - accuracy: 0.9137 - val_loss: 0.3257 - val_accuracy: 0.9095\n",
            "Epoch 127/200\n",
            "1407/1407 [==============================] - 3s 2ms/step - loss: 0.3190 - accuracy: 0.9127 - val_loss: 0.3257 - val_accuracy: 0.9095\n",
            "Epoch 128/200\n",
            "1407/1407 [==============================] - 3s 2ms/step - loss: 0.3141 - accuracy: 0.9141 - val_loss: 0.3257 - val_accuracy: 0.9095\n",
            "Epoch 129/200\n",
            "1407/1407 [==============================] - 2s 2ms/step - loss: 0.3168 - accuracy: 0.9141 - val_loss: 0.3257 - val_accuracy: 0.9095\n",
            "Epoch 130/200\n",
            "1407/1407 [==============================] - 3s 2ms/step - loss: 0.3186 - accuracy: 0.9124 - val_loss: 0.3257 - val_accuracy: 0.9095\n",
            "Epoch 131/200\n",
            "1407/1407 [==============================] - 3s 2ms/step - loss: 0.3216 - accuracy: 0.9115 - val_loss: 0.3257 - val_accuracy: 0.9095\n",
            "Epoch 132/200\n",
            "1407/1407 [==============================] - 3s 2ms/step - loss: 0.3188 - accuracy: 0.9123 - val_loss: 0.3257 - val_accuracy: 0.9095\n",
            "Epoch 133/200\n",
            "1407/1407 [==============================] - 3s 2ms/step - loss: 0.3139 - accuracy: 0.9135 - val_loss: 0.3257 - val_accuracy: 0.9095\n",
            "Epoch 134/200\n",
            "1407/1407 [==============================] - 3s 2ms/step - loss: 0.3259 - accuracy: 0.9108 - val_loss: 0.3257 - val_accuracy: 0.9095\n",
            "Epoch 135/200\n",
            "1407/1407 [==============================] - 3s 2ms/step - loss: 0.3174 - accuracy: 0.9143 - val_loss: 0.3257 - val_accuracy: 0.9095\n",
            "Epoch 136/200\n",
            "1407/1407 [==============================] - 3s 2ms/step - loss: 0.3121 - accuracy: 0.9158 - val_loss: 0.3257 - val_accuracy: 0.9095\n",
            "Epoch 137/200\n",
            "1407/1407 [==============================] - 3s 2ms/step - loss: 0.3179 - accuracy: 0.9137 - val_loss: 0.3257 - val_accuracy: 0.9095\n",
            "Epoch 138/200\n",
            "1407/1407 [==============================] - 3s 2ms/step - loss: 0.3145 - accuracy: 0.9150 - val_loss: 0.3257 - val_accuracy: 0.9095\n",
            "Epoch 139/200\n",
            "1407/1407 [==============================] - 3s 2ms/step - loss: 0.3143 - accuracy: 0.9134 - val_loss: 0.3257 - val_accuracy: 0.9095\n",
            "Epoch 140/200\n",
            "1407/1407 [==============================] - 3s 2ms/step - loss: 0.3167 - accuracy: 0.9136 - val_loss: 0.3257 - val_accuracy: 0.9095\n",
            "Epoch 141/200\n",
            "1407/1407 [==============================] - 3s 2ms/step - loss: 0.3122 - accuracy: 0.9136 - val_loss: 0.3257 - val_accuracy: 0.9095\n",
            "Epoch 142/200\n",
            "1407/1407 [==============================] - 3s 2ms/step - loss: 0.3169 - accuracy: 0.9128 - val_loss: 0.3257 - val_accuracy: 0.9095\n",
            "Epoch 143/200\n",
            "1407/1407 [==============================] - 3s 2ms/step - loss: 0.3136 - accuracy: 0.9138 - val_loss: 0.3257 - val_accuracy: 0.9095\n",
            "Epoch 144/200\n",
            "1407/1407 [==============================] - 3s 2ms/step - loss: 0.3149 - accuracy: 0.9122 - val_loss: 0.3257 - val_accuracy: 0.9095\n",
            "Epoch 145/200\n",
            "1407/1407 [==============================] - 3s 2ms/step - loss: 0.3087 - accuracy: 0.9159 - val_loss: 0.3257 - val_accuracy: 0.9095\n",
            "Epoch 146/200\n",
            "1407/1407 [==============================] - 3s 2ms/step - loss: 0.3160 - accuracy: 0.9125 - val_loss: 0.3257 - val_accuracy: 0.9095\n",
            "Epoch 147/200\n",
            "1407/1407 [==============================] - 3s 2ms/step - loss: 0.3105 - accuracy: 0.9159 - val_loss: 0.3257 - val_accuracy: 0.9095\n",
            "Epoch 148/200\n",
            "1407/1407 [==============================] - 3s 2ms/step - loss: 0.3166 - accuracy: 0.9133 - val_loss: 0.3257 - val_accuracy: 0.9095\n",
            "Epoch 149/200\n",
            "1407/1407 [==============================] - 3s 2ms/step - loss: 0.3236 - accuracy: 0.9114 - val_loss: 0.3257 - val_accuracy: 0.9095\n",
            "Epoch 150/200\n",
            "1407/1407 [==============================] - 3s 2ms/step - loss: 0.3182 - accuracy: 0.9123 - val_loss: 0.3257 - val_accuracy: 0.9095\n",
            "Epoch 151/200\n",
            "1407/1407 [==============================] - 3s 2ms/step - loss: 0.3170 - accuracy: 0.9136 - val_loss: 0.3257 - val_accuracy: 0.9095\n",
            "Epoch 152/200\n",
            "1407/1407 [==============================] - 3s 2ms/step - loss: 0.3105 - accuracy: 0.9151 - val_loss: 0.3257 - val_accuracy: 0.9095\n",
            "Epoch 153/200\n",
            "1407/1407 [==============================] - 3s 2ms/step - loss: 0.3143 - accuracy: 0.9122 - val_loss: 0.3257 - val_accuracy: 0.9095\n",
            "Epoch 154/200\n",
            "1407/1407 [==============================] - 3s 2ms/step - loss: 0.3174 - accuracy: 0.9123 - val_loss: 0.3257 - val_accuracy: 0.9095\n",
            "Epoch 155/200\n",
            "1407/1407 [==============================] - 3s 2ms/step - loss: 0.3129 - accuracy: 0.9141 - val_loss: 0.3257 - val_accuracy: 0.9095\n",
            "Epoch 156/200\n",
            "1407/1407 [==============================] - 3s 2ms/step - loss: 0.3190 - accuracy: 0.9120 - val_loss: 0.3257 - val_accuracy: 0.9095\n",
            "Epoch 157/200\n",
            "1407/1407 [==============================] - 2s 2ms/step - loss: 0.3204 - accuracy: 0.9137 - val_loss: 0.3257 - val_accuracy: 0.9095\n",
            "Epoch 158/200\n",
            "1407/1407 [==============================] - 3s 2ms/step - loss: 0.3142 - accuracy: 0.9136 - val_loss: 0.3257 - val_accuracy: 0.9095\n",
            "Epoch 159/200\n",
            "1407/1407 [==============================] - 3s 2ms/step - loss: 0.3169 - accuracy: 0.9139 - val_loss: 0.3257 - val_accuracy: 0.9095\n",
            "Epoch 160/200\n",
            "1407/1407 [==============================] - 3s 2ms/step - loss: 0.3194 - accuracy: 0.9120 - val_loss: 0.3257 - val_accuracy: 0.9095\n",
            "Epoch 161/200\n",
            "1407/1407 [==============================] - 3s 2ms/step - loss: 0.3184 - accuracy: 0.9135 - val_loss: 0.3257 - val_accuracy: 0.9095\n",
            "Epoch 162/200\n",
            "1407/1407 [==============================] - 3s 2ms/step - loss: 0.3166 - accuracy: 0.9131 - val_loss: 0.3257 - val_accuracy: 0.9095\n",
            "Epoch 163/200\n",
            "1407/1407 [==============================] - 3s 2ms/step - loss: 0.3204 - accuracy: 0.9123 - val_loss: 0.3257 - val_accuracy: 0.9095\n",
            "Epoch 164/200\n",
            "1407/1407 [==============================] - 3s 2ms/step - loss: 0.3160 - accuracy: 0.9134 - val_loss: 0.3257 - val_accuracy: 0.9095\n",
            "Epoch 165/200\n",
            "1407/1407 [==============================] - 3s 2ms/step - loss: 0.3245 - accuracy: 0.9118 - val_loss: 0.3257 - val_accuracy: 0.9095\n",
            "Epoch 166/200\n",
            "1407/1407 [==============================] - 3s 2ms/step - loss: 0.3098 - accuracy: 0.9151 - val_loss: 0.3257 - val_accuracy: 0.9095\n",
            "Epoch 167/200\n",
            "1407/1407 [==============================] - 4s 3ms/step - loss: 0.3141 - accuracy: 0.9127 - val_loss: 0.3257 - val_accuracy: 0.9095\n",
            "Epoch 168/200\n",
            "1407/1407 [==============================] - 3s 2ms/step - loss: 0.3106 - accuracy: 0.9163 - val_loss: 0.3257 - val_accuracy: 0.9095\n",
            "Epoch 169/200\n",
            "1407/1407 [==============================] - 3s 2ms/step - loss: 0.3166 - accuracy: 0.9135 - val_loss: 0.3257 - val_accuracy: 0.9095\n",
            "Epoch 170/200\n",
            "1407/1407 [==============================] - 3s 2ms/step - loss: 0.3191 - accuracy: 0.9117 - val_loss: 0.3257 - val_accuracy: 0.9095\n",
            "Epoch 171/200\n",
            "1407/1407 [==============================] - 3s 2ms/step - loss: 0.3220 - accuracy: 0.9109 - val_loss: 0.3257 - val_accuracy: 0.9095\n",
            "Epoch 172/200\n",
            "1407/1407 [==============================] - 3s 2ms/step - loss: 0.3172 - accuracy: 0.9146 - val_loss: 0.3257 - val_accuracy: 0.9095\n",
            "Epoch 173/200\n",
            "1407/1407 [==============================] - 3s 2ms/step - loss: 0.3117 - accuracy: 0.9144 - val_loss: 0.3257 - val_accuracy: 0.9095\n",
            "Epoch 174/200\n",
            "1407/1407 [==============================] - 3s 2ms/step - loss: 0.3148 - accuracy: 0.9137 - val_loss: 0.3257 - val_accuracy: 0.9095\n",
            "Epoch 175/200\n",
            "1407/1407 [==============================] - 3s 2ms/step - loss: 0.3172 - accuracy: 0.9124 - val_loss: 0.3257 - val_accuracy: 0.9095\n",
            "Epoch 176/200\n",
            "1407/1407 [==============================] - 3s 2ms/step - loss: 0.3101 - accuracy: 0.9158 - val_loss: 0.3257 - val_accuracy: 0.9095\n",
            "Epoch 177/200\n",
            "1407/1407 [==============================] - 3s 2ms/step - loss: 0.3151 - accuracy: 0.9138 - val_loss: 0.3257 - val_accuracy: 0.9095\n",
            "Epoch 178/200\n",
            "1407/1407 [==============================] - 3s 2ms/step - loss: 0.3193 - accuracy: 0.9125 - val_loss: 0.3257 - val_accuracy: 0.9095\n",
            "Epoch 179/200\n",
            "1407/1407 [==============================] - 3s 2ms/step - loss: 0.3210 - accuracy: 0.9116 - val_loss: 0.3257 - val_accuracy: 0.9095\n",
            "Epoch 180/200\n",
            "1407/1407 [==============================] - 3s 2ms/step - loss: 0.3175 - accuracy: 0.9142 - val_loss: 0.3257 - val_accuracy: 0.9095\n",
            "Epoch 181/200\n",
            "1407/1407 [==============================] - 3s 2ms/step - loss: 0.3121 - accuracy: 0.9149 - val_loss: 0.3257 - val_accuracy: 0.9095\n",
            "Epoch 182/200\n",
            "1407/1407 [==============================] - 3s 2ms/step - loss: 0.3158 - accuracy: 0.9126 - val_loss: 0.3257 - val_accuracy: 0.9095\n"
          ],
          "name": "stdout"
        },
        {
          "output_type": "execute_result",
          "data": {
            "text/plain": [
              "<tensorflow.python.keras.callbacks.History at 0x7fd7f351d588>"
            ]
          },
          "metadata": {
            "tags": []
          },
          "execution_count": 19
        }
      ]
    },
    {
      "cell_type": "markdown",
      "metadata": {
        "id": "Eymk0rRSHIXA"
      },
      "source": [
        "## 7. Test your model on the test and extract relevant metrics"
      ]
    },
    {
      "cell_type": "code",
      "metadata": {
        "id": "K57XL0beHuV7",
        "outputId": "26e307cd-9d39-4b6a-e05e-df37cd0bacb7",
        "colab": {
          "base_uri": "https://localhost:8080/"
        }
      },
      "source": [
        "model.load_weights(model_name)\r\n",
        "metrics = model.evaluate(X_test, y_test_oh)\r\n",
        "print(\"Categorical cross-entropy:\", metrics[0])\r\n",
        "print(\"Accuracy:\", metrics[1])"
      ],
      "execution_count": 22,
      "outputs": [
        {
          "output_type": "stream",
          "text": [
            "313/313 [==============================] - 0s 924us/step - loss: 0.3092 - accuracy: 0.9159\n",
            "Categorical cross-entropy: 0.30919763445854187\n",
            "Accuracy: 0.9158999919891357\n"
          ],
          "name": "stdout"
        }
      ]
    },
    {
      "cell_type": "code",
      "metadata": {
        "id": "Kz4qAmwCH50H",
        "outputId": "d582f03a-8adb-4a85-e983-b233f168c865",
        "colab": {
          "base_uri": "https://localhost:8080/",
          "height": 1000
        }
      },
      "source": [
        "y_pred = model.predict(X_test).argmax(axis=1)\r\n",
        "wrong_indexes = np.where(y_pred != y_test)[0]\r\n",
        "sample_indexes = np.random.choice(np.arange(wrong_indexes.size, dtype=int), size=30, replace=False) # replace = False means we won't get duplicate values\r\n",
        "plt.figure(figsize=(24,18))\r\n",
        "for (ii,jj) in enumerate(sample_indexes):\r\n",
        "  plt.subplot(5,6, ii+1)\r\n",
        "  plt.imshow(X_test[wrong_indexes[jj]], cmap='gray')\r\n",
        "  plt.title(\"Label %d, predicted label: %d\" %(y_test[wrong_indexes[jj]], y_pred[wrong_indexes[jj]]))"
      ],
      "execution_count": 26,
      "outputs": [
        {
          "output_type": "display_data",
          "data": {
            "image/png": "[encoded data removed]",
            "text/plain": [
              "<Figure size 1728x1296 with 30 Axes>"
            ]
          },
          "metadata": {
            "tags": [],
            "needs_background": "light"
          }
        }
      ]
    },
    {
      "cell_type": "code",
      "metadata": {
        "id": "AmrABX2eJmIj"
      },
      "source": [
        ""
      ],
      "execution_count": null,
      "outputs": []
    }
  ]
}