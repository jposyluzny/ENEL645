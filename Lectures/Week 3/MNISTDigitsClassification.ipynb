{
  "nbformat": 4,
  "nbformat_minor": 0,
  "metadata": {
    "colab": {
      "name": "MNISTDigitsClassification.ipynb",
      "provenance": [],
      "authorship_tag": "ABX9TyPhzs5sgWYF7poPUauuHOKi",
      "include_colab_link": true
    },
    "kernelspec": {
      "name": "python3",
      "display_name": "Python 3"
    }
  },
  "cells": [
    {
      "cell_type": "markdown",
      "metadata": {
        "id": "view-in-github",
        "colab_type": "text"
      },
      "source": [
        "<a href=\"https://colab.research.google.com/github/jposyluzny/ENEL645/blob/main/Lectures/Week%203/MNISTDigitsClassification.ipynb\" target=\"_parent\"><img src=\"https://colab.research.google.com/assets/colab-badge.svg\" alt=\"Open In Colab\"/></a>"
      ]
    },
    {
      "cell_type": "markdown",
      "metadata": {
        "id": "JW3X58NvgBLW"
      },
      "source": [
        "#Step-by-step MNIST Digits Classification - Fully Connected Neural Networks\r\n",
        "1. Load dataset, explore it (display images, mean, min, max values, etc.) and split it into train, validation and test sets\r\n",
        "2. Data scaling\r\n",
        "3. One hot encoding\r\n",
        "4. Define your model, cost function, optimizer, learning rate\r\n",
        "5. Define your callbacks (save your model, patience, etc.)\r\n",
        "6. Train your model\r\n",
        " <br> 6.1 If you are satisfied with the train and validation performance go to the next step\r\n",
        "  <br> 6.2 If you are not satisfied with the train and validation performance go back to step 5\r\n",
        "\r\n",
        "7. Test your model on the test and extract relevant metrics"
      ]
    },
    {
      "cell_type": "code",
      "metadata": {
        "id": "rzioY3uogZwM"
      },
      "source": [
        "%matplotlib inline\r\n",
        "import matplotlib.pylab as plt\r\n",
        "import numpy as np\r\n",
        "import tensorflow as tf"
      ],
      "execution_count": 1,
      "outputs": []
    },
    {
      "cell_type": "markdown",
      "metadata": {
        "id": "cSCxUrFFgcwQ"
      },
      "source": [
        ""
      ]
    }
  ]
}